{
 "cells": [
  {
   "cell_type": "markdown",
   "metadata": {},
   "source": [
    "# **Response to mailings - Part 2 notebook**\n",
    "In this notebook we evaluate several machine learning models and identify the best feature to predict mailings response "
   ]
  },
  {
   "cell_type": "markdown",
   "metadata": {},
   "source": [
    "# Table of contents"
   ]
  },
  {
   "cell_type": "markdown",
   "metadata": {},
   "source": [
    "1. [Overview](#Overview)\n",
    "2. [Data Processing](#Data_Understanding)\n",
    "3. [Data Modelling](#Data_Modelling)\n",
    "3. [Model Evaluation](#Model_Evaluation)\n",
    "4. [Conclusion](#Conclusion)"
   ]
  },
  {
   "cell_type": "markdown",
   "metadata": {},
   "source": [
    "# 1. Overview"
   ]
  },
  {
   "cell_type": "markdown",
   "metadata": {},
   "source": [
    "In this notebook I will try and answer the following questions that could possible help the business to improve mailing campaigns:\n",
    "* Can the response to mailings be predicted?\n",
    "* Which features could be most important to the response?\n",
    "* Can we identify an ideal mailing target individual?<br>\n",
    "\n",
    "I will be using data modeling and feature engineering to prepare the data, where I will then evaluate different types of prediction models and pick the best one that performs will with the data."
   ]
  },
  {
   "cell_type": "markdown",
   "metadata": {},
   "source": [
    "<a id='Data_Understanding'></a>\n",
    "# 2. Data processing: \n",
    "- features engineering\n",
    "- encoding categorical features\n",
    "- scaling numerical features"
   ]
  },
  {
   "cell_type": "markdown",
   "metadata": {},
   "source": [
    "### Importing Libraries"
   ]
  },
  {
   "cell_type": "code",
   "execution_count": 21,
   "metadata": {},
   "outputs": [],
   "source": [
    "# base\n",
    "import os\n",
    "import sys\n",
    "import time\n",
    "import numpy as np\n",
    "import pandas as pd\n",
    "import matplotlib.pyplot as plt\n",
    "import seaborn as sns\n",
    "\n",
    "import pickle\n",
    "%matplotlib inline\n",
    "from sklearn.preprocessing import MinMaxScaler\n",
    "# models\n",
    "import sklearn.ensemble\n",
    "from sklearn.dummy import DummyClassifier\n",
    "from sklearn.naive_bayes import BernoulliNB\n",
    "from sklearn.linear_model import LogisticRegression\n",
    "from sklearn.linear_model import Perceptron\n",
    "from sklearn.ensemble import RandomForestClassifier\n",
    "from sklearn.neighbors import KNeighborsClassifier\n",
    "from sklearn.svm import SVC\n",
    "import xgboost as xgb\n",
    "\n",
    "\n",
    "# evaluation\n",
    "\n",
    "from sklearn import feature_selection\n",
    "from sklearn import model_selection\n",
    "\n",
    "from sklearn.metrics import classification_report, accuracy_score, f1_score, precision_score, recall_score\n",
    "from scipy.stats import pearsonr\n",
    "from sklearn.model_selection import learning_curve, ShuffleSplit, StratifiedKFold\n",
    "\n",
    "from sklearn.metrics import accuracy_score, f1_score, precision_score, recall_score, classification_report, confusion_matrix\n",
    "\n",
    "from sklearn.model_selection import train_test_split, cross_val_score, RandomizedSearchCV\n",
    "\n"
   ]
  },
  {
   "cell_type": "markdown",
   "metadata": {},
   "source": [
    "### Loading Data"
   ]
  },
  {
   "cell_type": "code",
   "execution_count": 13,
   "metadata": {},
   "outputs": [],
   "source": [
    "# Loading csv and pickle files into dataframe or list\n",
    "df_mailings = pd.read_csv('data/population.csv')"
   ]
  },
  {
   "cell_type": "code",
   "execution_count": 14,
   "metadata": {},
   "outputs": [],
   "source": [
    "# eliminate useless features\n",
    "df_mailings = df_mailings.drop(['Unnamed: 0', 'label'], axis=1)"
   ]
  },
  {
   "cell_type": "code",
   "execution_count": 15,
   "metadata": {},
   "outputs": [],
   "source": [
    "# group zip codes by bins of 10000 \n",
    "df_mailings['zipcode_group'] = df_mailings['zip code']//10000"
   ]
  },
  {
   "cell_type": "code",
   "execution_count": 16,
   "metadata": {},
   "outputs": [
    {
     "data": {
      "text/html": [
       "<div>\n",
       "<style scoped>\n",
       "    .dataframe tbody tr th:only-of-type {\n",
       "        vertical-align: middle;\n",
       "    }\n",
       "\n",
       "    .dataframe tbody tr th {\n",
       "        vertical-align: top;\n",
       "    }\n",
       "\n",
       "    .dataframe thead th {\n",
       "        text-align: right;\n",
       "    }\n",
       "</style>\n",
       "<table border=\"1\" class=\"dataframe\">\n",
       "  <thead>\n",
       "    <tr style=\"text-align: right;\">\n",
       "      <th></th>\n",
       "      <th>name</th>\n",
       "      <th>age</th>\n",
       "      <th>lifestyle</th>\n",
       "      <th>zip code</th>\n",
       "      <th>family status</th>\n",
       "      <th>car</th>\n",
       "      <th>sports</th>\n",
       "      <th>earnings</th>\n",
       "      <th>living area</th>\n",
       "      <th>response</th>\n",
       "      <th>zipcode_group</th>\n",
       "    </tr>\n",
       "  </thead>\n",
       "  <tbody>\n",
       "    <tr>\n",
       "      <th>0</th>\n",
       "      <td>VnSEFOuL</td>\n",
       "      <td>62</td>\n",
       "      <td>cozily</td>\n",
       "      <td>50168</td>\n",
       "      <td>married</td>\n",
       "      <td>practical</td>\n",
       "      <td>athletics</td>\n",
       "      <td>102526</td>\n",
       "      <td>urban</td>\n",
       "      <td>0</td>\n",
       "      <td>5</td>\n",
       "    </tr>\n",
       "    <tr>\n",
       "      <th>1</th>\n",
       "      <td>8Tv0hcce</td>\n",
       "      <td>34</td>\n",
       "      <td>active</td>\n",
       "      <td>66479</td>\n",
       "      <td>married</td>\n",
       "      <td>expensive</td>\n",
       "      <td>soccer</td>\n",
       "      <td>33006</td>\n",
       "      <td>urban</td>\n",
       "      <td>0</td>\n",
       "      <td>6</td>\n",
       "    </tr>\n",
       "    <tr>\n",
       "      <th>2</th>\n",
       "      <td>Zny9ysbk</td>\n",
       "      <td>69</td>\n",
       "      <td>healthy</td>\n",
       "      <td>16592</td>\n",
       "      <td>single</td>\n",
       "      <td>expensive</td>\n",
       "      <td>badminton</td>\n",
       "      <td>118760</td>\n",
       "      <td>urban</td>\n",
       "      <td>1</td>\n",
       "      <td>1</td>\n",
       "    </tr>\n",
       "  </tbody>\n",
       "</table>\n",
       "</div>"
      ],
      "text/plain": [
       "       name  age lifestyle  zip code family status        car     sports  \\\n",
       "0  VnSEFOuL   62    cozily     50168       married  practical  athletics   \n",
       "1  8Tv0hcce   34    active     66479       married  expensive     soccer   \n",
       "2  Zny9ysbk   69   healthy     16592        single  expensive  badminton   \n",
       "\n",
       "   earnings living area  response  zipcode_group  \n",
       "0    102526       urban         0              5  \n",
       "1     33006       urban         0              6  \n",
       "2    118760       urban         1              1  "
      ]
     },
     "execution_count": 16,
     "metadata": {},
     "output_type": "execute_result"
    }
   ],
   "source": [
    "# Displaying all columns\n",
    "pd.set_option('display.max_columns', None)\n",
    "# show listings data sample\n",
    "df_mailings.head(3)"
   ]
  },
  {
   "cell_type": "markdown",
   "metadata": {},
   "source": [
    "### 2.1 Binary encoding:\n",
    "\n",
    "- lives in New York state?\n",
    "- married?\n",
    "- owns an expensive car?\n",
    "- urban citizen?\n",
    "\n",
    "Yes = 1\n",
    "No = 0"
   ]
  },
  {
   "cell_type": "code",
   "execution_count": 17,
   "metadata": {},
   "outputs": [],
   "source": [
    "binary_features = ['family status', 'car', 'living area']\n",
    "positive_values = ['married', 'expensive', 'urban']"
   ]
  },
  {
   "cell_type": "code",
   "execution_count": 18,
   "metadata": {},
   "outputs": [],
   "source": [
    "def make_binary_feature(df, variables, positives):\n",
    "    \n",
    "    \"\"\"\n",
    "    Creates one binary encoding for the specified column\n",
    "    using the unique items specified\n",
    "    \n",
    "    Parameters:\n",
    "    \n",
    "    Dataframe, variables(list of strings), unique_items(list)\n",
    "    \n",
    "    Returns:\n",
    "    \n",
    "    Dataframe\n",
    "    \n",
    "    \"\"\"\n",
    "    for variable in variables: \n",
    "       \n",
    "        item_lists = df[variable]\n",
    "\n",
    "        # Loop through all the labels\n",
    "        for label in positives:\n",
    "\n",
    "            # Creating new column for each label\n",
    "            df[variable+'_n'] = item_lists.apply(lambda x: 1 if label in x else 0)\n",
    "\n",
    "        # Removing old column\n",
    "        del df[variable]\n",
    "            \n",
    "    # Return the results as a dataframe\n",
    "    "
   ]
  },
  {
   "cell_type": "code",
   "execution_count": 19,
   "metadata": {},
   "outputs": [],
   "source": [
    "make_binary_feature(df_mailings, binary_features, positive_values)"
   ]
  },
  {
   "cell_type": "code",
   "execution_count": 20,
   "metadata": {},
   "outputs": [],
   "source": [
    "df_mailings.rename(columns = {'family status_n' : 'married', 'car_n' : 'expensive car owner', 'living area_n':'urban citizen'}, inplace = True)"
   ]
  },
  {
   "cell_type": "markdown",
   "metadata": {},
   "source": [
    "### 2.2 One hot encoding:\n",
    "\n",
    "- sport\n",
    "- lyfestyle\n"
   ]
  },
  {
   "cell_type": "code",
   "execution_count": 57,
   "metadata": {},
   "outputs": [],
   "source": [
    "categorical_features = ['sports', 'lifestyle','zipcode_group']"
   ]
  },
  {
   "cell_type": "code",
   "execution_count": 58,
   "metadata": {},
   "outputs": [],
   "source": [
    "def onehot_df(df, variables):\n",
    "    \n",
    "    \"\"\"\n",
    "    Creates one hot encoding for the specified columns\n",
    "    using the unique items specified\n",
    "    \n",
    "    Parameters:\n",
    "    \n",
    "    Dataframe, variables(list of strings)\n",
    "    \n",
    "    Returns:\n",
    "    \n",
    "    Dataframe\n",
    "    \n",
    "    \"\"\"\n",
    "    \n",
    "    for variable in variables: \n",
    "        # use pd.concat to join the new columns with your original dataframe\n",
    "        df = pd.concat([df,pd.get_dummies(df[variable], prefix=variable)],axis=1)\n",
    "\n",
    "# now drop the original variable column (you don't need it anymore)\n",
    "        # Removing old column\n",
    "        del df[variable]        \n",
    "        # Return the results as a dataframe\n",
    "    return df"
   ]
  },
  {
   "cell_type": "code",
   "execution_count": 59,
   "metadata": {},
   "outputs": [],
   "source": [
    "df_encoded = onehot_df(df_mailings, categorical_features)"
   ]
  },
  {
   "cell_type": "markdown",
   "metadata": {},
   "source": [
    "### 2.3 Scaling numerical features:\n",
    "\n",
    "- age\n",
    "- earnings\n"
   ]
  },
  {
   "cell_type": "code",
   "execution_count": 60,
   "metadata": {},
   "outputs": [],
   "source": [
    "min_max_scaler = MinMaxScaler()\n",
    "df_encoded[[\"age\", \"earnings\"]] = min_max_scaler.fit_transform(df_encoded[[\"age\", \"earnings\"]])"
   ]
  },
  {
   "cell_type": "code",
   "execution_count": 61,
   "metadata": {},
   "outputs": [],
   "source": [
    "# Dropping unwanted columns\n",
    "df_encoded = df_encoded.drop(['name', 'zip code'], axis=1)"
   ]
  },
  {
   "cell_type": "code",
   "execution_count": 62,
   "metadata": {},
   "outputs": [
    {
     "data": {
      "text/html": [
       "<div>\n",
       "<style scoped>\n",
       "    .dataframe tbody tr th:only-of-type {\n",
       "        vertical-align: middle;\n",
       "    }\n",
       "\n",
       "    .dataframe tbody tr th {\n",
       "        vertical-align: top;\n",
       "    }\n",
       "\n",
       "    .dataframe thead th {\n",
       "        text-align: right;\n",
       "    }\n",
       "</style>\n",
       "<table border=\"1\" class=\"dataframe\">\n",
       "  <thead>\n",
       "    <tr style=\"text-align: right;\">\n",
       "      <th></th>\n",
       "      <th>age</th>\n",
       "      <th>earnings</th>\n",
       "      <th>response</th>\n",
       "      <th>married</th>\n",
       "      <th>expensive car owner</th>\n",
       "      <th>urban citizen</th>\n",
       "      <th>sports_athletics</th>\n",
       "      <th>sports_badminton</th>\n",
       "      <th>sports_soccer</th>\n",
       "      <th>sports_unknown</th>\n",
       "      <th>lifestyle_active</th>\n",
       "      <th>lifestyle_cozily</th>\n",
       "      <th>lifestyle_healthy</th>\n",
       "      <th>zipcode_group_1</th>\n",
       "      <th>zipcode_group_2</th>\n",
       "      <th>zipcode_group_3</th>\n",
       "      <th>zipcode_group_4</th>\n",
       "      <th>zipcode_group_5</th>\n",
       "      <th>zipcode_group_6</th>\n",
       "      <th>zipcode_group_7</th>\n",
       "      <th>zipcode_group_8</th>\n",
       "      <th>zipcode_group_9</th>\n",
       "    </tr>\n",
       "  </thead>\n",
       "  <tbody>\n",
       "    <tr>\n",
       "      <th>0</th>\n",
       "      <td>0.870370</td>\n",
       "      <td>0.634921</td>\n",
       "      <td>0</td>\n",
       "      <td>0</td>\n",
       "      <td>0</td>\n",
       "      <td>1</td>\n",
       "      <td>1</td>\n",
       "      <td>0</td>\n",
       "      <td>0</td>\n",
       "      <td>0</td>\n",
       "      <td>0</td>\n",
       "      <td>1</td>\n",
       "      <td>0</td>\n",
       "      <td>0</td>\n",
       "      <td>0</td>\n",
       "      <td>0</td>\n",
       "      <td>0</td>\n",
       "      <td>1</td>\n",
       "      <td>0</td>\n",
       "      <td>0</td>\n",
       "      <td>0</td>\n",
       "      <td>0</td>\n",
       "    </tr>\n",
       "    <tr>\n",
       "      <th>1</th>\n",
       "      <td>0.351852</td>\n",
       "      <td>0.100024</td>\n",
       "      <td>0</td>\n",
       "      <td>0</td>\n",
       "      <td>0</td>\n",
       "      <td>1</td>\n",
       "      <td>0</td>\n",
       "      <td>0</td>\n",
       "      <td>1</td>\n",
       "      <td>0</td>\n",
       "      <td>1</td>\n",
       "      <td>0</td>\n",
       "      <td>0</td>\n",
       "      <td>0</td>\n",
       "      <td>0</td>\n",
       "      <td>0</td>\n",
       "      <td>0</td>\n",
       "      <td>0</td>\n",
       "      <td>1</td>\n",
       "      <td>0</td>\n",
       "      <td>0</td>\n",
       "      <td>0</td>\n",
       "    </tr>\n",
       "    <tr>\n",
       "      <th>2</th>\n",
       "      <td>1.000000</td>\n",
       "      <td>0.759827</td>\n",
       "      <td>1</td>\n",
       "      <td>0</td>\n",
       "      <td>0</td>\n",
       "      <td>1</td>\n",
       "      <td>0</td>\n",
       "      <td>1</td>\n",
       "      <td>0</td>\n",
       "      <td>0</td>\n",
       "      <td>0</td>\n",
       "      <td>0</td>\n",
       "      <td>1</td>\n",
       "      <td>1</td>\n",
       "      <td>0</td>\n",
       "      <td>0</td>\n",
       "      <td>0</td>\n",
       "      <td>0</td>\n",
       "      <td>0</td>\n",
       "      <td>0</td>\n",
       "      <td>0</td>\n",
       "      <td>0</td>\n",
       "    </tr>\n",
       "    <tr>\n",
       "      <th>3</th>\n",
       "      <td>0.777778</td>\n",
       "      <td>0.857304</td>\n",
       "      <td>1</td>\n",
       "      <td>0</td>\n",
       "      <td>0</td>\n",
       "      <td>1</td>\n",
       "      <td>0</td>\n",
       "      <td>0</td>\n",
       "      <td>1</td>\n",
       "      <td>0</td>\n",
       "      <td>0</td>\n",
       "      <td>1</td>\n",
       "      <td>0</td>\n",
       "      <td>0</td>\n",
       "      <td>0</td>\n",
       "      <td>0</td>\n",
       "      <td>0</td>\n",
       "      <td>1</td>\n",
       "      <td>0</td>\n",
       "      <td>0</td>\n",
       "      <td>0</td>\n",
       "      <td>0</td>\n",
       "    </tr>\n",
       "    <tr>\n",
       "      <th>4</th>\n",
       "      <td>0.944444</td>\n",
       "      <td>0.584732</td>\n",
       "      <td>1</td>\n",
       "      <td>0</td>\n",
       "      <td>0</td>\n",
       "      <td>1</td>\n",
       "      <td>0</td>\n",
       "      <td>1</td>\n",
       "      <td>0</td>\n",
       "      <td>0</td>\n",
       "      <td>0</td>\n",
       "      <td>1</td>\n",
       "      <td>0</td>\n",
       "      <td>0</td>\n",
       "      <td>0</td>\n",
       "      <td>1</td>\n",
       "      <td>0</td>\n",
       "      <td>0</td>\n",
       "      <td>0</td>\n",
       "      <td>0</td>\n",
       "      <td>0</td>\n",
       "      <td>0</td>\n",
       "    </tr>\n",
       "    <tr>\n",
       "      <th>5</th>\n",
       "      <td>0.111111</td>\n",
       "      <td>0.487578</td>\n",
       "      <td>0</td>\n",
       "      <td>0</td>\n",
       "      <td>0</td>\n",
       "      <td>1</td>\n",
       "      <td>0</td>\n",
       "      <td>1</td>\n",
       "      <td>0</td>\n",
       "      <td>0</td>\n",
       "      <td>0</td>\n",
       "      <td>0</td>\n",
       "      <td>1</td>\n",
       "      <td>0</td>\n",
       "      <td>0</td>\n",
       "      <td>0</td>\n",
       "      <td>0</td>\n",
       "      <td>0</td>\n",
       "      <td>1</td>\n",
       "      <td>0</td>\n",
       "      <td>0</td>\n",
       "      <td>0</td>\n",
       "    </tr>\n",
       "    <tr>\n",
       "      <th>6</th>\n",
       "      <td>0.129630</td>\n",
       "      <td>0.229439</td>\n",
       "      <td>0</td>\n",
       "      <td>0</td>\n",
       "      <td>0</td>\n",
       "      <td>0</td>\n",
       "      <td>0</td>\n",
       "      <td>1</td>\n",
       "      <td>0</td>\n",
       "      <td>0</td>\n",
       "      <td>0</td>\n",
       "      <td>0</td>\n",
       "      <td>1</td>\n",
       "      <td>0</td>\n",
       "      <td>0</td>\n",
       "      <td>0</td>\n",
       "      <td>0</td>\n",
       "      <td>0</td>\n",
       "      <td>1</td>\n",
       "      <td>0</td>\n",
       "      <td>0</td>\n",
       "      <td>0</td>\n",
       "    </tr>\n",
       "    <tr>\n",
       "      <th>7</th>\n",
       "      <td>0.814815</td>\n",
       "      <td>0.162808</td>\n",
       "      <td>1</td>\n",
       "      <td>0</td>\n",
       "      <td>0</td>\n",
       "      <td>1</td>\n",
       "      <td>0</td>\n",
       "      <td>0</td>\n",
       "      <td>1</td>\n",
       "      <td>0</td>\n",
       "      <td>0</td>\n",
       "      <td>1</td>\n",
       "      <td>0</td>\n",
       "      <td>0</td>\n",
       "      <td>0</td>\n",
       "      <td>0</td>\n",
       "      <td>1</td>\n",
       "      <td>0</td>\n",
       "      <td>0</td>\n",
       "      <td>0</td>\n",
       "      <td>0</td>\n",
       "      <td>0</td>\n",
       "    </tr>\n",
       "    <tr>\n",
       "      <th>8</th>\n",
       "      <td>0.888889</td>\n",
       "      <td>0.879702</td>\n",
       "      <td>1</td>\n",
       "      <td>0</td>\n",
       "      <td>0</td>\n",
       "      <td>1</td>\n",
       "      <td>0</td>\n",
       "      <td>1</td>\n",
       "      <td>0</td>\n",
       "      <td>0</td>\n",
       "      <td>1</td>\n",
       "      <td>0</td>\n",
       "      <td>0</td>\n",
       "      <td>0</td>\n",
       "      <td>0</td>\n",
       "      <td>0</td>\n",
       "      <td>0</td>\n",
       "      <td>1</td>\n",
       "      <td>0</td>\n",
       "      <td>0</td>\n",
       "      <td>0</td>\n",
       "      <td>0</td>\n",
       "    </tr>\n",
       "    <tr>\n",
       "      <th>9</th>\n",
       "      <td>0.296296</td>\n",
       "      <td>0.682386</td>\n",
       "      <td>0</td>\n",
       "      <td>0</td>\n",
       "      <td>0</td>\n",
       "      <td>0</td>\n",
       "      <td>1</td>\n",
       "      <td>0</td>\n",
       "      <td>0</td>\n",
       "      <td>0</td>\n",
       "      <td>1</td>\n",
       "      <td>0</td>\n",
       "      <td>0</td>\n",
       "      <td>0</td>\n",
       "      <td>0</td>\n",
       "      <td>1</td>\n",
       "      <td>0</td>\n",
       "      <td>0</td>\n",
       "      <td>0</td>\n",
       "      <td>0</td>\n",
       "      <td>0</td>\n",
       "      <td>0</td>\n",
       "    </tr>\n",
       "  </tbody>\n",
       "</table>\n",
       "</div>"
      ],
      "text/plain": [
       "        age  earnings  response  married  expensive car owner  urban citizen  \\\n",
       "0  0.870370  0.634921         0        0                    0              1   \n",
       "1  0.351852  0.100024         0        0                    0              1   \n",
       "2  1.000000  0.759827         1        0                    0              1   \n",
       "3  0.777778  0.857304         1        0                    0              1   \n",
       "4  0.944444  0.584732         1        0                    0              1   \n",
       "5  0.111111  0.487578         0        0                    0              1   \n",
       "6  0.129630  0.229439         0        0                    0              0   \n",
       "7  0.814815  0.162808         1        0                    0              1   \n",
       "8  0.888889  0.879702         1        0                    0              1   \n",
       "9  0.296296  0.682386         0        0                    0              0   \n",
       "\n",
       "   sports_athletics  sports_badminton  sports_soccer  sports_unknown  \\\n",
       "0                 1                 0              0               0   \n",
       "1                 0                 0              1               0   \n",
       "2                 0                 1              0               0   \n",
       "3                 0                 0              1               0   \n",
       "4                 0                 1              0               0   \n",
       "5                 0                 1              0               0   \n",
       "6                 0                 1              0               0   \n",
       "7                 0                 0              1               0   \n",
       "8                 0                 1              0               0   \n",
       "9                 1                 0              0               0   \n",
       "\n",
       "   lifestyle_active  lifestyle_cozily  lifestyle_healthy  zipcode_group_1  \\\n",
       "0                 0                 1                  0                0   \n",
       "1                 1                 0                  0                0   \n",
       "2                 0                 0                  1                1   \n",
       "3                 0                 1                  0                0   \n",
       "4                 0                 1                  0                0   \n",
       "5                 0                 0                  1                0   \n",
       "6                 0                 0                  1                0   \n",
       "7                 0                 1                  0                0   \n",
       "8                 1                 0                  0                0   \n",
       "9                 1                 0                  0                0   \n",
       "\n",
       "   zipcode_group_2  zipcode_group_3  zipcode_group_4  zipcode_group_5  \\\n",
       "0                0                0                0                1   \n",
       "1                0                0                0                0   \n",
       "2                0                0                0                0   \n",
       "3                0                0                0                1   \n",
       "4                0                1                0                0   \n",
       "5                0                0                0                0   \n",
       "6                0                0                0                0   \n",
       "7                0                0                1                0   \n",
       "8                0                0                0                1   \n",
       "9                0                1                0                0   \n",
       "\n",
       "   zipcode_group_6  zipcode_group_7  zipcode_group_8  zipcode_group_9  \n",
       "0                0                0                0                0  \n",
       "1                1                0                0                0  \n",
       "2                0                0                0                0  \n",
       "3                0                0                0                0  \n",
       "4                0                0                0                0  \n",
       "5                1                0                0                0  \n",
       "6                1                0                0                0  \n",
       "7                0                0                0                0  \n",
       "8                0                0                0                0  \n",
       "9                0                0                0                0  "
      ]
     },
     "execution_count": 62,
     "metadata": {},
     "output_type": "execute_result"
    }
   ],
   "source": [
    "df_encoded.head(10)"
   ]
  },
  {
   "cell_type": "markdown",
   "metadata": {},
   "source": [
    "<a id='Data_Modelling'></a>\n",
    "## 3. Data Modeling\n",
    "\n",
    "Now we are ready to train a model and predict the required solution. There are 60+ predictive modelling algorithms to choose from. We must understand the type of problem and solution requirement to narrow down to a select few models which we can evaluate. Our problem is a classification and regression problem. We want to identify relationship between output (response or not) with other variables or features (income, age, lifestyle...). We are also perfoming a category of machine learning which is called supervised learning as we are training our model with a given dataset. With these two criteria - Supervised Learning plus Classification and Regression, we can narrow down our choice of models to a few. These include:\n",
    "\n",
    "    - Logistic Regression\n",
    "    - KNN or k-Nearest Neighbors\n",
    "    - Support Vector Machines\n",
    "    - Naive Bayes Bernoulli classifier\n",
    "    - Random Forest\n",
    "    - XG-Boost\n",
    "    - Perceptron\n",
    "\n"
   ]
  },
  {
   "cell_type": "markdown",
   "metadata": {},
   "source": [
    "### 3.1 Identify target and predictors"
   ]
  },
  {
   "cell_type": "code",
   "execution_count": 63,
   "metadata": {},
   "outputs": [],
   "source": [
    "# Extract features and labels\n",
    "X = df_encoded.drop(\"response\", axis=1) # drop labels for training set\n",
    "y = df_encoded[\"response\"].copy()\n",
    "\n",
    "# List of features for later use\n",
    "X_columns = list(X.columns)"
   ]
  },
  {
   "cell_type": "markdown",
   "metadata": {},
   "source": [
    "#### Train / Test split"
   ]
  },
  {
   "cell_type": "code",
   "execution_count": 64,
   "metadata": {},
   "outputs": [],
   "source": [
    "# Applying the train / test split \n",
    "X_train, X_test, y_train, y_test = train_test_split(X,y,test_size=0.2, random_state=42)\n"
   ]
  },
  {
   "cell_type": "code",
   "execution_count": 65,
   "metadata": {},
   "outputs": [
    {
     "name": "stdout",
     "output_type": "stream",
     "text": [
      "(8000, 21)\n",
      "(2000, 21)\n",
      "(8000,)\n",
      "(2000,)\n"
     ]
    }
   ],
   "source": [
    "# Confirming the rows and columns are the \n",
    "# same for train and test data\n",
    "print(X_train.shape)\n",
    "print(X_test.shape)\n",
    "print(y_train.shape)\n",
    "print(y_test.shape)"
   ]
  },
  {
   "cell_type": "markdown",
   "metadata": {},
   "source": [
    "<a id='Model_Evaluation'></a>\n",
    "## 4. Model evaluation\n",
    "\n",
    "Compare results from several machine learning classification models"
   ]
  },
  {
   "cell_type": "markdown",
   "metadata": {},
   "source": [
    "When it comes to data modeling, the beginner’s question is always, \"what is the best machine learning algorithm?\" To this the beginner must learn, the No Free Lunch Theorem (NFLT) of Machine Learning. In short, NFLT states, there is no super algorithm, that works best in all situations, for all datasets. So the best approach is to try multiple MLAs, tune them, and compare them for your specific scenario.\n"
   ]
  },
  {
   "cell_type": "code",
   "execution_count": 66,
   "metadata": {},
   "outputs": [],
   "source": [
    "#Machine Learning Algorithm (MLA) Selection and Initialization\n",
    "Dummy_frequent = DummyClassifier(random_state=0, strategy=\"most_frequent\")# Dummy Classifier (baseline)\n",
    "Logistic_Regression = LogisticRegression()\n",
    "Bernoulli_Naive_Bayes = BernoulliNB() # naive Bayes algorithm for multinomially distributed data,\n",
    "Support_Vector_Classifier = SVC()\n",
    "Perceptron_Classifier = Perceptron()\n",
    "Random_Forest = RandomForestClassifier()\n",
    "KNN = KNeighborsClassifier(n_neighbors = 3)\n",
    "XG_boost = xgb.XGBClassifier(objective='binary:logistic',random_state=42)\n",
    "\n",
    "MLA = [Dummy_frequent,Logistic_Regression, Support_Vector_Classifier, Bernoulli_Naive_Bayes, Perceptron_Classifier, Random_Forest, KNN, XG_boost]"
   ]
  },
  {
   "cell_type": "code",
   "execution_count": 85,
   "metadata": {},
   "outputs": [],
   "source": [
    "def compare_classifiers(models_list):    \n",
    "    MLA_names = []\n",
    "    fit_times =[]\n",
    "    acc_scores = []\n",
    "    f1_scores = []\n",
    "    precision_scores = []\n",
    "    recall_scores = []\n",
    "       \n",
    "    for alg in MLA:\n",
    "        MLA_name = alg.__class__.__name__\n",
    "                \n",
    "        #initiate time count\n",
    "        global _start_time \n",
    "        start_time = time.time()\n",
    "     \n",
    "        alg.fit(X_train, y_train) # MLA fit\n",
    "                \n",
    "        y_pred = alg.predict(X_test) #MLA_predict\n",
    "        # estimate time elapsed\n",
    "        time_taken = round(((time.time() - start_time) / 60),3)\n",
    "        #model scores  \n",
    "        score = accuracy_score(y_test, y_pred)\n",
    "\n",
    "        F1 = f1_score(y_test, y_pred)\n",
    "\n",
    "        precision = precision_score(y_test, y_pred)\n",
    "\n",
    "        recall = recall_score(y_test, y_pred)\n",
    "\n",
    "        # add results to lists for a final comparison\n",
    "        MLA_names.append(MLA_name)\n",
    "        fit_times.append(time_taken)\n",
    "        acc_scores.append(round(score, 2))\n",
    "        precision_scores.append(round(precision, 2))\n",
    "        recall_scores.append(round(recall, 2))\n",
    "        f1_scores.append(round(F1, 2))\n",
    "    \n",
    "    #create table to compare MLA metrics\n",
    "    MLA_columns = ['MLA Name', 'Fit_time', 'Accuracy', 'Precision', 'Recall', 'F1']\n",
    "    zippedList =  list(zip(MLA_names, fit_times, acc_scores, f1_scores, precision_scores, recall_scores))\n",
    "    df = pd.DataFrame(zippedList, columns = MLA_columns).sort_values(by=['Recall'],ascending=False)\n",
    "    return df"
   ]
  },
  {
   "cell_type": "code",
   "execution_count": 86,
   "metadata": {},
   "outputs": [
    {
     "name": "stderr",
     "output_type": "stream",
     "text": [
      "/home/marco/anaconda3/lib/python3.8/site-packages/sklearn/metrics/_classification.py:1221: UndefinedMetricWarning: Precision is ill-defined and being set to 0.0 due to no predicted samples. Use `zero_division` parameter to control this behavior.\n",
      "  _warn_prf(average, modifier, msg_start, len(result))\n"
     ]
    },
    {
     "data": {
      "text/html": [
       "<div>\n",
       "<style scoped>\n",
       "    .dataframe tbody tr th:only-of-type {\n",
       "        vertical-align: middle;\n",
       "    }\n",
       "\n",
       "    .dataframe tbody tr th {\n",
       "        vertical-align: top;\n",
       "    }\n",
       "\n",
       "    .dataframe thead th {\n",
       "        text-align: right;\n",
       "    }\n",
       "</style>\n",
       "<table border=\"1\" class=\"dataframe\">\n",
       "  <thead>\n",
       "    <tr style=\"text-align: right;\">\n",
       "      <th></th>\n",
       "      <th>MLA Name</th>\n",
       "      <th>Fit_time</th>\n",
       "      <th>Accuracy</th>\n",
       "      <th>Precision</th>\n",
       "      <th>Recall</th>\n",
       "      <th>F1</th>\n",
       "    </tr>\n",
       "  </thead>\n",
       "  <tbody>\n",
       "    <tr>\n",
       "      <th>5</th>\n",
       "      <td>RandomForestClassifier</td>\n",
       "      <td>0.006</td>\n",
       "      <td>0.89</td>\n",
       "      <td>0.85</td>\n",
       "      <td>0.85</td>\n",
       "      <td>0.85</td>\n",
       "    </tr>\n",
       "    <tr>\n",
       "      <th>7</th>\n",
       "      <td>XGBClassifier</td>\n",
       "      <td>0.008</td>\n",
       "      <td>0.88</td>\n",
       "      <td>0.83</td>\n",
       "      <td>0.84</td>\n",
       "      <td>0.83</td>\n",
       "    </tr>\n",
       "    <tr>\n",
       "      <th>2</th>\n",
       "      <td>SVC</td>\n",
       "      <td>0.014</td>\n",
       "      <td>0.84</td>\n",
       "      <td>0.76</td>\n",
       "      <td>0.80</td>\n",
       "      <td>0.72</td>\n",
       "    </tr>\n",
       "    <tr>\n",
       "      <th>1</th>\n",
       "      <td>LogisticRegression</td>\n",
       "      <td>0.000</td>\n",
       "      <td>0.80</td>\n",
       "      <td>0.70</td>\n",
       "      <td>0.77</td>\n",
       "      <td>0.64</td>\n",
       "    </tr>\n",
       "    <tr>\n",
       "      <th>6</th>\n",
       "      <td>KNeighborsClassifier</td>\n",
       "      <td>0.002</td>\n",
       "      <td>0.78</td>\n",
       "      <td>0.66</td>\n",
       "      <td>0.73</td>\n",
       "      <td>0.61</td>\n",
       "    </tr>\n",
       "    <tr>\n",
       "      <th>3</th>\n",
       "      <td>BernoulliNB</td>\n",
       "      <td>0.000</td>\n",
       "      <td>0.67</td>\n",
       "      <td>0.29</td>\n",
       "      <td>0.61</td>\n",
       "      <td>0.19</td>\n",
       "    </tr>\n",
       "    <tr>\n",
       "      <th>4</th>\n",
       "      <td>Perceptron</td>\n",
       "      <td>0.000</td>\n",
       "      <td>0.69</td>\n",
       "      <td>0.64</td>\n",
       "      <td>0.54</td>\n",
       "      <td>0.78</td>\n",
       "    </tr>\n",
       "    <tr>\n",
       "      <th>0</th>\n",
       "      <td>DummyClassifier</td>\n",
       "      <td>0.000</td>\n",
       "      <td>0.64</td>\n",
       "      <td>0.00</td>\n",
       "      <td>0.00</td>\n",
       "      <td>0.00</td>\n",
       "    </tr>\n",
       "  </tbody>\n",
       "</table>\n",
       "</div>"
      ],
      "text/plain": [
       "                 MLA Name  Fit_time  Accuracy  Precision  Recall    F1\n",
       "5  RandomForestClassifier     0.006      0.89       0.85    0.85  0.85\n",
       "7           XGBClassifier     0.008      0.88       0.83    0.84  0.83\n",
       "2                     SVC     0.014      0.84       0.76    0.80  0.72\n",
       "1      LogisticRegression     0.000      0.80       0.70    0.77  0.64\n",
       "6    KNeighborsClassifier     0.002      0.78       0.66    0.73  0.61\n",
       "3             BernoulliNB     0.000      0.67       0.29    0.61  0.19\n",
       "4              Perceptron     0.000      0.69       0.64    0.54  0.78\n",
       "0         DummyClassifier     0.000      0.64       0.00    0.00  0.00"
      ]
     },
     "execution_count": 86,
     "metadata": {},
     "output_type": "execute_result"
    }
   ],
   "source": [
    "df_models = compare_classifiers(MLA)\n",
    "df_models"
   ]
  },
  {
   "cell_type": "markdown",
   "metadata": {},
   "source": [
    "**Metrics importance**\n",
    "We have thousands of customers reached by our mailings. We wish they would all respond, but it is imposible, so we are interested in those with good chances to be a buyer (respond to mailings). We don't care to email a false positive, i.e. a guy that is not going to buy (so precision is not important) but for us is very important that all of them with high temperature are always in my selection, so they don't go without responding and hopefully buying. That means that my model needs to have a high recall (as little false negatives as possible), no matter if the precision is conversely affected."
   ]
  },
  {
   "cell_type": "markdown",
   "metadata": {},
   "source": [
    "## 4.1 Fine tuning the best model"
   ]
  },
  {
   "cell_type": "code",
   "execution_count": 71,
   "metadata": {},
   "outputs": [],
   "source": [
    "# Applying RandomizedSearchCV on the extreme gradient boost algorithm\n",
    "\n",
    " # create training and validation dataset\n",
    "X_train, X_valid, y_train, y_valid = train_test_split(X_train, y_train, test_size=0.25, random_state=1) # 0.25 x 0.8 = 0.2\n",
    "\n",
    "\n",
    "clf = XG_boost\n",
    "\n",
    "# A parameter grid for XGBoost\n",
    " \n",
    "\n",
    "params = {\n",
    "        'silent': [True],\n",
    "        'max_depth': [6, 10, 15, 20],\n",
    "        'learning_rate': [0.001, 0.01, 0.1, 0.2, 0,3],\n",
    "        'subsample': [0.5, 0.6, 0.7, 0.8, 0.9, 1.0],\n",
    "        'colsample_bytree': [0.4, 0.5, 0.6, 0.7, 0.8, 0.9, 1.0],\n",
    "        'colsample_bylevel': [0.4, 0.5, 0.6, 0.7, 0.8, 0.9, 1.0],\n",
    "        'min_child_weight': [0.5, 1.0, 3.0, 5.0, 7.0, 10.0],\n",
    "        'gamma': [0, 0.25, 0.5, 1.0],\n",
    "        'reg_lambda': [0.1, 1.0, 5.0, 10.0, 50.0, 100.0],\n",
    "        'n_estimators': [100, 600]}\n",
    "\n",
    "# define functions to measure time, to estimate our search efficiency\n",
    "def process_time_starts():\n",
    "    global _start_time \n",
    "    _start_time = time.time()\n",
    "\n",
    "def time_elapsed():\n",
    "    t_sec = round(time.time() - _start_time)\n",
    "    (t_min, t_sec) = divmod(t_sec,60)\n",
    "    (t_hour,t_min) = divmod(t_min,60) \n",
    "    print('The process took: {}hour:{}min:{}sec'.format(t_hour,t_min,t_sec))"
   ]
  },
  {
   "cell_type": "markdown",
   "metadata": {},
   "source": [
    "Next we set up our stratified folds and grid search parameters. I am using AUC as a scoring function, since we saw earlier that recall is quite important in this case."
   ]
  },
  {
   "cell_type": "code",
   "execution_count": 88,
   "metadata": {},
   "outputs": [
    {
     "name": "stdout",
     "output_type": "stream",
     "text": [
      "Fitting 3 folds for each of 10 candidates, totalling 30 fits\n"
     ]
    },
    {
     "name": "stderr",
     "output_type": "stream",
     "text": [
      "[Parallel(n_jobs=-1)]: Using backend LokyBackend with 8 concurrent workers.\n"
     ]
    },
    {
     "name": "stdout",
     "output_type": "stream",
     "text": [
      "The process took: 0hour:0min:2sec\n"
     ]
    },
    {
     "name": "stderr",
     "output_type": "stream",
     "text": [
      "[Parallel(n_jobs=-1)]: Done  30 out of  30 | elapsed:    1.8s finished\n"
     ]
    }
   ],
   "source": [
    "# Applying RandomizedSearchCV on the Random Forest Classifier algorithm\n",
    "\n",
    " # create training and validation dataset\n",
    "n_estimators = [100, 50, 20]\n",
    "max_depth = [5, 8]\n",
    "min_samples_split = [2, 5, 10, 15, 100]\n",
    "min_samples_leaf = [1, 2, 5, 10] \n",
    "\n",
    "hyperF = dict(n_estimators = n_estimators, max_depth = max_depth,  \n",
    "              min_samples_split = min_samples_split, \n",
    "             min_samples_leaf = min_samples_leaf)\n",
    "\n",
    "\n",
    "# Here we go\n",
    "process_time_starts() # timing starts from this point \n",
    "\n",
    "randF = RandomizedSearchCV(Random_Forest, hyperF, cv = 3, verbose = 1, n_jobs = -1, scoring='roc_auc')\n",
    "randF.fit(X_train, y_train)\n",
    "\n",
    "time_elapsed() # timing ends here for the parameters search\n"
   ]
  },
  {
   "cell_type": "code",
   "execution_count": 89,
   "metadata": {},
   "outputs": [
    {
     "name": "stdout",
     "output_type": "stream",
     "text": [
      "\n",
      " Best score:\n",
      "0.9189399616985755\n",
      "\n",
      " Best hyperparameters:\n",
      "{'n_estimators': 50, 'min_samples_split': 15, 'min_samples_leaf': 1, 'max_depth': 8}\n"
     ]
    }
   ],
   "source": [
    "print('\\n Best score:')\n",
    "print(randF.best_score_)\n",
    "print('\\n Best hyperparameters:')\n",
    "print(randF.best_params_)\n",
    "results = pd.DataFrame(random_search.cv_results_)\n",
    "results.to_csv('data/RF-grid-search-results-01.csv', index=False)\n"
   ]
  },
  {
   "cell_type": "markdown",
   "metadata": {},
   "source": [
    "Bit too long to read all results above. Let's print the grid-search results and save them in a file."
   ]
  },
  {
   "cell_type": "code",
   "execution_count": 73,
   "metadata": {},
   "outputs": [
    {
     "name": "stdout",
     "output_type": "stream",
     "text": [
      "\n",
      " Best score:\n",
      "0.9174409679244793\n",
      "\n",
      " Best hyperparameters:\n",
      "{'subsample': 0.8, 'silent': True, 'reg_lambda': 100.0, 'n_estimators': 100, 'min_child_weight': 1.0, 'max_depth': 15, 'learning_rate': 0.2, 'gamma': 1.0, 'colsample_bytree': 1.0, 'colsample_bylevel': 0.5}\n"
     ]
    }
   ],
   "source": [
    "print('\\n Best score:')\n",
    "print(random_search.best_score_)\n",
    "print('\\n Best hyperparameters:')\n",
    "print(random_search.best_params_)\n",
    "results = pd.DataFrame(random_search.cv_results_)\n",
    "results.to_csv('data/xgb-random-grid-search-results-01.csv', index=False)"
   ]
  },
  {
   "cell_type": "markdown",
   "metadata": {},
   "source": [
    "### 4.2 How do the best two models compare regarding efficiency? "
   ]
  },
  {
   "cell_type": "code",
   "execution_count": 69,
   "metadata": {},
   "outputs": [],
   "source": [
    "# \"https://scikit-learn.org/stable/auto_examples/model_selection/plot_learning_curve.html\"\n",
    "\n",
    "def plot_learning_curve(estimator, title, X, y, axes=None, ylim=None, cv=None,\n",
    "                        n_jobs=None, train_sizes=np.linspace(.1, 1.0, 5)):\n",
    "    \n",
    "    \"\"\"\n",
    "    Generate 3 plots: the test and training learning curve, the training\n",
    "    samples vs fit times curve, the fit times vs score curve.\n",
    "\n",
    "    Parameters\n",
    "    ----------\n",
    "    estimator : estimator instance\n",
    "        An estimator instance implementing `fit` and `predict` methods which\n",
    "        will be cloned for each validation.\n",
    "\n",
    "    title : str\n",
    "        Title for the chart.\n",
    "\n",
    "    X : array-like of shape (n_samples, n_features)\n",
    "        Training vector, where ``n_samples`` is the number of samples and\n",
    "        ``n_features`` is the number of features.\n",
    "\n",
    "    y : array-like of shape (n_samples) or (n_samples, n_features)\n",
    "        Target relative to ``X`` for classification or regression;\n",
    "        None for unsupervised learning.\n",
    "\n",
    "    axes : array-like of shape (3,), default=None\n",
    "        Axes to use for plotting the curves.\n",
    "\n",
    "    ylim : tuple of shape (2,), default=None\n",
    "        Defines minimum and maximum y-values plotted, e.g. (ymin, ymax).\n",
    "\n",
    "    cv : int, cross-validation generator or an iterable, default=None\n",
    "        Determines the cross-validation splitting strategy.\n",
    "        Possible inputs for cv are:\n",
    "\n",
    "          - None, to use the default 5-fold cross-validation,\n",
    "          - integer, to specify the number of folds.\n",
    "          - :term:`CV splitter`,\n",
    "          - An iterable yielding (train, test) splits as arrays of indices.\n",
    "\n",
    "        For integer/None inputs, if ``y`` is binary or multiclass,\n",
    "        :class:`StratifiedKFold` used. If the estimator is not a classifier\n",
    "        or if ``y`` is neither binary nor multiclass, :class:`KFold` is used.\n",
    "\n",
    "        Refer :ref:`User Guide <cross_validation>` for the various\n",
    "        cross-validators that can be used here.\n",
    "\n",
    "    n_jobs : int or None, default=None\n",
    "        Number of jobs to run in parallel.\n",
    "        ``None`` means 1 unless in a :obj:`joblib.parallel_backend` context.\n",
    "        ``-1`` means using all processors. See :term:`Glossary <n_jobs>`\n",
    "        for more details.\n",
    "\n",
    "    train_sizes : array-like of shape (n_ticks,)\n",
    "        Relative or absolute numbers of training examples that will be used to\n",
    "        generate the learning curve. If the ``dtype`` is float, it is regarded\n",
    "        as a fraction of the maximum size of the training set (that is\n",
    "        determined by the selected validation method), i.e. it has to be within\n",
    "        (0, 1]. Otherwise it is interpreted as absolute sizes of the training\n",
    "        sets. Note that for classification the number of samples usually have\n",
    "        to be big enough to contain at least one sample from each class.\n",
    "        (default: np.linspace(0.1, 1.0, 5))\n",
    "    \"\"\"\n",
    "    if axes is None:\n",
    "        _, axes = plt.subplots(1, 3, figsize=(20, 5))\n",
    "\n",
    "    axes[0].set_title(title)\n",
    "    if ylim is not None:\n",
    "        axes[0].set_ylim(*ylim)\n",
    "    axes[0].set_xlabel(\"Training examples\")\n",
    "    axes[0].set_ylabel(\"Score\")\n",
    "\n",
    "    train_sizes, train_scores, test_scores, fit_times, _ = \\\n",
    "        learning_curve(estimator, X, y, cv=cv, n_jobs=n_jobs,\n",
    "                       train_sizes=train_sizes,\n",
    "                       return_times=True)\n",
    "    train_scores_mean = np.mean(train_scores, axis=1)\n",
    "    train_scores_std = np.std(train_scores, axis=1)\n",
    "    test_scores_mean = np.mean(test_scores, axis=1)\n",
    "    test_scores_std = np.std(test_scores, axis=1)\n",
    "    fit_times_mean = np.mean(fit_times, axis=1)\n",
    "    fit_times_std = np.std(fit_times, axis=1)\n",
    "\n",
    "    # Plot learning curve\n",
    "    axes[0].grid()\n",
    "    axes[0].fill_between(train_sizes, train_scores_mean - train_scores_std,\n",
    "                         train_scores_mean + train_scores_std, alpha=0.1,\n",
    "                         color=\"r\")\n",
    "    axes[0].fill_between(train_sizes, test_scores_mean - test_scores_std,\n",
    "                         test_scores_mean + test_scores_std, alpha=0.1,\n",
    "                         color=\"g\")\n",
    "    axes[0].plot(train_sizes, train_scores_mean, 'o-', color=\"r\",\n",
    "                 label=\"Training score\")\n",
    "    axes[0].plot(train_sizes, test_scores_mean, 'o-', color=\"g\",\n",
    "                 label=\"Cross-validation score\")\n",
    "    axes[0].legend(loc=\"best\")\n",
    "\n",
    "    # Plot n_samples vs fit_times\n",
    "    axes[1].grid()\n",
    "    axes[1].plot(train_sizes, fit_times_mean, 'o-')\n",
    "    axes[1].fill_between(train_sizes, fit_times_mean - fit_times_std,\n",
    "                         fit_times_mean + fit_times_std, alpha=0.1)\n",
    "    axes[1].set_xlabel(\"Training examples\")\n",
    "    axes[1].set_ylabel(\"fit_times\")\n",
    "    axes[1].set_title(\"Scalability of the model\")\n",
    "\n",
    "    # Plot fit_time vs score\n",
    "    axes[2].grid()\n",
    "    axes[2].plot(fit_times_mean, test_scores_mean, 'o-')\n",
    "    axes[2].fill_between(fit_times_mean, test_scores_mean - test_scores_std,\n",
    "                         test_scores_mean + test_scores_std, alpha=0.1)\n",
    "    axes[2].set_xlabel(\"fit_times\")\n",
    "    axes[2].set_ylabel(\"Score\")\n",
    "    axes[2].set_title(\"Performance of the model\")\n",
    "\n",
    "    return plt"
   ]
  },
  {
   "cell_type": "markdown",
   "metadata": {},
   "source": [
    "Now let's fit and obtain scores"
   ]
  },
  {
   "cell_type": "markdown",
   "metadata": {},
   "source": [
    "#### Visualising Train and Test scores by the number of training points"
   ]
  },
  {
   "cell_type": "code",
   "execution_count": 95,
   "metadata": {},
   "outputs": [
    {
     "data": {
      "image/png": "[encoded data removed]",
      "text/plain": [
       "<Figure size 1440x360 with 3 Axes>"
      ]
     },
     "metadata": {
      "needs_background": "light"
     },
     "output_type": "display_data"
    },
    {
     "data": {
      "image/png": "[encoded data removed]",
      "text/plain": [
       "<Figure size 1440x360 with 3 Axes>"
      ]
     },
     "metadata": {
      "needs_background": "light"
     },
     "output_type": "display_data"
    }
   ],
   "source": [
    "# Random Forest Classifier:\n",
    "title = r\"Learning Curves for Random Forest Classifier\"\n",
    "estimator = rf1#RandomForestClassifier()\n",
    "plot_learning_curve(estimator, title,  X_train, y_train,cv=5, n_jobs=5)\n",
    "\n",
    "# Xtreme Gradient Boosting Classifier:\n",
    "title = r\"Learning Curves for XGB Classifier\"\n",
    "estimator= xgb.XGBClassifier(objective= 'binary:logistic')\n",
    "plot_learning_curve(estimator, title,  X_train, y_train,cv=5, n_jobs=5)\n",
    "\n",
    "plt.show()"
   ]
  },
  {
   "cell_type": "markdown",
   "metadata": {},
   "source": [
    "## 4.3 Feature Importance"
   ]
  },
  {
   "cell_type": "code",
   "execution_count": 90,
   "metadata": {},
   "outputs": [
    {
     "name": "stdout",
     "output_type": "stream",
     "text": [
      "[19:46:58] WARNING: ../src/learner.cc:516: \n",
      "Parameters: { silent } might not be used.\n",
      "\n",
      "  This may not be accurate due to some parameters are only used in language bindings but\n",
      "  passed down to XGBoost core.  Or some parameters are not used but slip through this\n",
      "  verification. Please open an issue if you find above cases.\n",
      "\n",
      "\n",
      "accuracy: 0.8935 precision: 0.8591954022988506 recall: 0.8387096774193549 F1: 0.8488289567068844\n"
     ]
    }
   ],
   "source": [
    "# Final model and parameters\n",
    "\n",
    "rf1 = random_search.best_estimator_\n",
    "\n",
    "rf1.fit(X_train,y_train)\n",
    "\n",
    "y_pred = rf1.predict(X_test)\n",
    "\n",
    "acc = accuracy_score(y_test, y_pred)\n",
    "\n",
    "F1 = f1_score(y_test, y_pred)\n",
    "\n",
    "precision = precision_score(y_test, y_pred)\n",
    "\n",
    "recall = recall_score(y_test, y_pred)\n",
    "\n",
    "print('accuracy:',acc, 'precision:',precision ,'recall:', recall, 'F1:', F1)"
   ]
  },
  {
   "cell_type": "code",
   "execution_count": 91,
   "metadata": {},
   "outputs": [
    {
     "data": {
      "text/html": [
       "<div>\n",
       "<style scoped>\n",
       "    .dataframe tbody tr th:only-of-type {\n",
       "        vertical-align: middle;\n",
       "    }\n",
       "\n",
       "    .dataframe tbody tr th {\n",
       "        vertical-align: top;\n",
       "    }\n",
       "\n",
       "    .dataframe thead th {\n",
       "        text-align: right;\n",
       "    }\n",
       "</style>\n",
       "<table border=\"1\" class=\"dataframe\">\n",
       "  <thead>\n",
       "    <tr style=\"text-align: right;\">\n",
       "      <th></th>\n",
       "      <th>Feature</th>\n",
       "      <th>% weight</th>\n",
       "    </tr>\n",
       "  </thead>\n",
       "  <tbody>\n",
       "    <tr>\n",
       "      <th>0</th>\n",
       "      <td>age</td>\n",
       "      <td>44.109882</td>\n",
       "    </tr>\n",
       "    <tr>\n",
       "      <th>12</th>\n",
       "      <td>zipcode_group_1</td>\n",
       "      <td>24.309626</td>\n",
       "    </tr>\n",
       "    <tr>\n",
       "      <th>1</th>\n",
       "      <td>earnings</td>\n",
       "      <td>17.319645</td>\n",
       "    </tr>\n",
       "    <tr>\n",
       "      <th>4</th>\n",
       "      <td>urban citizen</td>\n",
       "      <td>1.193888</td>\n",
       "    </tr>\n",
       "    <tr>\n",
       "      <th>11</th>\n",
       "      <td>lifestyle_healthy</td>\n",
       "      <td>1.174871</td>\n",
       "    </tr>\n",
       "    <tr>\n",
       "      <th>14</th>\n",
       "      <td>zipcode_group_3</td>\n",
       "      <td>1.138258</td>\n",
       "    </tr>\n",
       "    <tr>\n",
       "      <th>16</th>\n",
       "      <td>zipcode_group_5</td>\n",
       "      <td>1.094983</td>\n",
       "    </tr>\n",
       "    <tr>\n",
       "      <th>15</th>\n",
       "      <td>zipcode_group_4</td>\n",
       "      <td>0.993481</td>\n",
       "    </tr>\n",
       "    <tr>\n",
       "      <th>17</th>\n",
       "      <td>zipcode_group_6</td>\n",
       "      <td>0.971363</td>\n",
       "    </tr>\n",
       "    <tr>\n",
       "      <th>9</th>\n",
       "      <td>lifestyle_active</td>\n",
       "      <td>0.963059</td>\n",
       "    </tr>\n",
       "    <tr>\n",
       "      <th>5</th>\n",
       "      <td>sports_athletics</td>\n",
       "      <td>0.931638</td>\n",
       "    </tr>\n",
       "    <tr>\n",
       "      <th>20</th>\n",
       "      <td>zipcode_group_9</td>\n",
       "      <td>0.915973</td>\n",
       "    </tr>\n",
       "    <tr>\n",
       "      <th>18</th>\n",
       "      <td>zipcode_group_7</td>\n",
       "      <td>0.854187</td>\n",
       "    </tr>\n",
       "    <tr>\n",
       "      <th>7</th>\n",
       "      <td>sports_soccer</td>\n",
       "      <td>0.815145</td>\n",
       "    </tr>\n",
       "    <tr>\n",
       "      <th>6</th>\n",
       "      <td>sports_badminton</td>\n",
       "      <td>0.777398</td>\n",
       "    </tr>\n",
       "    <tr>\n",
       "      <th>13</th>\n",
       "      <td>zipcode_group_2</td>\n",
       "      <td>0.727729</td>\n",
       "    </tr>\n",
       "    <tr>\n",
       "      <th>10</th>\n",
       "      <td>lifestyle_cozily</td>\n",
       "      <td>0.686865</td>\n",
       "    </tr>\n",
       "    <tr>\n",
       "      <th>8</th>\n",
       "      <td>sports_unknown</td>\n",
       "      <td>0.524875</td>\n",
       "    </tr>\n",
       "    <tr>\n",
       "      <th>19</th>\n",
       "      <td>zipcode_group_8</td>\n",
       "      <td>0.497133</td>\n",
       "    </tr>\n",
       "    <tr>\n",
       "      <th>3</th>\n",
       "      <td>expensive car owner</td>\n",
       "      <td>0.000000</td>\n",
       "    </tr>\n",
       "    <tr>\n",
       "      <th>2</th>\n",
       "      <td>married</td>\n",
       "      <td>0.000000</td>\n",
       "    </tr>\n",
       "  </tbody>\n",
       "</table>\n",
       "</div>"
      ],
      "text/plain": [
       "                Feature   % weight\n",
       "0                   age  44.109882\n",
       "12      zipcode_group_1  24.309626\n",
       "1              earnings  17.319645\n",
       "4         urban citizen   1.193888\n",
       "11    lifestyle_healthy   1.174871\n",
       "14      zipcode_group_3   1.138258\n",
       "16      zipcode_group_5   1.094983\n",
       "15      zipcode_group_4   0.993481\n",
       "17      zipcode_group_6   0.971363\n",
       "9      lifestyle_active   0.963059\n",
       "5      sports_athletics   0.931638\n",
       "20      zipcode_group_9   0.915973\n",
       "18      zipcode_group_7   0.854187\n",
       "7         sports_soccer   0.815145\n",
       "6      sports_badminton   0.777398\n",
       "13      zipcode_group_2   0.727729\n",
       "10     lifestyle_cozily   0.686865\n",
       "8        sports_unknown   0.524875\n",
       "19      zipcode_group_8   0.497133\n",
       "3   expensive car owner   0.000000\n",
       "2               married   0.000000"
      ]
     },
     "execution_count": 91,
     "metadata": {},
     "output_type": "execute_result"
    }
   ],
   "source": [
    "# feature importance scores\n",
    "list_pc_importance = (rf1.feature_importances_)*100\n",
    "feat = X.columns.tolist()\n",
    "df_features = pd.DataFrame({'Feature':feat, '% weight': list_pc_importance}).sort_values(by=['% weight'], ascending = False )\n",
    "\n",
    "#print(xgb2.feature_importances_)\n",
    "df_features"
   ]
  },
  {
   "cell_type": "code",
   "execution_count": 92,
   "metadata": {},
   "outputs": [
    {
     "data": {
      "image/png": "[encoded data removed]",
      "text/plain": [
       "<Figure size 432x432 with 1 Axes>"
      ]
     },
     "metadata": {
      "needs_background": "light"
     },
     "output_type": "display_data"
    }
   ],
   "source": [
    "#plot graph of feature importances for better visualization\n",
    "plt.figure(figsize= (6,6))\n",
    "plt.title(\"Feature importances for mailings response\")\n",
    "\n",
    "plt.bar(df_features[\"Feature\"][:5], df_features[\"% weight\"][:5], label = 'importance (%)')\n",
    "\n",
    "plt.legend()\n",
    "plt.ylabel('% weight',fontsize = 16)\n",
    "plt.xlabel('Responder feature',fontsize = 16)\n",
    "plt.xticks(rotation=90)\n",
    "plt.show()"
   ]
  },
  {
   "cell_type": "markdown",
   "metadata": {},
   "source": [
    "**Are categorical features correlated or anticorrelated?**"
   ]
  },
  {
   "cell_type": "code",
   "execution_count": 93,
   "metadata": {},
   "outputs": [],
   "source": [
    "df_binary = df_encoded[['zipcode_group_1','lifestyle_healthy','urban citizen','response' ]] #select features"
   ]
  },
  {
   "cell_type": "code",
   "execution_count": 94,
   "metadata": {},
   "outputs": [
    {
     "data": {
      "text/plain": [
       "zipcode_group_1      0.182073\n",
       "lifestyle_healthy    0.005076\n",
       "urban citizen       -0.002543\n",
       "response             1.000000\n",
       "Name: response, dtype: float64"
      ]
     },
     "execution_count": 94,
     "metadata": {},
     "output_type": "execute_result"
    }
   ],
   "source": [
    "## find correlation to response\n",
    "df_binary[df_binary.columns[0:]].corr()['response'][:]"
   ]
  },
  {
   "cell_type": "markdown",
   "metadata": {},
   "source": [
    "<a id='Conclusion'></a>\n",
    "# 5. Conclusions"
   ]
  },
  {
   "cell_type": "markdown",
   "metadata": {},
   "source": [
    "With my final investigation I wanted to see if I could predict how likely someone is going to respond to mailings based on personal informations.\n",
    "\n",
    "**The prediction model that performed the best, was the \"Random Forest\" algorithm. I could predict response with a 89% accuracy on test data, and most important with 85% recall. This means I can have only very few false negatives and target the most likely responders.**\n",
    "\n",
    "\n",
    "**When I investigated the features of the results, I found that the conclusions are very similar to those from simple EDA:**\n",
    "-  Main predictors are age, income and whether the target lives or not in the group 1 of zip codes (10000-19999) corresponding to NY state in US.\n",
    "\n",
    "-  Based on the model it is more likely to obtain response from people living in rural area and with a healthy lifestyle. These are minor predictors though (around 1% importance)."
   ]
  },
  {
   "cell_type": "code",
   "execution_count": null,
   "metadata": {},
   "outputs": [],
   "source": []
  }
 ],
 "metadata": {
  "kernelspec": {
   "display_name": "Python 3",
   "language": "python",
   "name": "python3"
  },
  "language_info": {
   "codemirror_mode": {
    "name": "ipython",
    "version": 3
   },
   "file_extension": ".py",
   "mimetype": "text/x-python",
   "name": "python",
   "nbconvert_exporter": "python",
   "pygments_lexer": "ipython3",
   "version": "3.8.3"
  }
 },
 "nbformat": 4,
 "nbformat_minor": 4
}
