{
 "cells": [
  {
   "cell_type": "markdown",
   "metadata": {},
   "source": [
    "# **Response to mailings - Part 2 notebook**\n",
    "In this notebook we evaluate several machine learning models and identify the best feature to predict mailings response "
   ]
  },
  {
   "cell_type": "markdown",
   "metadata": {},
   "source": [
    "# Table of contents"
   ]
  },
  {
   "cell_type": "markdown",
   "metadata": {},
   "source": [
    "1. [Overview](#Overview)\n",
    "2. [Data Processing](#Data_Understanding)\n",
    "3. [Data Modelling](#Data_Modelling)\n",
    "3. [Model Evaluation](#Model_Evaluation)\n",
    "4. [Conclusion](#Conclusion)"
   ]
  },
  {
   "cell_type": "markdown",
   "metadata": {},
   "source": [
    "# 1. Overview"
   ]
  },
  {
   "cell_type": "markdown",
   "metadata": {},
   "source": [
    "In this notebook I will try and answer the following questions that could possible help the business to improve mailing campaigns:\n",
    "* Can the response to mailings be predicted?\n",
    "* Which features could be most important to the response?\n",
    "* Can we identify an ideal mailing target individual?<br>\n",
    "\n",
    "I will be using data modeling and feature engineering to prepare the data, where I will then evaluate different types of prediction models and pick the best one that performs will with the data."
   ]
  },
  {
   "cell_type": "markdown",
   "metadata": {},
   "source": [
    "<a id='Data_Understanding'></a>\n",
    "# 2. Data processing: \n",
    "- features engineering\n",
    "- encoding categorical features\n",
    "- scaling numerical features"
   ]
  },
  {
   "cell_type": "markdown",
   "metadata": {},
   "source": [
    "### Importing Libraries"
   ]
  },
  {
   "cell_type": "code",
<<<<<<< HEAD
   "execution_count": 3,
=======
   "execution_count": 21,
>>>>>>> 66a1a7108782f3b28e9a91e897772df6a6a42d54
   "metadata": {},
   "outputs": [],
   "source": [
    "# base\n",
    "import os\n",
    "import sys\n",
    "import time\n",
    "import numpy as np\n",
    "import pandas as pd\n",
    "import matplotlib.pyplot as plt\n",
    "import seaborn as sns\n",
    "\n",
    "import pickle\n",
    "%matplotlib inline\n",
    "from sklearn.preprocessing import MinMaxScaler\n",
    "# models\n",
    "import sklearn.ensemble\n",
    "from sklearn.dummy import DummyClassifier\n",
    "from sklearn.naive_bayes import BernoulliNB\n",
    "from sklearn.linear_model import LogisticRegression\n",
    "from sklearn.linear_model import Perceptron\n",
    "from sklearn.ensemble import RandomForestClassifier\n",
    "from sklearn.neighbors import KNeighborsClassifier\n",
    "from sklearn.svm import SVC\n",
    "import xgboost as xgb\n",
    "\n",
    "\n",
    "# evaluation\n",
    "\n",
    "from sklearn import feature_selection\n",
    "from sklearn import model_selection\n",
    "\n",
    "from sklearn.metrics import classification_report, accuracy_score, f1_score, precision_score, recall_score\n",
    "from scipy.stats import pearsonr\n",
    "from sklearn.model_selection import learning_curve, ShuffleSplit, StratifiedKFold\n",
    "\n",
    "from sklearn.metrics import accuracy_score, f1_score, precision_score, recall_score, classification_report, confusion_matrix\n",
    "\n",
    "from sklearn.model_selection import train_test_split, cross_val_score, RandomizedSearchCV\n",
    "\n"
   ]
  },
  {
   "cell_type": "markdown",
   "metadata": {},
   "source": [
    "### Loading Data"
   ]
  },
  {
   "cell_type": "code",
<<<<<<< HEAD
   "execution_count": 4,
=======
   "execution_count": 13,
>>>>>>> 66a1a7108782f3b28e9a91e897772df6a6a42d54
   "metadata": {},
   "outputs": [],
   "source": [
    "# Loading csv and pickle files into dataframe or list\n",
    "df_mailings = pd.read_csv('data/population.csv')"
   ]
  },
  {
   "cell_type": "code",
<<<<<<< HEAD
   "execution_count": 5,
=======
   "execution_count": 14,
>>>>>>> 66a1a7108782f3b28e9a91e897772df6a6a42d54
   "metadata": {},
   "outputs": [],
   "source": [
    "# eliminate useless features\n",
    "df_mailings = df_mailings.drop(['Unnamed: 0', 'label'], axis=1)"
   ]
  },
  {
   "cell_type": "markdown",
   "metadata": {},
   "source": [
    "### Zip code feature grouping"
   ]
  },
  {
   "cell_type": "code",
<<<<<<< HEAD
   "execution_count": 6,
   "metadata": {},
   "outputs": [],
   "source": [
    "df_mailings[\"zipcode_group\"] = df_mailings['zip code']//10000"
=======
   "execution_count": 15,
   "metadata": {},
   "outputs": [],
   "source": [
    "# group zip codes by bins of 10000 \n",
    "df_mailings['zipcode_group'] = df_mailings['zip code']//10000"
>>>>>>> 66a1a7108782f3b28e9a91e897772df6a6a42d54
   ]
  },
  {
   "cell_type": "code",
<<<<<<< HEAD
   "execution_count": 7,
=======
   "execution_count": 16,
>>>>>>> 66a1a7108782f3b28e9a91e897772df6a6a42d54
   "metadata": {},
   "outputs": [
    {
     "data": {
      "text/html": [
       "<div>\n",
       "<style scoped>\n",
       "    .dataframe tbody tr th:only-of-type {\n",
       "        vertical-align: middle;\n",
       "    }\n",
       "\n",
       "    .dataframe tbody tr th {\n",
       "        vertical-align: top;\n",
       "    }\n",
       "\n",
       "    .dataframe thead th {\n",
       "        text-align: right;\n",
       "    }\n",
       "</style>\n",
       "<table border=\"1\" class=\"dataframe\">\n",
       "  <thead>\n",
       "    <tr style=\"text-align: right;\">\n",
       "      <th></th>\n",
       "      <th>name</th>\n",
       "      <th>age</th>\n",
       "      <th>lifestyle</th>\n",
       "      <th>zip code</th>\n",
       "      <th>family status</th>\n",
       "      <th>car</th>\n",
       "      <th>sports</th>\n",
       "      <th>earnings</th>\n",
       "      <th>living area</th>\n",
       "      <th>response</th>\n",
       "      <th>zipcode_group</th>\n",
       "    </tr>\n",
       "  </thead>\n",
       "  <tbody>\n",
       "    <tr>\n",
       "      <th>0</th>\n",
       "      <td>VnSEFOuL</td>\n",
       "      <td>62</td>\n",
       "      <td>cozily</td>\n",
       "      <td>50168</td>\n",
       "      <td>married</td>\n",
       "      <td>practical</td>\n",
       "      <td>athletics</td>\n",
       "      <td>102526</td>\n",
       "      <td>urban</td>\n",
       "      <td>0</td>\n",
       "      <td>5</td>\n",
       "    </tr>\n",
       "    <tr>\n",
       "      <th>1</th>\n",
       "      <td>8Tv0hcce</td>\n",
       "      <td>34</td>\n",
       "      <td>active</td>\n",
       "      <td>66479</td>\n",
       "      <td>married</td>\n",
       "      <td>expensive</td>\n",
       "      <td>soccer</td>\n",
       "      <td>33006</td>\n",
       "      <td>urban</td>\n",
       "      <td>0</td>\n",
       "      <td>6</td>\n",
       "    </tr>\n",
       "    <tr>\n",
       "      <th>2</th>\n",
       "      <td>Zny9ysbk</td>\n",
       "      <td>69</td>\n",
       "      <td>healthy</td>\n",
       "      <td>16592</td>\n",
       "      <td>single</td>\n",
       "      <td>expensive</td>\n",
       "      <td>badminton</td>\n",
       "      <td>118760</td>\n",
       "      <td>urban</td>\n",
       "      <td>1</td>\n",
       "      <td>1</td>\n",
       "    </tr>\n",
       "  </tbody>\n",
       "</table>\n",
       "</div>"
      ],
      "text/plain": [
       "       name  age lifestyle  zip code family status        car     sports  \\\n",
       "0  VnSEFOuL   62    cozily     50168       married  practical  athletics   \n",
       "1  8Tv0hcce   34    active     66479       married  expensive     soccer   \n",
       "2  Zny9ysbk   69   healthy     16592        single  expensive  badminton   \n",
       "\n",
       "   earnings living area  response  zipcode_group  \n",
       "0    102526       urban         0              5  \n",
       "1     33006       urban         0              6  \n",
       "2    118760       urban         1              1  "
      ]
     },
<<<<<<< HEAD
     "execution_count": 7,
=======
     "execution_count": 16,
>>>>>>> 66a1a7108782f3b28e9a91e897772df6a6a42d54
     "metadata": {},
     "output_type": "execute_result"
    }
   ],
   "source": [
<<<<<<< HEAD
=======
    "# Displaying all columns\n",
    "pd.set_option('display.max_columns', None)\n",
>>>>>>> 66a1a7108782f3b28e9a91e897772df6a6a42d54
    "# show listings data sample\n",
    "df_mailings.head(3)"
   ]
  },
  {
   "cell_type": "markdown",
   "metadata": {},
   "source": [
    "### 2.1 Binary encoding:\n",
    "\n",
    "- married?\n",
    "- owns an expensive car?\n",
    "- urban citizen?\n",
    "\n",
    "Yes = 1\n",
    "No = 0"
   ]
  },
  {
   "cell_type": "code",
<<<<<<< HEAD
   "execution_count": 8,
=======
   "execution_count": 17,
>>>>>>> 66a1a7108782f3b28e9a91e897772df6a6a42d54
   "metadata": {},
   "outputs": [],
   "source": [
    "binary_features = ['family status', 'car', 'living area']\n",
    "positive_values = ['married', 'expensive', 'urban']"
   ]
  },
  {
   "cell_type": "code",
<<<<<<< HEAD
   "execution_count": 9,
=======
   "execution_count": 18,
>>>>>>> 66a1a7108782f3b28e9a91e897772df6a6a42d54
   "metadata": {},
   "outputs": [],
   "source": [
    "def make_binary_feature(df, variables, positives):\n",
    "    \n",
    "    \"\"\"\n",
    "    Creates one binary encoding for the specified column\n",
    "    using the unique items specified\n",
    "    \n",
    "    Parameters:\n",
    "    \n",
    "    Dataframe, variables(list of strings), unique_items(list)\n",
    "    \n",
    "    Returns:\n",
    "    \n",
    "    Dataframe\n",
    "    \n",
    "    \"\"\"\n",
    "    for variable in variables: \n",
    "       \n",
    "        item_lists = df[variable]\n",
    "\n",
    "        # Loop through all the labels\n",
    "        for label in positives:\n",
    "\n",
    "            # Creating new column for each label\n",
    "            df[variable+'_n'] = item_lists.apply(lambda x: 1 if label in x else 0)\n",
    "\n",
    "        # Removing old column\n",
    "        del df[variable]\n",
    "            \n",
    "    # Return the results as a dataframe\n",
    "    "
   ]
  },
  {
   "cell_type": "code",
<<<<<<< HEAD
   "execution_count": 10,
=======
   "execution_count": 19,
>>>>>>> 66a1a7108782f3b28e9a91e897772df6a6a42d54
   "metadata": {},
   "outputs": [],
   "source": [
    "make_binary_feature(df_mailings, binary_features, positive_values)"
   ]
  },
  {
   "cell_type": "code",
   "execution_count": 20,
   "metadata": {},
   "outputs": [],
   "source": [
    "df_mailings.rename(columns = {'family status_n' : 'married', 'car_n' : 'expensive car owner', 'living area_n':'urban citizen'}, inplace = True)"
   ]
  },
  {
   "cell_type": "markdown",
   "metadata": {},
   "source": [
    "### 2.2 One hot encoding:\n",
    "\n",
    "- sport\n",
    "- lyfestyle\n"
   ]
  },
  {
   "cell_type": "code",
<<<<<<< HEAD
   "execution_count": 11,
   "metadata": {},
   "outputs": [],
   "source": [
    "categorical_features = ['sports', 'lifestyle', \"zipcode_group\"]"
=======
   "execution_count": 57,
   "metadata": {},
   "outputs": [],
   "source": [
    "categorical_features = ['sports', 'lifestyle','zipcode_group']"
>>>>>>> 66a1a7108782f3b28e9a91e897772df6a6a42d54
   ]
  },
  {
   "cell_type": "code",
<<<<<<< HEAD
   "execution_count": 12,
=======
   "execution_count": 58,
>>>>>>> 66a1a7108782f3b28e9a91e897772df6a6a42d54
   "metadata": {},
   "outputs": [],
   "source": [
    "def onehot_df(df, variables):\n",
    "    \n",
    "    \"\"\"\n",
    "    Creates one hot encoding for the specified columns\n",
    "    using the unique items specified\n",
    "    \n",
    "    Parameters:\n",
    "    \n",
    "    Dataframe, variables(list of strings)\n",
    "    \n",
    "    Returns:\n",
    "    \n",
    "    Dataframe\n",
    "    \n",
    "    \"\"\"\n",
    "    \n",
    "    for variable in variables: \n",
    "        # use pd.concat to join the new columns with your original dataframe\n",
    "        df = pd.concat([df,pd.get_dummies(df[variable], prefix=variable)],axis=1)\n",
    "\n",
    "# now drop the original variable column (you don't need it anymore)\n",
    "        # Removing old column\n",
    "        del df[variable]        \n",
    "        # Return the results as a dataframe\n",
    "    return df"
   ]
  },
  {
   "cell_type": "code",
<<<<<<< HEAD
   "execution_count": 13,
=======
   "execution_count": 59,
>>>>>>> 66a1a7108782f3b28e9a91e897772df6a6a42d54
   "metadata": {},
   "outputs": [],
   "source": [
    "df_encoded = onehot_df(df_mailings, categorical_features)"
   ]
  },
  {
   "cell_type": "markdown",
   "metadata": {},
   "source": [
    "### 2.3 Scaling numerical features:\n",
    "\n",
    "- age\n",
    "- earnings\n"
   ]
  },
  {
   "cell_type": "code",
<<<<<<< HEAD
   "execution_count": 14,
=======
   "execution_count": 60,
>>>>>>> 66a1a7108782f3b28e9a91e897772df6a6a42d54
   "metadata": {},
   "outputs": [],
   "source": [
    "min_max_scaler = MinMaxScaler()\n",
    "df_encoded[[\"age\", \"earnings\"]] = min_max_scaler.fit_transform(df_encoded[[\"age\", \"earnings\"]])"
   ]
  },
  {
   "cell_type": "code",
<<<<<<< HEAD
   "execution_count": 15,
=======
   "execution_count": 61,
>>>>>>> 66a1a7108782f3b28e9a91e897772df6a6a42d54
   "metadata": {},
   "outputs": [],
   "source": [
    "# Dropping unwanted columns\n",
    "df_encoded = df_encoded.drop(['name', 'zip code'], axis=1)"
   ]
  },
  {
   "cell_type": "code",
<<<<<<< HEAD
   "execution_count": 16,
=======
   "execution_count": 62,
>>>>>>> 66a1a7108782f3b28e9a91e897772df6a6a42d54
   "metadata": {},
   "outputs": [
    {
     "data": {
      "text/html": [
       "<div>\n",
       "<style scoped>\n",
       "    .dataframe tbody tr th:only-of-type {\n",
       "        vertical-align: middle;\n",
       "    }\n",
       "\n",
       "    .dataframe tbody tr th {\n",
       "        vertical-align: top;\n",
       "    }\n",
       "\n",
       "    .dataframe thead th {\n",
       "        text-align: right;\n",
       "    }\n",
       "</style>\n",
       "<table border=\"1\" class=\"dataframe\">\n",
       "  <thead>\n",
       "    <tr style=\"text-align: right;\">\n",
       "      <th></th>\n",
       "      <th>age</th>\n",
       "      <th>earnings</th>\n",
       "      <th>response</th>\n",
<<<<<<< HEAD
       "      <th>family status_n</th>\n",
       "      <th>car_n</th>\n",
       "      <th>living area_n</th>\n",
=======
       "      <th>married</th>\n",
       "      <th>expensive car owner</th>\n",
       "      <th>urban citizen</th>\n",
>>>>>>> 66a1a7108782f3b28e9a91e897772df6a6a42d54
       "      <th>sports_athletics</th>\n",
       "      <th>sports_badminton</th>\n",
       "      <th>sports_soccer</th>\n",
       "      <th>sports_unknown</th>\n",
       "      <th>...</th>\n",
       "      <th>lifestyle_healthy</th>\n",
       "      <th>zipcode_group_1</th>\n",
       "      <th>zipcode_group_2</th>\n",
       "      <th>zipcode_group_3</th>\n",
       "      <th>zipcode_group_4</th>\n",
       "      <th>zipcode_group_5</th>\n",
       "      <th>zipcode_group_6</th>\n",
       "      <th>zipcode_group_7</th>\n",
       "      <th>zipcode_group_8</th>\n",
       "      <th>zipcode_group_9</th>\n",
       "    </tr>\n",
       "  </thead>\n",
       "  <tbody>\n",
       "    <tr>\n",
       "      <th>0</th>\n",
       "      <td>0.870370</td>\n",
       "      <td>0.634921</td>\n",
       "      <td>0</td>\n",
       "      <td>0</td>\n",
       "      <td>0</td>\n",
       "      <td>1</td>\n",
       "      <td>1</td>\n",
       "      <td>0</td>\n",
       "      <td>0</td>\n",
       "      <td>0</td>\n",
       "      <td>...</td>\n",
       "      <td>0</td>\n",
       "      <td>0</td>\n",
       "      <td>0</td>\n",
       "      <td>0</td>\n",
       "      <td>0</td>\n",
       "      <td>1</td>\n",
       "      <td>0</td>\n",
       "      <td>0</td>\n",
       "      <td>0</td>\n",
       "      <td>0</td>\n",
<<<<<<< HEAD
=======
       "      <td>0</td>\n",
       "      <td>1</td>\n",
       "      <td>0</td>\n",
       "      <td>0</td>\n",
       "      <td>0</td>\n",
       "      <td>0</td>\n",
>>>>>>> 66a1a7108782f3b28e9a91e897772df6a6a42d54
       "    </tr>\n",
       "    <tr>\n",
       "      <th>1</th>\n",
       "      <td>0.351852</td>\n",
       "      <td>0.100024</td>\n",
       "      <td>0</td>\n",
       "      <td>0</td>\n",
       "      <td>0</td>\n",
       "      <td>1</td>\n",
       "      <td>0</td>\n",
       "      <td>0</td>\n",
       "      <td>1</td>\n",
       "      <td>0</td>\n",
       "      <td>...</td>\n",
       "      <td>0</td>\n",
       "      <td>0</td>\n",
       "      <td>0</td>\n",
       "      <td>0</td>\n",
       "      <td>0</td>\n",
       "      <td>0</td>\n",
       "      <td>1</td>\n",
       "      <td>0</td>\n",
       "      <td>0</td>\n",
       "      <td>0</td>\n",
<<<<<<< HEAD
=======
       "      <td>0</td>\n",
       "      <td>0</td>\n",
       "      <td>0</td>\n",
       "      <td>0</td>\n",
       "      <td>1</td>\n",
       "      <td>0</td>\n",
       "      <td>0</td>\n",
       "      <td>0</td>\n",
>>>>>>> 66a1a7108782f3b28e9a91e897772df6a6a42d54
       "    </tr>\n",
       "    <tr>\n",
       "      <th>2</th>\n",
       "      <td>1.000000</td>\n",
       "      <td>0.759827</td>\n",
       "      <td>1</td>\n",
       "      <td>0</td>\n",
       "      <td>0</td>\n",
<<<<<<< HEAD
       "      <td>1</td>\n",
       "      <td>0</td>\n",
=======
>>>>>>> 66a1a7108782f3b28e9a91e897772df6a6a42d54
       "      <td>1</td>\n",
       "      <td>0</td>\n",
       "      <td>0</td>\n",
       "      <td>...</td>\n",
       "      <td>1</td>\n",
       "      <td>1</td>\n",
       "      <td>0</td>\n",
       "      <td>0</td>\n",
       "      <td>0</td>\n",
       "      <td>0</td>\n",
<<<<<<< HEAD
=======
       "      <td>1</td>\n",
       "      <td>1</td>\n",
       "      <td>0</td>\n",
       "      <td>0</td>\n",
       "      <td>0</td>\n",
       "      <td>0</td>\n",
>>>>>>> 66a1a7108782f3b28e9a91e897772df6a6a42d54
       "      <td>0</td>\n",
       "      <td>0</td>\n",
       "      <td>0</td>\n",
       "      <td>0</td>\n",
       "    </tr>\n",
       "    <tr>\n",
       "      <th>3</th>\n",
       "      <td>0.777778</td>\n",
       "      <td>0.857304</td>\n",
       "      <td>1</td>\n",
       "      <td>0</td>\n",
       "      <td>0</td>\n",
<<<<<<< HEAD
=======
       "      <td>1</td>\n",
       "      <td>0</td>\n",
       "      <td>0</td>\n",
>>>>>>> 66a1a7108782f3b28e9a91e897772df6a6a42d54
       "      <td>1</td>\n",
       "      <td>0</td>\n",
       "      <td>0</td>\n",
       "      <td>1</td>\n",
       "      <td>0</td>\n",
       "      <td>...</td>\n",
       "      <td>0</td>\n",
       "      <td>0</td>\n",
       "      <td>0</td>\n",
       "      <td>0</td>\n",
       "      <td>0</td>\n",
       "      <td>0</td>\n",
       "      <td>0</td>\n",
       "      <td>0</td>\n",
       "      <td>1</td>\n",
       "      <td>0</td>\n",
       "      <td>0</td>\n",
       "      <td>0</td>\n",
       "      <td>0</td>\n",
       "    </tr>\n",
       "    <tr>\n",
       "      <th>4</th>\n",
       "      <td>0.944444</td>\n",
       "      <td>0.584732</td>\n",
       "      <td>1</td>\n",
       "      <td>0</td>\n",
       "      <td>0</td>\n",
<<<<<<< HEAD
=======
       "      <td>1</td>\n",
       "      <td>0</td>\n",
>>>>>>> 66a1a7108782f3b28e9a91e897772df6a6a42d54
       "      <td>1</td>\n",
       "      <td>0</td>\n",
       "      <td>0</td>\n",
       "      <td>0</td>\n",
       "      <td>1</td>\n",
       "      <td>0</td>\n",
       "      <td>0</td>\n",
       "      <td>...</td>\n",
       "      <td>0</td>\n",
       "      <td>0</td>\n",
       "      <td>0</td>\n",
       "      <td>1</td>\n",
       "      <td>0</td>\n",
       "      <td>0</td>\n",
       "      <td>0</td>\n",
       "      <td>0</td>\n",
       "      <td>0</td>\n",
       "      <td>0</td>\n",
       "    </tr>\n",
       "    <tr>\n",
       "      <th>5</th>\n",
       "      <td>0.111111</td>\n",
       "      <td>0.487578</td>\n",
       "      <td>0</td>\n",
       "      <td>0</td>\n",
       "      <td>0</td>\n",
       "      <td>1</td>\n",
       "      <td>0</td>\n",
       "      <td>1</td>\n",
       "      <td>0</td>\n",
       "      <td>0</td>\n",
<<<<<<< HEAD
       "      <td>...</td>\n",
=======
       "      <td>0</td>\n",
       "      <td>0</td>\n",
>>>>>>> 66a1a7108782f3b28e9a91e897772df6a6a42d54
       "      <td>1</td>\n",
       "      <td>0</td>\n",
       "      <td>0</td>\n",
       "      <td>0</td>\n",
       "      <td>0</td>\n",
       "      <td>0</td>\n",
       "      <td>1</td>\n",
       "      <td>0</td>\n",
       "      <td>0</td>\n",
       "      <td>0</td>\n",
       "    </tr>\n",
       "    <tr>\n",
       "      <th>6</th>\n",
       "      <td>0.129630</td>\n",
       "      <td>0.229439</td>\n",
       "      <td>0</td>\n",
       "      <td>0</td>\n",
       "      <td>0</td>\n",
       "      <td>0</td>\n",
       "      <td>0</td>\n",
       "      <td>1</td>\n",
       "      <td>0</td>\n",
<<<<<<< HEAD
=======
       "      <td>0</td>\n",
       "      <td>0</td>\n",
>>>>>>> 66a1a7108782f3b28e9a91e897772df6a6a42d54
       "      <td>0</td>\n",
       "      <td>...</td>\n",
       "      <td>1</td>\n",
       "      <td>0</td>\n",
       "      <td>0</td>\n",
       "      <td>0</td>\n",
       "      <td>0</td>\n",
       "      <td>0</td>\n",
       "      <td>1</td>\n",
       "      <td>0</td>\n",
       "      <td>0</td>\n",
       "      <td>0</td>\n",
       "    </tr>\n",
       "    <tr>\n",
       "      <th>7</th>\n",
       "      <td>0.814815</td>\n",
       "      <td>0.162808</td>\n",
       "      <td>1</td>\n",
       "      <td>0</td>\n",
       "      <td>0</td>\n",
<<<<<<< HEAD
=======
       "      <td>1</td>\n",
       "      <td>0</td>\n",
       "      <td>0</td>\n",
>>>>>>> 66a1a7108782f3b28e9a91e897772df6a6a42d54
       "      <td>1</td>\n",
       "      <td>0</td>\n",
       "      <td>0</td>\n",
       "      <td>1</td>\n",
       "      <td>0</td>\n",
       "      <td>...</td>\n",
       "      <td>0</td>\n",
       "      <td>0</td>\n",
       "      <td>0</td>\n",
       "      <td>0</td>\n",
       "      <td>0</td>\n",
       "      <td>0</td>\n",
       "      <td>1</td>\n",
       "      <td>0</td>\n",
       "      <td>0</td>\n",
       "      <td>0</td>\n",
       "      <td>0</td>\n",
       "      <td>0</td>\n",
       "    </tr>\n",
       "    <tr>\n",
       "      <th>8</th>\n",
       "      <td>0.888889</td>\n",
       "      <td>0.879702</td>\n",
       "      <td>1</td>\n",
       "      <td>0</td>\n",
       "      <td>0</td>\n",
<<<<<<< HEAD
=======
       "      <td>1</td>\n",
       "      <td>0</td>\n",
>>>>>>> 66a1a7108782f3b28e9a91e897772df6a6a42d54
       "      <td>1</td>\n",
       "      <td>0</td>\n",
       "      <td>0</td>\n",
       "      <td>1</td>\n",
       "      <td>0</td>\n",
       "      <td>0</td>\n",
<<<<<<< HEAD
       "      <td>...</td>\n",
       "      <td>0</td>\n",
=======
>>>>>>> 66a1a7108782f3b28e9a91e897772df6a6a42d54
       "      <td>0</td>\n",
       "      <td>0</td>\n",
       "      <td>0</td>\n",
       "      <td>0</td>\n",
       "      <td>1</td>\n",
       "      <td>0</td>\n",
       "      <td>0</td>\n",
       "      <td>0</td>\n",
       "      <td>0</td>\n",
       "    </tr>\n",
       "    <tr>\n",
       "      <th>9</th>\n",
       "      <td>0.296296</td>\n",
       "      <td>0.682386</td>\n",
       "      <td>0</td>\n",
       "      <td>0</td>\n",
       "      <td>0</td>\n",
       "      <td>0</td>\n",
<<<<<<< HEAD
=======
       "      <td>1</td>\n",
       "      <td>0</td>\n",
       "      <td>0</td>\n",
       "      <td>0</td>\n",
>>>>>>> 66a1a7108782f3b28e9a91e897772df6a6a42d54
       "      <td>1</td>\n",
       "      <td>0</td>\n",
       "      <td>0</td>\n",
       "      <td>0</td>\n",
<<<<<<< HEAD
       "      <td>...</td>\n",
       "      <td>0</td>\n",
       "      <td>0</td>\n",
=======
>>>>>>> 66a1a7108782f3b28e9a91e897772df6a6a42d54
       "      <td>0</td>\n",
       "      <td>1</td>\n",
       "      <td>0</td>\n",
       "      <td>0</td>\n",
       "      <td>0</td>\n",
       "      <td>0</td>\n",
       "      <td>0</td>\n",
       "      <td>0</td>\n",
       "    </tr>\n",
       "  </tbody>\n",
       "</table>\n",
       "<p>10 rows × 22 columns</p>\n",
       "</div>"
      ],
      "text/plain": [
<<<<<<< HEAD
       "        age  earnings  response  family status_n  car_n  living area_n  \\\n",
       "0  0.870370  0.634921         0                0      0              1   \n",
       "1  0.351852  0.100024         0                0      0              1   \n",
       "2  1.000000  0.759827         1                0      0              1   \n",
       "3  0.777778  0.857304         1                0      0              1   \n",
       "4  0.944444  0.584732         1                0      0              1   \n",
       "5  0.111111  0.487578         0                0      0              1   \n",
       "6  0.129630  0.229439         0                0      0              0   \n",
       "7  0.814815  0.162808         1                0      0              1   \n",
       "8  0.888889  0.879702         1                0      0              1   \n",
       "9  0.296296  0.682386         0                0      0              0   \n",
       "\n",
       "   sports_athletics  sports_badminton  sports_soccer  sports_unknown  ...  \\\n",
       "0                 1                 0              0               0  ...   \n",
       "1                 0                 0              1               0  ...   \n",
       "2                 0                 1              0               0  ...   \n",
       "3                 0                 0              1               0  ...   \n",
       "4                 0                 1              0               0  ...   \n",
       "5                 0                 1              0               0  ...   \n",
       "6                 0                 1              0               0  ...   \n",
       "7                 0                 0              1               0  ...   \n",
       "8                 0                 1              0               0  ...   \n",
       "9                 1                 0              0               0  ...   \n",
       "\n",
       "   lifestyle_healthy  zipcode_group_1  zipcode_group_2  zipcode_group_3  \\\n",
       "0                  0                0                0                0   \n",
       "1                  0                0                0                0   \n",
       "2                  1                1                0                0   \n",
       "3                  0                0                0                0   \n",
       "4                  0                0                0                1   \n",
       "5                  1                0                0                0   \n",
       "6                  1                0                0                0   \n",
       "7                  0                0                0                0   \n",
       "8                  0                0                0                0   \n",
       "9                  0                0                0                1   \n",
       "\n",
       "   zipcode_group_4  zipcode_group_5  zipcode_group_6  zipcode_group_7  \\\n",
       "0                0                1                0                0   \n",
       "1                0                0                1                0   \n",
       "2                0                0                0                0   \n",
       "3                0                1                0                0   \n",
       "4                0                0                0                0   \n",
       "5                0                0                1                0   \n",
       "6                0                0                1                0   \n",
       "7                1                0                0                0   \n",
       "8                0                1                0                0   \n",
       "9                0                0                0                0   \n",
       "\n",
       "   zipcode_group_8  zipcode_group_9  \n",
       "0                0                0  \n",
       "1                0                0  \n",
       "2                0                0  \n",
       "3                0                0  \n",
       "4                0                0  \n",
       "5                0                0  \n",
       "6                0                0  \n",
       "7                0                0  \n",
       "8                0                0  \n",
       "9                0                0  \n",
       "\n",
       "[10 rows x 22 columns]"
      ]
     },
     "execution_count": 16,
=======
       "        age  earnings  response  married  expensive car owner  urban citizen  \\\n",
       "0  0.870370  0.634921         0        0                    0              1   \n",
       "1  0.351852  0.100024         0        0                    0              1   \n",
       "2  1.000000  0.759827         1        0                    0              1   \n",
       "3  0.777778  0.857304         1        0                    0              1   \n",
       "4  0.944444  0.584732         1        0                    0              1   \n",
       "5  0.111111  0.487578         0        0                    0              1   \n",
       "6  0.129630  0.229439         0        0                    0              0   \n",
       "7  0.814815  0.162808         1        0                    0              1   \n",
       "8  0.888889  0.879702         1        0                    0              1   \n",
       "9  0.296296  0.682386         0        0                    0              0   \n",
       "\n",
       "   sports_athletics  sports_badminton  sports_soccer  sports_unknown  \\\n",
       "0                 1                 0              0               0   \n",
       "1                 0                 0              1               0   \n",
       "2                 0                 1              0               0   \n",
       "3                 0                 0              1               0   \n",
       "4                 0                 1              0               0   \n",
       "5                 0                 1              0               0   \n",
       "6                 0                 1              0               0   \n",
       "7                 0                 0              1               0   \n",
       "8                 0                 1              0               0   \n",
       "9                 1                 0              0               0   \n",
       "\n",
       "   lifestyle_active  lifestyle_cozily  lifestyle_healthy  zipcode_group_1  \\\n",
       "0                 0                 1                  0                0   \n",
       "1                 1                 0                  0                0   \n",
       "2                 0                 0                  1                1   \n",
       "3                 0                 1                  0                0   \n",
       "4                 0                 1                  0                0   \n",
       "5                 0                 0                  1                0   \n",
       "6                 0                 0                  1                0   \n",
       "7                 0                 1                  0                0   \n",
       "8                 1                 0                  0                0   \n",
       "9                 1                 0                  0                0   \n",
       "\n",
       "   zipcode_group_2  zipcode_group_3  zipcode_group_4  zipcode_group_5  \\\n",
       "0                0                0                0                1   \n",
       "1                0                0                0                0   \n",
       "2                0                0                0                0   \n",
       "3                0                0                0                1   \n",
       "4                0                1                0                0   \n",
       "5                0                0                0                0   \n",
       "6                0                0                0                0   \n",
       "7                0                0                1                0   \n",
       "8                0                0                0                1   \n",
       "9                0                1                0                0   \n",
       "\n",
       "   zipcode_group_6  zipcode_group_7  zipcode_group_8  zipcode_group_9  \n",
       "0                0                0                0                0  \n",
       "1                1                0                0                0  \n",
       "2                0                0                0                0  \n",
       "3                0                0                0                0  \n",
       "4                0                0                0                0  \n",
       "5                1                0                0                0  \n",
       "6                1                0                0                0  \n",
       "7                0                0                0                0  \n",
       "8                0                0                0                0  \n",
       "9                0                0                0                0  "
      ]
     },
     "execution_count": 62,
>>>>>>> 66a1a7108782f3b28e9a91e897772df6a6a42d54
     "metadata": {},
     "output_type": "execute_result"
    }
   ],
   "source": [
    "df_encoded.head(10)"
   ]
  },
  {
   "cell_type": "markdown",
   "metadata": {},
   "source": [
    "<a id='Data_Modelling'></a>\n",
    "## 3. Data Modeling\n",
    "\n",
    "Now we are ready to train a model and predict the required solution. There are 60+ predictive modelling algorithms to choose from. We must understand the type of problem and solution requirement to narrow down to a select few models which we can evaluate. Our problem is a classification and regression problem. We want to identify relationship between output (response or not) with other variables or features (income, age, lifestyle...). We are also perfoming a category of machine learning which is called supervised learning as we are training our model with a given dataset. With these two criteria - Supervised Learning plus Classification and Regression, we can narrow down our choice of models to a few. These include:\n",
    "\n",
    "    - Logistic Regression\n",
    "    - KNN or k-Nearest Neighbors\n",
    "    - Support Vector Machines\n",
    "    - Naive Bayes Bernoulli classifier\n",
    "    - Random Forest\n",
    "    - XG-Boost\n",
    "    - Perceptron\n",
    "\n"
   ]
  },
  {
   "cell_type": "markdown",
   "metadata": {},
   "source": [
    "### 3.1 Identify target and predictors"
   ]
  },
  {
   "cell_type": "code",
<<<<<<< HEAD
   "execution_count": 17,
=======
   "execution_count": 63,
>>>>>>> 66a1a7108782f3b28e9a91e897772df6a6a42d54
   "metadata": {},
   "outputs": [],
   "source": [
    "# Extract features and labels\n",
    "X = df_encoded.drop(\"response\", axis=1) # drop labels for training set\n",
    "y = df_encoded[\"response\"].copy()\n",
    "\n",
    "# List of features for later use\n",
    "X_columns = list(X.columns)"
   ]
  },
  {
   "cell_type": "markdown",
   "metadata": {},
   "source": [
    "#### Train / Test split"
   ]
  },
  {
   "cell_type": "code",
<<<<<<< HEAD
   "execution_count": 18,
=======
   "execution_count": 64,
>>>>>>> 66a1a7108782f3b28e9a91e897772df6a6a42d54
   "metadata": {},
   "outputs": [],
   "source": [
    "# Applying the train / test split \n",
    "X_train, X_test, y_train, y_test = train_test_split(X,y,test_size=0.2, random_state=42)\n"
   ]
  },
  {
   "cell_type": "code",
<<<<<<< HEAD
   "execution_count": 19,
=======
   "execution_count": 65,
>>>>>>> 66a1a7108782f3b28e9a91e897772df6a6a42d54
   "metadata": {},
   "outputs": [
    {
     "name": "stdout",
     "output_type": "stream",
     "text": [
      "(8000, 21)\n",
      "(2000, 21)\n",
      "(8000,)\n",
      "(2000,)\n"
     ]
    }
   ],
   "source": [
    "# Confirming the rows and columns are the \n",
    "# same for train and test data\n",
    "print(X_train.shape)\n",
    "print(X_test.shape)\n",
    "print(y_train.shape)\n",
    "print(y_test.shape)"
   ]
  },
  {
   "cell_type": "markdown",
   "metadata": {},
   "source": [
    "<a id='Model_Evaluation'></a>\n",
    "## 4. Model evaluation\n",
    "\n",
    "Compare results from several machine learning classification models"
   ]
  },
  {
   "cell_type": "markdown",
   "metadata": {},
   "source": [
    "When it comes to data modeling, the beginner’s question is always, \"what is the best machine learning algorithm?\" To this the beginner must learn, the No Free Lunch Theorem (NFLT) of Machine Learning. In short, NFLT states, there is no super algorithm, that works best in all situations, for all datasets. So the best approach is to try multiple MLAs, tune them, and compare them for your specific scenario.\n"
   ]
  },
  {
   "cell_type": "code",
<<<<<<< HEAD
   "execution_count": 20,
=======
   "execution_count": 66,
>>>>>>> 66a1a7108782f3b28e9a91e897772df6a6a42d54
   "metadata": {},
   "outputs": [],
   "source": [
    "#Machine Learning Algorithm (MLA) Selection and Initialization\n",
    "Dummy_frequent = DummyClassifier(random_state=0, strategy=\"most_frequent\")# Dummy Classifier (baseline)\n",
    "Logistic_Regression = LogisticRegression()\n",
    "Bernoulli_Naive_Bayes = BernoulliNB() # naive Bayes algorithm for multinomially distributed data,\n",
    "Support_Vector_Classifier = SVC()\n",
    "Perceptron_Classifier = Perceptron()\n",
    "Random_Forest = RandomForestClassifier()\n",
    "KNN = KNeighborsClassifier(n_neighbors = 3)\n",
    "XG_boost = xgb.XGBClassifier(objective='binary:logistic',random_state=42)\n",
    "\n",
    "MLA = [Dummy_frequent,Logistic_Regression, Support_Vector_Classifier, Bernoulli_Naive_Bayes, Perceptron_Classifier, Random_Forest, KNN, XG_boost]"
   ]
  },
  {
   "cell_type": "code",
<<<<<<< HEAD
   "execution_count": 85,
=======
<<<<<<< HEAD
   "execution_count": 21,
=======
   "execution_count": 67,
>>>>>>> 66a1a7108782f3b28e9a91e897772df6a6a42d54
>>>>>>> ec4bf30521e3152f3aefef48363d699ce5206779
   "metadata": {},
   "outputs": [],
   "source": [
    "def compare_classifiers(models_list):    \n",
    "    MLA_names = []\n",
    "    fit_times =[]\n",
    "    acc_scores = []\n",
    "    f1_scores = []\n",
    "    precision_scores = []\n",
    "    recall_scores = []\n",
    "       \n",
    "    for alg in MLA:\n",
    "        MLA_name = alg.__class__.__name__\n",
    "                \n",
    "        #initiate time count\n",
    "        global _start_time \n",
    "        start_time = time.time()\n",
    "     \n",
    "        alg.fit(X_train, y_train) # MLA fit\n",
    "                \n",
    "        y_pred = alg.predict(X_test) #MLA_predict\n",
    "        # estimate time elapsed\n",
    "        time_taken = round(((time.time() - start_time) / 60),3)\n",
    "        #model scores  \n",
    "        score = accuracy_score(y_test, y_pred)\n",
    "\n",
    "        F1 = f1_score(y_test, y_pred)\n",
    "\n",
    "        precision = precision_score(y_test, y_pred)\n",
    "\n",
    "        recall = recall_score(y_test, y_pred)\n",
    "\n",
    "        # add results to lists for a final comparison\n",
    "        MLA_names.append(MLA_name)\n",
    "        fit_times.append(time_taken)\n",
    "        acc_scores.append(round(score, 2))\n",
    "        precision_scores.append(round(precision, 2))\n",
    "        recall_scores.append(round(recall, 2))\n",
    "        f1_scores.append(round(F1, 2))\n",
    "    \n",
    "    #create table to compare MLA metrics\n",
    "    MLA_columns = ['MLA Name', 'Fit_time', 'Accuracy', 'Precision', 'Recall', 'F1']\n",
    "    zippedList =  list(zip(MLA_names, fit_times, acc_scores, f1_scores, precision_scores, recall_scores))\n",
    "    df = pd.DataFrame(zippedList, columns = MLA_columns).sort_values(by=['Recall'],ascending=False)\n",
    "    return df"
   ]
  },
  {
   "cell_type": "code",
<<<<<<< HEAD
   "execution_count": 86,
=======
<<<<<<< HEAD
   "execution_count": 22,
=======
   "execution_count": 68,
>>>>>>> 66a1a7108782f3b28e9a91e897772df6a6a42d54
>>>>>>> ec4bf30521e3152f3aefef48363d699ce5206779
   "metadata": {},
   "outputs": [
    {
     "name": "stderr",
     "output_type": "stream",
     "text": [
      "/home/marco/anaconda3/lib/python3.8/site-packages/sklearn/metrics/_classification.py:1221: UndefinedMetricWarning: Precision is ill-defined and being set to 0.0 due to no predicted samples. Use `zero_division` parameter to control this behavior.\n",
      "  _warn_prf(average, modifier, msg_start, len(result))\n"
     ]
    },
    {
     "data": {
      "text/html": [
       "<div>\n",
       "<style scoped>\n",
       "    .dataframe tbody tr th:only-of-type {\n",
       "        vertical-align: middle;\n",
       "    }\n",
       "\n",
       "    .dataframe tbody tr th {\n",
       "        vertical-align: top;\n",
       "    }\n",
       "\n",
       "    .dataframe thead th {\n",
       "        text-align: right;\n",
       "    }\n",
       "</style>\n",
       "<table border=\"1\" class=\"dataframe\">\n",
       "  <thead>\n",
       "    <tr style=\"text-align: right;\">\n",
       "      <th></th>\n",
       "      <th>MLA Name</th>\n",
       "      <th>Fit_time</th>\n",
       "      <th>Accuracy</th>\n",
       "      <th>Precision</th>\n",
       "      <th>Recall</th>\n",
       "      <th>F1</th>\n",
       "    </tr>\n",
       "  </thead>\n",
       "  <tbody>\n",
       "    <tr>\n",
       "      <th>5</th>\n",
       "      <td>RandomForestClassifier</td>\n",
       "      <td>0.006</td>\n",
       "      <td>0.89</td>\n",
       "      <td>0.85</td>\n",
       "      <td>0.85</td>\n",
       "      <td>0.85</td>\n",
       "    </tr>\n",
       "    <tr>\n",
<<<<<<< HEAD
       "      <th>7</th>\n",
       "      <td>XGBClassifier</td>\n",
       "      <td>0.008</td>\n",
       "      <td>0.88</td>\n",
       "      <td>0.83</td>\n",
       "      <td>0.84</td>\n",
       "      <td>0.83</td>\n",
=======
       "      <th>1</th>\n",
       "      <td>LogisticRegression</td>\n",
<<<<<<< HEAD
       "      <td>0.001</td>\n",
=======
       "      <td>0.000</td>\n",
>>>>>>> 66a1a7108782f3b28e9a91e897772df6a6a42d54
       "      <td>0.81</td>\n",
       "      <td>0.70</td>\n",
       "      <td>0.78</td>\n",
       "      <td>0.64</td>\n",
>>>>>>> ec4bf30521e3152f3aefef48363d699ce5206779
       "    </tr>\n",
       "    <tr>\n",
       "      <th>2</th>\n",
       "      <td>SVC</td>\n",
       "      <td>0.014</td>\n",
       "      <td>0.84</td>\n",
       "      <td>0.76</td>\n",
       "      <td>0.80</td>\n",
       "      <td>0.72</td>\n",
       "    </tr>\n",
       "    <tr>\n",
       "      <th>1</th>\n",
       "      <td>LogisticRegression</td>\n",
       "      <td>0.000</td>\n",
       "      <td>0.80</td>\n",
       "      <td>0.70</td>\n",
       "      <td>0.77</td>\n",
       "      <td>0.64</td>\n",
       "    </tr>\n",
       "    <tr>\n",
       "      <th>6</th>\n",
       "      <td>KNeighborsClassifier</td>\n",
       "      <td>0.002</td>\n",
       "      <td>0.78</td>\n",
       "      <td>0.66</td>\n",
       "      <td>0.73</td>\n",
       "      <td>0.61</td>\n",
       "    </tr>\n",
       "    <tr>\n",
       "      <th>3</th>\n",
       "      <td>BernoulliNB</td>\n",
       "      <td>0.000</td>\n",
       "      <td>0.67</td>\n",
       "      <td>0.29</td>\n",
       "      <td>0.61</td>\n",
       "      <td>0.19</td>\n",
       "    </tr>\n",
       "    <tr>\n",
       "      <th>4</th>\n",
       "      <td>Perceptron</td>\n",
       "      <td>0.000</td>\n",
<<<<<<< HEAD
=======
       "      <td>0.63</td>\n",
       "      <td>0.61</td>\n",
       "      <td>0.49</td>\n",
       "      <td>0.80</td>\n",
       "    </tr>\n",
       "    <tr>\n",
       "      <th>5</th>\n",
       "      <td>RandomForestClassifier</td>\n",
       "      <td>0.009</td>\n",
       "      <td>0.89</td>\n",
<<<<<<< HEAD
       "      <td>0.85</td>\n",
       "      <td>0.85</td>\n",
=======
       "      <td>0.84</td>\n",
       "      <td>0.84</td>\n",
>>>>>>> 66a1a7108782f3b28e9a91e897772df6a6a42d54
       "      <td>0.85</td>\n",
       "    </tr>\n",
       "    <tr>\n",
       "      <th>6</th>\n",
       "      <td>KNeighborsClassifier</td>\n",
       "      <td>0.003</td>\n",
       "      <td>0.79</td>\n",
>>>>>>> ec4bf30521e3152f3aefef48363d699ce5206779
       "      <td>0.69</td>\n",
       "      <td>0.64</td>\n",
       "      <td>0.54</td>\n",
       "      <td>0.78</td>\n",
       "    </tr>\n",
       "    <tr>\n",
<<<<<<< HEAD
       "      <th>0</th>\n",
       "      <td>DummyClassifier</td>\n",
       "      <td>0.000</td>\n",
       "      <td>0.64</td>\n",
       "      <td>0.00</td>\n",
       "      <td>0.00</td>\n",
       "      <td>0.00</td>\n",
=======
       "      <th>7</th>\n",
       "      <td>XGBClassifier</td>\n",
<<<<<<< HEAD
       "      <td>0.005</td>\n",
=======
       "      <td>0.011</td>\n",
>>>>>>> 66a1a7108782f3b28e9a91e897772df6a6a42d54
       "      <td>0.88</td>\n",
       "      <td>0.83</td>\n",
       "      <td>0.84</td>\n",
       "      <td>0.83</td>\n",
>>>>>>> ec4bf30521e3152f3aefef48363d699ce5206779
       "    </tr>\n",
       "  </tbody>\n",
       "</table>\n",
       "</div>"
      ],
      "text/plain": [
       "                 MLA Name  Fit_time  Accuracy  Precision  Recall    F1\n",
<<<<<<< HEAD
       "5  RandomForestClassifier     0.006      0.89       0.85    0.85  0.85\n",
       "7           XGBClassifier     0.008      0.88       0.83    0.84  0.83\n",
       "2                     SVC     0.014      0.84       0.76    0.80  0.72\n",
       "1      LogisticRegression     0.000      0.80       0.70    0.77  0.64\n",
       "6    KNeighborsClassifier     0.002      0.78       0.66    0.73  0.61\n",
=======
       "0         DummyClassifier     0.000      0.64       0.00    0.00  0.00\n",
<<<<<<< HEAD
       "1      LogisticRegression     0.001      0.81       0.70    0.78  0.64\n",
       "2                     SVC     0.026      0.84       0.76    0.82  0.70\n",
       "3             BernoulliNB     0.000      0.67       0.29    0.61  0.19\n",
       "4              Perceptron     0.000      0.63       0.61    0.49  0.80\n",
       "5  RandomForestClassifier     0.009      0.89       0.85    0.85  0.85\n",
       "6    KNeighborsClassifier     0.003      0.79       0.69    0.74  0.65\n",
       "7           XGBClassifier     0.005      0.88       0.83    0.84  0.83"
      ]
     },
     "execution_count": 22,
=======
       "1      LogisticRegression     0.000      0.81       0.70    0.78  0.64\n",
       "2                     SVC     0.026      0.84       0.76    0.82  0.70\n",
>>>>>>> ec4bf30521e3152f3aefef48363d699ce5206779
       "3             BernoulliNB     0.000      0.67       0.29    0.61  0.19\n",
       "4              Perceptron     0.000      0.69       0.64    0.54  0.78\n",
       "0         DummyClassifier     0.000      0.64       0.00    0.00  0.00"
      ]
     },
<<<<<<< HEAD
     "execution_count": 86,
=======
     "execution_count": 68,
>>>>>>> 66a1a7108782f3b28e9a91e897772df6a6a42d54
>>>>>>> ec4bf30521e3152f3aefef48363d699ce5206779
     "metadata": {},
     "output_type": "execute_result"
    }
   ],
   "source": [
    "df_models = compare_classifiers(MLA)\n",
    "df_models"
   ]
  },
  {
   "cell_type": "markdown",
   "metadata": {},
   "source": [
    "**Metrics importance**\n",
    "We have thousands of customers reached by our mailings. We wish they would all respond, but it is imposible, so we are interested in those with good chances to be a buyer (respond to mailings). We don't care to email a false positive, i.e. a guy that is not going to buy (so precision is not important) but for us is very important that all of them with high temperature are always in my selection, so they don't go without responding and hopefully buying. That means that my model needs to have a high recall (as little false negatives as possible), no matter if the precision is conversely affected."
   ]
  },
  {
   "cell_type": "markdown",
   "metadata": {},
   "source": [
    "## 4.1 Fine tuning the best model"
   ]
  },
  {
   "cell_type": "code",
   "execution_count": 71,
   "metadata": {},
   "outputs": [],
   "source": [
    "# Applying RandomizedSearchCV on the extreme gradient boost algorithm\n",
    "\n",
    " # create training and validation dataset\n",
    "X_train, X_valid, y_train, y_valid = train_test_split(X_train, y_train, test_size=0.25, random_state=1) # 0.25 x 0.8 = 0.2\n",
    "\n",
    "\n",
    "clf = XG_boost\n",
    "\n",
    "# A parameter grid for XGBoost\n",
    " \n",
    "\n",
    "params = {\n",
    "        'silent': [True],\n",
    "        'max_depth': [6, 10, 15, 20],\n",
    "        'learning_rate': [0.001, 0.01, 0.1, 0.2, 0,3],\n",
    "        'subsample': [0.5, 0.6, 0.7, 0.8, 0.9, 1.0],\n",
    "        'colsample_bytree': [0.4, 0.5, 0.6, 0.7, 0.8, 0.9, 1.0],\n",
    "        'colsample_bylevel': [0.4, 0.5, 0.6, 0.7, 0.8, 0.9, 1.0],\n",
    "        'min_child_weight': [0.5, 1.0, 3.0, 5.0, 7.0, 10.0],\n",
    "        'gamma': [0, 0.25, 0.5, 1.0],\n",
    "        'reg_lambda': [0.1, 1.0, 5.0, 10.0, 50.0, 100.0],\n",
    "        'n_estimators': [100, 600]}\n",
    "\n",
    "# define functions to measure time, to estimate our search efficiency\n",
    "def process_time_starts():\n",
    "    global _start_time \n",
    "    _start_time = time.time()\n",
    "\n",
    "def time_elapsed():\n",
    "    t_sec = round(time.time() - _start_time)\n",
    "    (t_min, t_sec) = divmod(t_sec,60)\n",
    "    (t_hour,t_min) = divmod(t_min,60) \n",
    "    print('The process took: {}hour:{}min:{}sec'.format(t_hour,t_min,t_sec))"
   ]
  },
  {
   "cell_type": "markdown",
   "metadata": {},
   "source": [
    "Next we set up our stratified folds and grid search parameters. I am using AUC as a scoring function, since we saw earlier that recall is quite important in this case."
   ]
  },
  {
   "cell_type": "code",
   "execution_count": 88,
   "metadata": {},
   "outputs": [
    {
     "name": "stdout",
     "output_type": "stream",
     "text": [
      "Fitting 3 folds for each of 10 candidates, totalling 30 fits\n"
     ]
    },
    {
     "name": "stderr",
     "output_type": "stream",
     "text": [
      "[Parallel(n_jobs=-1)]: Using backend LokyBackend with 8 concurrent workers.\n"
     ]
    },
    {
     "name": "stdout",
     "output_type": "stream",
     "text": [
      "The process took: 0hour:0min:2sec\n"
     ]
    },
    {
     "name": "stderr",
     "output_type": "stream",
     "text": [
      "[Parallel(n_jobs=-1)]: Done  30 out of  30 | elapsed:    1.8s finished\n"
     ]
    }
   ],
   "source": [
    "# Applying RandomizedSearchCV on the Random Forest Classifier algorithm\n",
    "\n",
    " # create training and validation dataset\n",
    "n_estimators = [100, 50, 20]\n",
    "max_depth = [5, 8]\n",
    "min_samples_split = [2, 5, 10, 15, 100]\n",
    "min_samples_leaf = [1, 2, 5, 10] \n",
    "\n",
    "hyperF = dict(n_estimators = n_estimators, max_depth = max_depth,  \n",
    "              min_samples_split = min_samples_split, \n",
    "             min_samples_leaf = min_samples_leaf)\n",
    "\n",
    "\n",
    "# Here we go\n",
    "process_time_starts() # timing starts from this point \n",
    "\n",
    "randF = RandomizedSearchCV(Random_Forest, hyperF, cv = 3, verbose = 1, n_jobs = -1, scoring='roc_auc')\n",
    "randF.fit(X_train, y_train)\n",
    "\n",
    "time_elapsed() # timing ends here for the parameters search\n"
   ]
  },
  {
   "cell_type": "code",
   "execution_count": 89,
   "metadata": {},
   "outputs": [
    {
     "name": "stdout",
     "output_type": "stream",
     "text": [
      "\n",
      " Best score:\n",
      "0.9189399616985755\n",
      "\n",
      " Best hyperparameters:\n",
      "{'n_estimators': 50, 'min_samples_split': 15, 'min_samples_leaf': 1, 'max_depth': 8}\n"
     ]
    }
   ],
   "source": [
    "print('\\n Best score:')\n",
    "print(randF.best_score_)\n",
    "print('\\n Best hyperparameters:')\n",
    "print(randF.best_params_)\n",
    "results = pd.DataFrame(random_search.cv_results_)\n",
    "results.to_csv('data/RF-grid-search-results-01.csv', index=False)\n"
   ]
  },
  {
   "cell_type": "markdown",
   "metadata": {},
   "source": [
    "Bit too long to read all results above. Let's print the grid-search results and save them in a file."
   ]
  },
  {
   "cell_type": "code",
   "execution_count": 73,
   "metadata": {},
   "outputs": [
    {
     "name": "stdout",
     "output_type": "stream",
     "text": [
      "\n",
      " Best score:\n",
      "0.9174409679244793\n",
      "\n",
      " Best hyperparameters:\n",
      "{'subsample': 0.8, 'silent': True, 'reg_lambda': 100.0, 'n_estimators': 100, 'min_child_weight': 1.0, 'max_depth': 15, 'learning_rate': 0.2, 'gamma': 1.0, 'colsample_bytree': 1.0, 'colsample_bylevel': 0.5}\n"
     ]
    }
   ],
   "source": [
    "print('\\n Best score:')\n",
    "print(random_search.best_score_)\n",
    "print('\\n Best hyperparameters:')\n",
    "print(random_search.best_params_)\n",
    "results = pd.DataFrame(random_search.cv_results_)\n",
    "results.to_csv('data/xgb-random-grid-search-results-01.csv', index=False)"
   ]
  },
  {
   "cell_type": "markdown",
   "metadata": {},
   "source": [
    "### 4.2 How do the best two models compare regarding efficiency? "
   ]
  },
  {
   "cell_type": "code",
<<<<<<< HEAD
   "execution_count": 34,
=======
   "execution_count": 69,
>>>>>>> 66a1a7108782f3b28e9a91e897772df6a6a42d54
   "metadata": {},
   "outputs": [],
   "source": [
    "# \"https://scikit-learn.org/stable/auto_examples/model_selection/plot_learning_curve.html\"\n",
    "\n",
    "def plot_learning_curve(estimator, title, X, y, axes=None, ylim=None, cv=None,\n",
    "                        n_jobs=None, train_sizes=np.linspace(.1, 1.0, 5)):\n",
    "    \n",
    "    \"\"\"\n",
    "    Generate 3 plots: the test and training learning curve, the training\n",
    "    samples vs fit times curve, the fit times vs score curve.\n",
    "\n",
    "    Parameters\n",
    "    ----------\n",
    "    estimator : estimator instance\n",
    "        An estimator instance implementing `fit` and `predict` methods which\n",
    "        will be cloned for each validation.\n",
    "\n",
    "    title : str\n",
    "        Title for the chart.\n",
    "\n",
    "    X : array-like of shape (n_samples, n_features)\n",
    "        Training vector, where ``n_samples`` is the number of samples and\n",
    "        ``n_features`` is the number of features.\n",
    "\n",
    "    y : array-like of shape (n_samples) or (n_samples, n_features)\n",
    "        Target relative to ``X`` for classification or regression;\n",
    "        None for unsupervised learning.\n",
    "\n",
    "    axes : array-like of shape (3,), default=None\n",
    "        Axes to use for plotting the curves.\n",
    "\n",
    "    ylim : tuple of shape (2,), default=None\n",
    "        Defines minimum and maximum y-values plotted, e.g. (ymin, ymax).\n",
    "\n",
    "    cv : int, cross-validation generator or an iterable, default=None\n",
    "        Determines the cross-validation splitting strategy.\n",
    "        Possible inputs for cv are:\n",
    "\n",
    "          - None, to use the default 5-fold cross-validation,\n",
    "          - integer, to specify the number of folds.\n",
    "          - :term:`CV splitter`,\n",
    "          - An iterable yielding (train, test) splits as arrays of indices.\n",
    "\n",
    "        For integer/None inputs, if ``y`` is binary or multiclass,\n",
    "        :class:`StratifiedKFold` used. If the estimator is not a classifier\n",
    "        or if ``y`` is neither binary nor multiclass, :class:`KFold` is used.\n",
    "\n",
    "        Refer :ref:`User Guide <cross_validation>` for the various\n",
    "        cross-validators that can be used here.\n",
    "\n",
    "    n_jobs : int or None, default=None\n",
    "        Number of jobs to run in parallel.\n",
    "        ``None`` means 1 unless in a :obj:`joblib.parallel_backend` context.\n",
    "        ``-1`` means using all processors. See :term:`Glossary <n_jobs>`\n",
    "        for more details.\n",
    "\n",
    "    train_sizes : array-like of shape (n_ticks,)\n",
    "        Relative or absolute numbers of training examples that will be used to\n",
    "        generate the learning curve. If the ``dtype`` is float, it is regarded\n",
    "        as a fraction of the maximum size of the training set (that is\n",
    "        determined by the selected validation method), i.e. it has to be within\n",
    "        (0, 1]. Otherwise it is interpreted as absolute sizes of the training\n",
    "        sets. Note that for classification the number of samples usually have\n",
    "        to be big enough to contain at least one sample from each class.\n",
    "        (default: np.linspace(0.1, 1.0, 5))\n",
    "    \"\"\"\n",
    "    if axes is None:\n",
    "        _, axes = plt.subplots(1, 3, figsize=(20, 5))\n",
    "\n",
    "    axes[0].set_title(title)\n",
    "    if ylim is not None:\n",
    "        axes[0].set_ylim(*ylim)\n",
    "    axes[0].set_xlabel(\"Training examples\")\n",
    "    axes[0].set_ylabel(\"Score\")\n",
    "\n",
    "    train_sizes, train_scores, test_scores, fit_times, _ = \\\n",
    "        learning_curve(estimator, X, y, cv=cv, n_jobs=n_jobs,\n",
    "                       train_sizes=train_sizes,\n",
    "                       return_times=True)\n",
    "    train_scores_mean = np.mean(train_scores, axis=1)\n",
    "    train_scores_std = np.std(train_scores, axis=1)\n",
    "    test_scores_mean = np.mean(test_scores, axis=1)\n",
    "    test_scores_std = np.std(test_scores, axis=1)\n",
    "    fit_times_mean = np.mean(fit_times, axis=1)\n",
    "    fit_times_std = np.std(fit_times, axis=1)\n",
    "\n",
    "    # Plot learning curve\n",
    "    axes[0].grid()\n",
    "    axes[0].fill_between(train_sizes, train_scores_mean - train_scores_std,\n",
    "                         train_scores_mean + train_scores_std, alpha=0.1,\n",
    "                         color=\"r\")\n",
    "    axes[0].fill_between(train_sizes, test_scores_mean - test_scores_std,\n",
    "                         test_scores_mean + test_scores_std, alpha=0.1,\n",
    "                         color=\"g\")\n",
    "    axes[0].plot(train_sizes, train_scores_mean, 'o-', color=\"r\",\n",
    "                 label=\"Training score\")\n",
    "    axes[0].plot(train_sizes, test_scores_mean, 'o-', color=\"g\",\n",
    "                 label=\"Cross-validation score\")\n",
    "    axes[0].legend(loc=\"best\")\n",
    "\n",
    "    # Plot n_samples vs fit_times\n",
    "    axes[1].grid()\n",
    "    axes[1].plot(train_sizes, fit_times_mean, 'o-')\n",
    "    axes[1].fill_between(train_sizes, fit_times_mean - fit_times_std,\n",
    "                         fit_times_mean + fit_times_std, alpha=0.1)\n",
    "    axes[1].set_xlabel(\"Training examples\")\n",
    "    axes[1].set_ylabel(\"fit_times\")\n",
    "    axes[1].set_title(\"Scalability of the model\")\n",
    "\n",
    "    # Plot fit_time vs score\n",
    "    axes[2].grid()\n",
    "    axes[2].plot(fit_times_mean, test_scores_mean, 'o-')\n",
    "    axes[2].fill_between(fit_times_mean, test_scores_mean - test_scores_std,\n",
    "                         test_scores_mean + test_scores_std, alpha=0.1)\n",
    "    axes[2].set_xlabel(\"fit_times\")\n",
    "    axes[2].set_ylabel(\"Accuracy score\")\n",
    "    axes[2].set_title(\"Performance of the model\")\n",
    "\n",
    "    return plt"
   ]
  },
  {
   "cell_type": "markdown",
   "metadata": {},
   "source": [
    "Now let's fit and obtain scores"
   ]
  },
  {
   "cell_type": "markdown",
   "metadata": {},
   "source": [
    "#### Visualising Train and Test scores by the number of training points"
   ]
  },
  {
   "cell_type": "code",
<<<<<<< HEAD
   "execution_count": 95,
=======
<<<<<<< HEAD
   "execution_count": 35,
=======
   "execution_count": 70,
>>>>>>> 66a1a7108782f3b28e9a91e897772df6a6a42d54
>>>>>>> ec4bf30521e3152f3aefef48363d699ce5206779
   "metadata": {},
   "outputs": [
    {
     "data": {
<<<<<<< HEAD
      "image/png": "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\n",
=======
<<<<<<< HEAD
      "image/png": "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\n",
=======
      "image/png": "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\n",
>>>>>>> 66a1a7108782f3b28e9a91e897772df6a6a42d54
>>>>>>> ec4bf30521e3152f3aefef48363d699ce5206779
      "text/plain": [
       "<Figure size 1440x360 with 3 Axes>"
      ]
     },
     "metadata": {
      "needs_background": "light"
     },
     "output_type": "display_data"
    },
    {
     "data": {
<<<<<<< HEAD
      "image/png": "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\n",
=======
<<<<<<< HEAD
      "image/png": "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\n",
=======
      "image/png": "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\n",
>>>>>>> 66a1a7108782f3b28e9a91e897772df6a6a42d54
>>>>>>> ec4bf30521e3152f3aefef48363d699ce5206779
      "text/plain": [
       "<Figure size 1440x360 with 3 Axes>"
      ]
     },
     "metadata": {
      "needs_background": "light"
     },
     "output_type": "display_data"
    }
   ],
   "source": [
    "# Random Forest Classifier:\n",
    "title = r\"Learning Curves for Random Forest Classifier\"\n",
    "estimator = rf1#RandomForestClassifier()\n",
    "plot_learning_curve(estimator, title,  X_train, y_train,cv=5, n_jobs=5)\n",
    "\n",
    "# Xtreme Gradient Boosting Classifier:\n",
    "title = r\"Learning Curves for XGB Classifier\"\n",
    "estimator= xgb.XGBClassifier(objective= 'binary:logistic')\n",
    "plot_learning_curve(estimator, title,  X_train, y_train,cv=5, n_jobs=5)\n",
    "\n",
    "plt.show()"
   ]
  },
  {
   "cell_type": "markdown",
   "metadata": {},
   "source": [
<<<<<<< HEAD
=======
    "## 4.2 Fine tuning the best model"
   ]
  },
  {
   "cell_type": "code",
<<<<<<< HEAD
   "execution_count": 25,
=======
   "execution_count": 71,
>>>>>>> 66a1a7108782f3b28e9a91e897772df6a6a42d54
   "metadata": {},
   "outputs": [],
   "source": [
    "# Applying RandomizedSearchCV on the extreme gradient boost algorithm\n",
    "\n",
    " # create training and validation dataset\n",
    "X_train, X_valid, y_train, y_valid = train_test_split(X_train, y_train, test_size=0.25, random_state=1) # 0.25 x 0.8 = 0.2\n",
    "\n",
    "\n",
    "clf = XG_boost\n",
    "\n",
    "# A parameter grid for XGBoost\n",
    " \n",
    "\n",
    "params = {\n",
    "        'silent': [True],\n",
    "        'max_depth': [6, 10, 15, 20],\n",
    "        'learning_rate': [0.001, 0.01, 0.1, 0.2, 0,3],\n",
    "        'subsample': [0.5, 0.6, 0.7, 0.8, 0.9, 1.0],\n",
    "        'colsample_bytree': [0.4, 0.5, 0.6, 0.7, 0.8, 0.9, 1.0],\n",
    "        'colsample_bylevel': [0.4, 0.5, 0.6, 0.7, 0.8, 0.9, 1.0],\n",
    "        'min_child_weight': [0.5, 1.0, 3.0, 5.0, 7.0, 10.0],\n",
    "        'gamma': [0, 0.25, 0.5, 1.0],\n",
    "        'reg_lambda': [0.1, 1.0, 5.0, 10.0, 50.0, 100.0],\n",
    "        'n_estimators': [100, 600]}\n",
    "\n",
    "# define functions to measure time, to estimate our search efficiency\n",
    "def process_time_starts():\n",
    "    global _start_time \n",
    "    _start_time = time.time()\n",
    "\n",
    "def time_elapsed():\n",
    "    t_sec = round(time.time() - _start_time)\n",
    "    (t_min, t_sec) = divmod(t_sec,60)\n",
    "    (t_hour,t_min) = divmod(t_min,60) \n",
    "    print('The process took: {}hour:{}min:{}sec'.format(t_hour,t_min,t_sec))"
   ]
  },
  {
   "cell_type": "markdown",
   "metadata": {},
   "source": [
    "Next we set up our stratified folds and grid search parameters. I am using AUC as a scoring function, since we saw earlier that recall is quite important in this case."
   ]
  },
  {
   "cell_type": "code",
<<<<<<< HEAD
   "execution_count": 26,
=======
   "execution_count": 72,
>>>>>>> 66a1a7108782f3b28e9a91e897772df6a6a42d54
   "metadata": {},
   "outputs": [
    {
     "name": "stdout",
     "output_type": "stream",
     "text": [
      "Fitting 3 folds for each of 5 candidates, totalling 15 fits\n",
      "[CV] subsample=1.0, silent=True, reg_lambda=50.0, n_estimators=100, min_child_weight=7.0, max_depth=10, learning_rate=0.001, gamma=0.25, colsample_bytree=0.5, colsample_bylevel=0.5 \n",
<<<<<<< HEAD
      "[12:38:16] WARNING: ../src/learner.cc:516: \n",
=======
      "[17:00:54] WARNING: ../src/learner.cc:516: \n",
>>>>>>> 66a1a7108782f3b28e9a91e897772df6a6a42d54
      "Parameters: { silent } might not be used.\n",
      "\n",
      "  This may not be accurate due to some parameters are only used in language bindings but\n",
      "  passed down to XGBoost core.  Or some parameters are not used but slip through this\n",
      "  verification. Please open an issue if you find above cases.\n",
      "\n",
      "\n",
<<<<<<< HEAD
      "[CV]  subsample=1.0, silent=True, reg_lambda=50.0, n_estimators=100, min_child_weight=7.0, max_depth=10, learning_rate=0.001, gamma=0.25, colsample_bytree=0.5, colsample_bylevel=0.5, score=0.906, total=   0.0s\n",
      "[CV] subsample=1.0, silent=True, reg_lambda=50.0, n_estimators=100, min_child_weight=7.0, max_depth=10, learning_rate=0.001, gamma=0.25, colsample_bytree=0.5, colsample_bylevel=0.5 \n",
      "[12:38:16] WARNING: ../src/learner.cc:516: \n",
=======
      "[CV]  subsample=1.0, silent=True, reg_lambda=50.0, n_estimators=100, min_child_weight=7.0, max_depth=10, learning_rate=0.001, gamma=0.25, colsample_bytree=0.5, colsample_bylevel=0.5, score=0.906, total=   0.1s\n",
      "[CV] subsample=1.0, silent=True, reg_lambda=50.0, n_estimators=100, min_child_weight=7.0, max_depth=10, learning_rate=0.001, gamma=0.25, colsample_bytree=0.5, colsample_bylevel=0.5 \n",
      "[17:00:54] WARNING: ../src/learner.cc:516: \n",
>>>>>>> 66a1a7108782f3b28e9a91e897772df6a6a42d54
      "Parameters: { silent } might not be used.\n",
      "\n",
      "  This may not be accurate due to some parameters are only used in language bindings but\n",
      "  passed down to XGBoost core.  Or some parameters are not used but slip through this\n",
      "  verification. Please open an issue if you find above cases.\n",
      "\n",
      "\n",
<<<<<<< HEAD
      "[CV]  subsample=1.0, silent=True, reg_lambda=50.0, n_estimators=100, min_child_weight=7.0, max_depth=10, learning_rate=0.001, gamma=0.25, colsample_bytree=0.5, colsample_bylevel=0.5, score=0.917, total=   0.0s\n",
      "[CV] subsample=1.0, silent=True, reg_lambda=50.0, n_estimators=100, min_child_weight=7.0, max_depth=10, learning_rate=0.001, gamma=0.25, colsample_bytree=0.5, colsample_bylevel=0.5 \n",
      "[12:38:16] WARNING: ../src/learner.cc:516: \n",
      "Parameters: { silent } might not be used.\n",
      "\n",
      "  This may not be accurate due to some parameters are only used in language bindings but\n",
      "  passed down to XGBoost core.  Or some parameters are not used but slip through this\n",
      "  verification. Please open an issue if you find above cases.\n",
      "\n",
      "\n",
      "[CV]  subsample=1.0, silent=True, reg_lambda=50.0, n_estimators=100, min_child_weight=7.0, max_depth=10, learning_rate=0.001, gamma=0.25, colsample_bytree=0.5, colsample_bylevel=0.5, score=0.910, total=   0.1s\n",
      "[CV] subsample=0.8, silent=True, reg_lambda=100.0, n_estimators=100, min_child_weight=1.0, max_depth=15, learning_rate=0.2, gamma=1.0, colsample_bytree=1.0, colsample_bylevel=0.5 \n",
      "[12:38:16] WARNING: ../src/learner.cc:516: \n",
=======
      "[CV]  subsample=1.0, silent=True, reg_lambda=50.0, n_estimators=100, min_child_weight=7.0, max_depth=10, learning_rate=0.001, gamma=0.25, colsample_bytree=0.5, colsample_bylevel=0.5, score=0.917, total=   0.1s\n",
      "[CV] subsample=1.0, silent=True, reg_lambda=50.0, n_estimators=100, min_child_weight=7.0, max_depth=10, learning_rate=0.001, gamma=0.25, colsample_bytree=0.5, colsample_bylevel=0.5 \n",
      "[17:00:54] WARNING: ../src/learner.cc:516: \n",
>>>>>>> 66a1a7108782f3b28e9a91e897772df6a6a42d54
      "Parameters: { silent } might not be used.\n",
      "\n",
      "  This may not be accurate due to some parameters are only used in language bindings but\n",
      "  passed down to XGBoost core.  Or some parameters are not used but slip through this\n",
      "  verification. Please open an issue if you find above cases.\n",
      "\n",
      "\n"
     ]
    },
    {
     "name": "stderr",
     "output_type": "stream",
     "text": [
      "[Parallel(n_jobs=1)]: Using backend SequentialBackend with 1 concurrent workers.\n",
<<<<<<< HEAD
      "[Parallel(n_jobs=1)]: Done   1 out of   1 | elapsed:    0.0s remaining:    0.0s\n",
      "[Parallel(n_jobs=1)]: Done   2 out of   2 | elapsed:    0.1s remaining:    0.0s\n"
=======
      "[Parallel(n_jobs=1)]: Done   1 out of   1 | elapsed:    0.1s remaining:    0.0s\n",
      "[Parallel(n_jobs=1)]: Done   2 out of   2 | elapsed:    0.2s remaining:    0.0s\n"
>>>>>>> 66a1a7108782f3b28e9a91e897772df6a6a42d54
     ]
    },
    {
     "name": "stdout",
     "output_type": "stream",
     "text": [
<<<<<<< HEAD
      "[CV]  subsample=0.8, silent=True, reg_lambda=100.0, n_estimators=100, min_child_weight=1.0, max_depth=15, learning_rate=0.2, gamma=1.0, colsample_bytree=1.0, colsample_bylevel=0.5, score=0.910, total=   0.2s\n",
      "[CV] subsample=0.8, silent=True, reg_lambda=100.0, n_estimators=100, min_child_weight=1.0, max_depth=15, learning_rate=0.2, gamma=1.0, colsample_bytree=1.0, colsample_bylevel=0.5 \n",
      "[12:38:17] WARNING: ../src/learner.cc:516: \n",
=======
      "[CV]  subsample=1.0, silent=True, reg_lambda=50.0, n_estimators=100, min_child_weight=7.0, max_depth=10, learning_rate=0.001, gamma=0.25, colsample_bytree=0.5, colsample_bylevel=0.5, score=0.910, total=   0.1s\n",
      "[CV] subsample=0.8, silent=True, reg_lambda=100.0, n_estimators=100, min_child_weight=1.0, max_depth=15, learning_rate=0.2, gamma=1.0, colsample_bytree=1.0, colsample_bylevel=0.5 \n",
      "[17:00:54] WARNING: ../src/learner.cc:516: \n",
>>>>>>> 66a1a7108782f3b28e9a91e897772df6a6a42d54
      "Parameters: { silent } might not be used.\n",
      "\n",
      "  This may not be accurate due to some parameters are only used in language bindings but\n",
      "  passed down to XGBoost core.  Or some parameters are not used but slip through this\n",
      "  verification. Please open an issue if you find above cases.\n",
      "\n",
      "\n",
<<<<<<< HEAD
      "[CV]  subsample=0.8, silent=True, reg_lambda=100.0, n_estimators=100, min_child_weight=1.0, max_depth=15, learning_rate=0.2, gamma=1.0, colsample_bytree=1.0, colsample_bylevel=0.5, score=0.925, total=   0.2s\n",
      "[CV] subsample=0.8, silent=True, reg_lambda=100.0, n_estimators=100, min_child_weight=1.0, max_depth=15, learning_rate=0.2, gamma=1.0, colsample_bytree=1.0, colsample_bylevel=0.5 \n",
      "[12:38:17] WARNING: ../src/learner.cc:516: \n",
=======
      "[CV]  subsample=0.8, silent=True, reg_lambda=100.0, n_estimators=100, min_child_weight=1.0, max_depth=15, learning_rate=0.2, gamma=1.0, colsample_bytree=1.0, colsample_bylevel=0.5, score=0.910, total=   0.3s\n",
      "[CV] subsample=0.8, silent=True, reg_lambda=100.0, n_estimators=100, min_child_weight=1.0, max_depth=15, learning_rate=0.2, gamma=1.0, colsample_bytree=1.0, colsample_bylevel=0.5 \n",
      "[17:00:54] WARNING: ../src/learner.cc:516: \n",
>>>>>>> 66a1a7108782f3b28e9a91e897772df6a6a42d54
      "Parameters: { silent } might not be used.\n",
      "\n",
      "  This may not be accurate due to some parameters are only used in language bindings but\n",
      "  passed down to XGBoost core.  Or some parameters are not used but slip through this\n",
      "  verification. Please open an issue if you find above cases.\n",
      "\n",
      "\n",
<<<<<<< HEAD
      "[CV]  subsample=0.8, silent=True, reg_lambda=100.0, n_estimators=100, min_child_weight=1.0, max_depth=15, learning_rate=0.2, gamma=1.0, colsample_bytree=1.0, colsample_bylevel=0.5, score=0.917, total=   0.2s\n",
      "[CV] subsample=0.6, silent=True, reg_lambda=0.1, n_estimators=600, min_child_weight=1.0, max_depth=20, learning_rate=3, gamma=1.0, colsample_bytree=0.4, colsample_bylevel=1.0 \n",
      "[12:38:17] WARNING: ../src/learner.cc:516: \n",
=======
      "[CV]  subsample=0.8, silent=True, reg_lambda=100.0, n_estimators=100, min_child_weight=1.0, max_depth=15, learning_rate=0.2, gamma=1.0, colsample_bytree=1.0, colsample_bylevel=0.5, score=0.925, total=   0.3s\n",
      "[CV] subsample=0.8, silent=True, reg_lambda=100.0, n_estimators=100, min_child_weight=1.0, max_depth=15, learning_rate=0.2, gamma=1.0, colsample_bytree=1.0, colsample_bylevel=0.5 \n",
      "[17:00:54] WARNING: ../src/learner.cc:516: \n",
      "Parameters: { silent } might not be used.\n",
      "\n",
      "  This may not be accurate due to some parameters are only used in language bindings but\n",
      "  passed down to XGBoost core.  Or some parameters are not used but slip through this\n",
      "  verification. Please open an issue if you find above cases.\n",
      "\n",
      "\n",
      "[CV]  subsample=0.8, silent=True, reg_lambda=100.0, n_estimators=100, min_child_weight=1.0, max_depth=15, learning_rate=0.2, gamma=1.0, colsample_bytree=1.0, colsample_bylevel=0.5, score=0.917, total=   0.3s\n",
      "[CV] subsample=0.6, silent=True, reg_lambda=0.1, n_estimators=600, min_child_weight=1.0, max_depth=20, learning_rate=3, gamma=1.0, colsample_bytree=0.4, colsample_bylevel=1.0 \n",
      "[17:00:55] WARNING: ../src/learner.cc:516: \n",
>>>>>>> 66a1a7108782f3b28e9a91e897772df6a6a42d54
      "Parameters: { silent } might not be used.\n",
      "\n",
      "  This may not be accurate due to some parameters are only used in language bindings but\n",
      "  passed down to XGBoost core.  Or some parameters are not used but slip through this\n",
      "  verification. Please open an issue if you find above cases.\n",
      "\n",
      "\n",
<<<<<<< HEAD
      "[CV]  subsample=0.6, silent=True, reg_lambda=0.1, n_estimators=600, min_child_weight=1.0, max_depth=20, learning_rate=3, gamma=1.0, colsample_bytree=0.4, colsample_bylevel=1.0, score=0.500, total=   0.4s\n",
      "[CV] subsample=0.6, silent=True, reg_lambda=0.1, n_estimators=600, min_child_weight=1.0, max_depth=20, learning_rate=3, gamma=1.0, colsample_bytree=0.4, colsample_bylevel=1.0 \n",
      "[12:38:17] WARNING: ../src/learner.cc:516: \n",
=======
      "[CV]  subsample=0.6, silent=True, reg_lambda=0.1, n_estimators=600, min_child_weight=1.0, max_depth=20, learning_rate=3, gamma=1.0, colsample_bytree=0.4, colsample_bylevel=1.0, score=0.500, total=   0.5s\n",
      "[CV] subsample=0.6, silent=True, reg_lambda=0.1, n_estimators=600, min_child_weight=1.0, max_depth=20, learning_rate=3, gamma=1.0, colsample_bytree=0.4, colsample_bylevel=1.0 \n",
      "[17:00:55] WARNING: ../src/learner.cc:516: \n",
>>>>>>> 66a1a7108782f3b28e9a91e897772df6a6a42d54
      "Parameters: { silent } might not be used.\n",
      "\n",
      "  This may not be accurate due to some parameters are only used in language bindings but\n",
      "  passed down to XGBoost core.  Or some parameters are not used but slip through this\n",
      "  verification. Please open an issue if you find above cases.\n",
      "\n",
      "\n",
      "[CV]  subsample=0.6, silent=True, reg_lambda=0.1, n_estimators=600, min_child_weight=1.0, max_depth=20, learning_rate=3, gamma=1.0, colsample_bytree=0.4, colsample_bylevel=1.0, score=0.500, total=   0.5s\n",
      "[CV] subsample=0.6, silent=True, reg_lambda=0.1, n_estimators=600, min_child_weight=1.0, max_depth=20, learning_rate=3, gamma=1.0, colsample_bytree=0.4, colsample_bylevel=1.0 \n",
<<<<<<< HEAD
      "[12:38:18] WARNING: ../src/learner.cc:516: \n",
=======
      "[17:00:56] WARNING: ../src/learner.cc:516: \n",
>>>>>>> 66a1a7108782f3b28e9a91e897772df6a6a42d54
      "Parameters: { silent } might not be used.\n",
      "\n",
      "  This may not be accurate due to some parameters are only used in language bindings but\n",
      "  passed down to XGBoost core.  Or some parameters are not used but slip through this\n",
      "  verification. Please open an issue if you find above cases.\n",
      "\n",
      "\n",
      "[CV]  subsample=0.6, silent=True, reg_lambda=0.1, n_estimators=600, min_child_weight=1.0, max_depth=20, learning_rate=3, gamma=1.0, colsample_bytree=0.4, colsample_bylevel=1.0, score=0.500, total=   0.5s\n",
      "[CV] subsample=0.9, silent=True, reg_lambda=1.0, n_estimators=600, min_child_weight=7.0, max_depth=20, learning_rate=0.2, gamma=0.25, colsample_bytree=0.5, colsample_bylevel=0.6 \n",
<<<<<<< HEAD
      "[12:38:18] WARNING: ../src/learner.cc:516: \n",
=======
      "[17:00:56] WARNING: ../src/learner.cc:516: \n",
>>>>>>> 66a1a7108782f3b28e9a91e897772df6a6a42d54
      "Parameters: { silent } might not be used.\n",
      "\n",
      "  This may not be accurate due to some parameters are only used in language bindings but\n",
      "  passed down to XGBoost core.  Or some parameters are not used but slip through this\n",
      "  verification. Please open an issue if you find above cases.\n",
      "\n",
      "\n",
<<<<<<< HEAD
      "[CV]  subsample=0.9, silent=True, reg_lambda=1.0, n_estimators=600, min_child_weight=7.0, max_depth=20, learning_rate=0.2, gamma=0.25, colsample_bytree=0.5, colsample_bylevel=0.6, score=0.897, total=   0.7s\n",
      "[CV] subsample=0.9, silent=True, reg_lambda=1.0, n_estimators=600, min_child_weight=7.0, max_depth=20, learning_rate=0.2, gamma=0.25, colsample_bytree=0.5, colsample_bylevel=0.6 \n",
      "[12:38:19] WARNING: ../src/learner.cc:516: \n",
=======
      "[CV]  subsample=0.9, silent=True, reg_lambda=1.0, n_estimators=600, min_child_weight=7.0, max_depth=20, learning_rate=0.2, gamma=0.25, colsample_bytree=0.5, colsample_bylevel=0.6, score=0.897, total=   1.4s\n",
      "[CV] subsample=0.9, silent=True, reg_lambda=1.0, n_estimators=600, min_child_weight=7.0, max_depth=20, learning_rate=0.2, gamma=0.25, colsample_bytree=0.5, colsample_bylevel=0.6 \n",
      "[17:00:58] WARNING: ../src/learner.cc:516: \n",
>>>>>>> 66a1a7108782f3b28e9a91e897772df6a6a42d54
      "Parameters: { silent } might not be used.\n",
      "\n",
      "  This may not be accurate due to some parameters are only used in language bindings but\n",
      "  passed down to XGBoost core.  Or some parameters are not used but slip through this\n",
      "  verification. Please open an issue if you find above cases.\n",
      "\n",
      "\n",
<<<<<<< HEAD
      "[CV]  subsample=0.9, silent=True, reg_lambda=1.0, n_estimators=600, min_child_weight=7.0, max_depth=20, learning_rate=0.2, gamma=0.25, colsample_bytree=0.5, colsample_bylevel=0.6, score=0.907, total=   0.9s\n",
      "[CV] subsample=0.9, silent=True, reg_lambda=1.0, n_estimators=600, min_child_weight=7.0, max_depth=20, learning_rate=0.2, gamma=0.25, colsample_bytree=0.5, colsample_bylevel=0.6 \n",
      "[12:38:20] WARNING: ../src/learner.cc:516: \n",
=======
      "[CV]  subsample=0.9, silent=True, reg_lambda=1.0, n_estimators=600, min_child_weight=7.0, max_depth=20, learning_rate=0.2, gamma=0.25, colsample_bytree=0.5, colsample_bylevel=0.6, score=0.907, total=   1.4s\n",
      "[CV] subsample=0.9, silent=True, reg_lambda=1.0, n_estimators=600, min_child_weight=7.0, max_depth=20, learning_rate=0.2, gamma=0.25, colsample_bytree=0.5, colsample_bylevel=0.6 \n",
      "[17:00:59] WARNING: ../src/learner.cc:516: \n",
>>>>>>> 66a1a7108782f3b28e9a91e897772df6a6a42d54
      "Parameters: { silent } might not be used.\n",
      "\n",
      "  This may not be accurate due to some parameters are only used in language bindings but\n",
      "  passed down to XGBoost core.  Or some parameters are not used but slip through this\n",
      "  verification. Please open an issue if you find above cases.\n",
      "\n",
      "\n",
<<<<<<< HEAD
      "[CV]  subsample=0.9, silent=True, reg_lambda=1.0, n_estimators=600, min_child_weight=7.0, max_depth=20, learning_rate=0.2, gamma=0.25, colsample_bytree=0.5, colsample_bylevel=0.6, score=0.901, total=   0.8s\n",
      "[CV] subsample=0.7, silent=True, reg_lambda=50.0, n_estimators=600, min_child_weight=7.0, max_depth=10, learning_rate=0.1, gamma=1.0, colsample_bytree=0.9, colsample_bylevel=0.7 \n",
      "[12:38:20] WARNING: ../src/learner.cc:516: \n",
=======
      "[CV]  subsample=0.9, silent=True, reg_lambda=1.0, n_estimators=600, min_child_weight=7.0, max_depth=20, learning_rate=0.2, gamma=0.25, colsample_bytree=0.5, colsample_bylevel=0.6, score=0.901, total=   1.4s\n",
      "[CV] subsample=0.7, silent=True, reg_lambda=50.0, n_estimators=600, min_child_weight=7.0, max_depth=10, learning_rate=0.1, gamma=1.0, colsample_bytree=0.9, colsample_bylevel=0.7 \n",
      "[17:01:00] WARNING: ../src/learner.cc:516: \n",
>>>>>>> 66a1a7108782f3b28e9a91e897772df6a6a42d54
      "Parameters: { silent } might not be used.\n",
      "\n",
      "  This may not be accurate due to some parameters are only used in language bindings but\n",
      "  passed down to XGBoost core.  Or some parameters are not used but slip through this\n",
      "  verification. Please open an issue if you find above cases.\n",
      "\n",
      "\n",
<<<<<<< HEAD
      "[CV]  subsample=0.7, silent=True, reg_lambda=50.0, n_estimators=600, min_child_weight=7.0, max_depth=10, learning_rate=0.1, gamma=1.0, colsample_bytree=0.9, colsample_bylevel=0.7, score=0.910, total=   1.1s\n",
      "[CV] subsample=0.7, silent=True, reg_lambda=50.0, n_estimators=600, min_child_weight=7.0, max_depth=10, learning_rate=0.1, gamma=1.0, colsample_bytree=0.9, colsample_bylevel=0.7 \n",
      "[12:38:21] WARNING: ../src/learner.cc:516: \n",
=======
      "[CV]  subsample=0.7, silent=True, reg_lambda=50.0, n_estimators=600, min_child_weight=7.0, max_depth=10, learning_rate=0.1, gamma=1.0, colsample_bytree=0.9, colsample_bylevel=0.7, score=0.910, total=   1.6s\n",
      "[CV] subsample=0.7, silent=True, reg_lambda=50.0, n_estimators=600, min_child_weight=7.0, max_depth=10, learning_rate=0.1, gamma=1.0, colsample_bytree=0.9, colsample_bylevel=0.7 \n",
      "[17:01:02] WARNING: ../src/learner.cc:516: \n",
>>>>>>> 66a1a7108782f3b28e9a91e897772df6a6a42d54
      "Parameters: { silent } might not be used.\n",
      "\n",
      "  This may not be accurate due to some parameters are only used in language bindings but\n",
      "  passed down to XGBoost core.  Or some parameters are not used but slip through this\n",
      "  verification. Please open an issue if you find above cases.\n",
      "\n",
      "\n",
<<<<<<< HEAD
      "[CV]  subsample=0.7, silent=True, reg_lambda=50.0, n_estimators=600, min_child_weight=7.0, max_depth=10, learning_rate=0.1, gamma=1.0, colsample_bytree=0.9, colsample_bylevel=0.7, score=0.923, total=   0.8s\n",
      "[CV] subsample=0.7, silent=True, reg_lambda=50.0, n_estimators=600, min_child_weight=7.0, max_depth=10, learning_rate=0.1, gamma=1.0, colsample_bytree=0.9, colsample_bylevel=0.7 \n",
      "[12:38:22] WARNING: ../src/learner.cc:516: \n",
=======
      "[CV]  subsample=0.7, silent=True, reg_lambda=50.0, n_estimators=600, min_child_weight=7.0, max_depth=10, learning_rate=0.1, gamma=1.0, colsample_bytree=0.9, colsample_bylevel=0.7, score=0.923, total=   1.7s\n",
      "[CV] subsample=0.7, silent=True, reg_lambda=50.0, n_estimators=600, min_child_weight=7.0, max_depth=10, learning_rate=0.1, gamma=1.0, colsample_bytree=0.9, colsample_bylevel=0.7 \n",
      "[17:01:04] WARNING: ../src/learner.cc:516: \n",
>>>>>>> 66a1a7108782f3b28e9a91e897772df6a6a42d54
      "Parameters: { silent } might not be used.\n",
      "\n",
      "  This may not be accurate due to some parameters are only used in language bindings but\n",
      "  passed down to XGBoost core.  Or some parameters are not used but slip through this\n",
      "  verification. Please open an issue if you find above cases.\n",
      "\n",
      "\n",
<<<<<<< HEAD
      "[CV]  subsample=0.7, silent=True, reg_lambda=50.0, n_estimators=600, min_child_weight=7.0, max_depth=10, learning_rate=0.1, gamma=1.0, colsample_bytree=0.9, colsample_bylevel=0.7, score=0.915, total=   0.8s\n",
      "[12:38:23] WARNING: ../src/learner.cc:516: \n",
=======
      "[CV]  subsample=0.7, silent=True, reg_lambda=50.0, n_estimators=600, min_child_weight=7.0, max_depth=10, learning_rate=0.1, gamma=1.0, colsample_bytree=0.9, colsample_bylevel=0.7, score=0.915, total=   1.7s\n",
      "[17:01:05] WARNING: ../src/learner.cc:516: \n",
>>>>>>> 66a1a7108782f3b28e9a91e897772df6a6a42d54
      "Parameters: { silent } might not be used.\n",
      "\n",
      "  This may not be accurate due to some parameters are only used in language bindings but\n",
      "  passed down to XGBoost core.  Or some parameters are not used but slip through this\n",
      "  verification. Please open an issue if you find above cases.\n",
      "\n",
      "\n"
     ]
    },
    {
     "name": "stderr",
     "output_type": "stream",
     "text": [
<<<<<<< HEAD
      "[Parallel(n_jobs=1)]: Done  15 out of  15 | elapsed:    6.7s finished\n"
=======
      "[Parallel(n_jobs=1)]: Done  15 out of  15 | elapsed:   11.8s finished\n"
>>>>>>> 66a1a7108782f3b28e9a91e897772df6a6a42d54
     ]
    },
    {
     "name": "stdout",
     "output_type": "stream",
     "text": [
      "The process took: 0hour:0min:12sec\n"
     ]
    }
   ],
   "source": [
    "folds = 3\n",
    "param_comb = 5 # The param_comb parameter declares how many different combinations should be picked randomly out of our total.\n",
    "\n",
    "skf = StratifiedKFold(n_splits=folds, shuffle = True, random_state = 1001)\n",
    "\n",
    "random_search = RandomizedSearchCV(clf, param_distributions=params, n_iter=param_comb, scoring='roc_auc', n_jobs=1, cv=skf.split(X_train,y_train), verbose=3, random_state=1001 )\n",
    "\n",
    "# Here we go\n",
    "process_time_starts() # timing starts from this point \n",
    "\n",
    "random_search.fit(X_train, y_train)\n",
    "\n",
    "time_elapsed() # timing ends here for the parameters search"
   ]
  },
  {
   "cell_type": "markdown",
   "metadata": {},
   "source": [
    "Bit too long to read all results above. Let's print the grid-search results and save them in a file."
   ]
  },
  {
   "cell_type": "code",
<<<<<<< HEAD
   "execution_count": 27,
=======
   "execution_count": 73,
>>>>>>> 66a1a7108782f3b28e9a91e897772df6a6a42d54
   "metadata": {},
   "outputs": [
    {
     "name": "stdout",
     "output_type": "stream",
     "text": [
      "\n",
      " Best score:\n",
      "0.9174409679244793\n",
      "\n",
      " Best hyperparameters:\n",
      "{'subsample': 0.8, 'silent': True, 'reg_lambda': 100.0, 'n_estimators': 100, 'min_child_weight': 1.0, 'max_depth': 15, 'learning_rate': 0.2, 'gamma': 1.0, 'colsample_bytree': 1.0, 'colsample_bylevel': 0.5}\n"
     ]
    }
   ],
   "source": [
    "print('\\n Best score:')\n",
    "print(random_search.best_score_)\n",
    "print('\\n Best hyperparameters:')\n",
    "print(random_search.best_params_)\n",
    "results = pd.DataFrame(random_search.cv_results_)\n",
    "results.to_csv('data/xgb-random-grid-search-results-01.csv', index=False)"
   ]
  },
  {
   "cell_type": "markdown",
   "metadata": {},
   "source": [
>>>>>>> ec4bf30521e3152f3aefef48363d699ce5206779
    "## 4.3 Feature Importance"
   ]
  },
  {
   "cell_type": "code",
   "execution_count": 90,
   "metadata": {},
   "outputs": [
    {
     "name": "stdout",
     "output_type": "stream",
     "text": [
<<<<<<< HEAD
      "[19:46:58] WARNING: ../src/learner.cc:516: \n",
=======
<<<<<<< HEAD
      "[12:40:35] WARNING: ../src/learner.cc:516: \n",
=======
      "[17:02:49] WARNING: ../src/learner.cc:516: \n",
>>>>>>> 66a1a7108782f3b28e9a91e897772df6a6a42d54
>>>>>>> ec4bf30521e3152f3aefef48363d699ce5206779
      "Parameters: { silent } might not be used.\n",
      "\n",
      "  This may not be accurate due to some parameters are only used in language bindings but\n",
      "  passed down to XGBoost core.  Or some parameters are not used but slip through this\n",
      "  verification. Please open an issue if you find above cases.\n",
      "\n",
      "\n",
      "accuracy: 0.8935 precision: 0.8591954022988506 recall: 0.8387096774193549 F1: 0.8488289567068844\n"
     ]
    }
   ],
   "source": [
    "# Final model and parameters\n",
    "\n",
<<<<<<< HEAD
    "rf1 = random_search.best_estimator_\n",
=======
<<<<<<< HEAD
    "xgb1 = xgb.XGBClassifier(objective='binary:logistic',\n",
    "                        nthread=1,\n",
    "                        subsample= 0.8,\n",
    "                        random_state=42, \n",
    "                        silent= True, \n",
    "                        reg_lambda= 100.0, \n",
    "                        n_estimators= 100, \n",
    "                        min_child_weight= 1.0, \n",
    "                        max_depth= 15, \n",
    "                        learning_rate= 0.2, \n",
    "                        gamma= 1, \n",
    "                        colsample_bytree= 1.0, \n",
    "                        colsample_bylevel= 0.5)\n",
    "\n",
    "xgb1.fit(X_train,y_train)\n",
    "\n",
=======
    "xgb1 = random_search.best_estimator_\n",
>>>>>>> ec4bf30521e3152f3aefef48363d699ce5206779
    "\n",
    "rf1.fit(X_train,y_train)\n",
    "\n",
<<<<<<< HEAD
    "y_pred = rf1.predict(X_test)\n",
=======
>>>>>>> 66a1a7108782f3b28e9a91e897772df6a6a42d54
    "y_pred = xgb1.predict(X_test)\n",
>>>>>>> ec4bf30521e3152f3aefef48363d699ce5206779
    "\n",
    "acc = accuracy_score(y_test, y_pred)\n",
    "\n",
    "F1 = f1_score(y_test, y_pred)\n",
    "\n",
    "precision = precision_score(y_test, y_pred)\n",
    "\n",
    "recall = recall_score(y_test, y_pred)\n",
    "\n",
    "print('accuracy:',acc, 'precision:',precision ,'recall:', recall, 'F1:', F1)"
   ]
  },
  {
   "cell_type": "code",
   "execution_count": 91,
   "metadata": {},
   "outputs": [
    {
     "data": {
      "text/html": [
       "<div>\n",
       "<style scoped>\n",
       "    .dataframe tbody tr th:only-of-type {\n",
       "        vertical-align: middle;\n",
       "    }\n",
       "\n",
       "    .dataframe tbody tr th {\n",
       "        vertical-align: top;\n",
       "    }\n",
       "\n",
       "    .dataframe thead th {\n",
       "        text-align: right;\n",
       "    }\n",
       "</style>\n",
       "<table border=\"1\" class=\"dataframe\">\n",
       "  <thead>\n",
       "    <tr style=\"text-align: right;\">\n",
       "      <th></th>\n",
       "      <th>Feature</th>\n",
       "      <th>% weight</th>\n",
       "    </tr>\n",
       "  </thead>\n",
       "  <tbody>\n",
       "    <tr>\n",
       "      <th>0</th>\n",
       "      <td>age</td>\n",
       "      <td>44.109882</td>\n",
       "    </tr>\n",
       "    <tr>\n",
       "      <th>12</th>\n",
       "      <td>zipcode_group_1</td>\n",
       "      <td>24.309626</td>\n",
       "    </tr>\n",
       "    <tr>\n",
       "      <th>1</th>\n",
       "      <td>earnings</td>\n",
       "      <td>17.319645</td>\n",
       "    </tr>\n",
       "    <tr>\n",
       "      <th>4</th>\n",
<<<<<<< HEAD
       "      <td>living area_n</td>\n",
=======
       "      <td>urban citizen</td>\n",
>>>>>>> 66a1a7108782f3b28e9a91e897772df6a6a42d54
       "      <td>1.193888</td>\n",
       "    </tr>\n",
       "    <tr>\n",
       "      <th>11</th>\n",
       "      <td>lifestyle_healthy</td>\n",
       "      <td>1.174871</td>\n",
       "    </tr>\n",
       "    <tr>\n",
       "      <th>14</th>\n",
       "      <td>zipcode_group_3</td>\n",
       "      <td>1.138258</td>\n",
       "    </tr>\n",
       "    <tr>\n",
       "      <th>16</th>\n",
       "      <td>zipcode_group_5</td>\n",
       "      <td>1.094983</td>\n",
       "    </tr>\n",
       "    <tr>\n",
       "      <th>15</th>\n",
       "      <td>zipcode_group_4</td>\n",
       "      <td>0.993481</td>\n",
       "    </tr>\n",
       "    <tr>\n",
       "      <th>17</th>\n",
       "      <td>zipcode_group_6</td>\n",
       "      <td>0.971363</td>\n",
       "    </tr>\n",
       "    <tr>\n",
       "      <th>9</th>\n",
       "      <td>lifestyle_active</td>\n",
       "      <td>0.963059</td>\n",
       "    </tr>\n",
       "    <tr>\n",
       "      <th>5</th>\n",
       "      <td>sports_athletics</td>\n",
       "      <td>0.931638</td>\n",
       "    </tr>\n",
       "    <tr>\n",
       "      <th>20</th>\n",
       "      <td>zipcode_group_9</td>\n",
       "      <td>0.915973</td>\n",
       "    </tr>\n",
       "    <tr>\n",
       "      <th>18</th>\n",
       "      <td>zipcode_group_7</td>\n",
       "      <td>0.854187</td>\n",
       "    </tr>\n",
       "    <tr>\n",
       "      <th>7</th>\n",
       "      <td>sports_soccer</td>\n",
       "      <td>0.815145</td>\n",
       "    </tr>\n",
       "    <tr>\n",
       "      <th>6</th>\n",
       "      <td>sports_badminton</td>\n",
       "      <td>0.777398</td>\n",
       "    </tr>\n",
       "    <tr>\n",
       "      <th>13</th>\n",
       "      <td>zipcode_group_2</td>\n",
       "      <td>0.727729</td>\n",
       "    </tr>\n",
       "    <tr>\n",
       "      <th>10</th>\n",
       "      <td>lifestyle_cozily</td>\n",
       "      <td>0.686865</td>\n",
       "    </tr>\n",
       "    <tr>\n",
       "      <th>8</th>\n",
       "      <td>sports_unknown</td>\n",
       "      <td>0.524875</td>\n",
       "    </tr>\n",
       "    <tr>\n",
       "      <th>19</th>\n",
       "      <td>zipcode_group_8</td>\n",
       "      <td>0.497133</td>\n",
       "    </tr>\n",
       "    <tr>\n",
       "      <th>3</th>\n",
<<<<<<< HEAD
       "      <td>car_n</td>\n",
=======
       "      <td>expensive car owner</td>\n",
>>>>>>> 66a1a7108782f3b28e9a91e897772df6a6a42d54
       "      <td>0.000000</td>\n",
       "    </tr>\n",
       "    <tr>\n",
       "      <th>2</th>\n",
<<<<<<< HEAD
       "      <td>family status_n</td>\n",
=======
       "      <td>married</td>\n",
>>>>>>> 66a1a7108782f3b28e9a91e897772df6a6a42d54
       "      <td>0.000000</td>\n",
       "    </tr>\n",
       "  </tbody>\n",
       "</table>\n",
       "</div>"
      ],
      "text/plain": [
<<<<<<< HEAD
       "              Feature   % weight\n",
       "0                 age  44.109882\n",
       "12    zipcode_group_1  24.309626\n",
       "1            earnings  17.319645\n",
       "4       living area_n   1.193888\n",
       "11  lifestyle_healthy   1.174871\n",
       "14    zipcode_group_3   1.138258\n",
       "16    zipcode_group_5   1.094983\n",
       "15    zipcode_group_4   0.993481\n",
       "17    zipcode_group_6   0.971363\n",
       "9    lifestyle_active   0.963059\n",
       "5    sports_athletics   0.931638\n",
       "20    zipcode_group_9   0.915973\n",
       "18    zipcode_group_7   0.854187\n",
       "7       sports_soccer   0.815145\n",
       "6    sports_badminton   0.777398\n",
       "13    zipcode_group_2   0.727729\n",
       "10   lifestyle_cozily   0.686865\n",
       "8      sports_unknown   0.524875\n",
       "19    zipcode_group_8   0.497133\n",
       "3               car_n   0.000000\n",
       "2     family status_n   0.000000"
=======
       "                Feature   % weight\n",
       "0                   age  44.109882\n",
       "12      zipcode_group_1  24.309626\n",
       "1              earnings  17.319645\n",
       "4         urban citizen   1.193888\n",
       "11    lifestyle_healthy   1.174871\n",
       "14      zipcode_group_3   1.138258\n",
       "16      zipcode_group_5   1.094983\n",
       "15      zipcode_group_4   0.993481\n",
       "17      zipcode_group_6   0.971363\n",
       "9      lifestyle_active   0.963059\n",
       "5      sports_athletics   0.931638\n",
       "20      zipcode_group_9   0.915973\n",
       "18      zipcode_group_7   0.854187\n",
       "7         sports_soccer   0.815145\n",
       "6      sports_badminton   0.777398\n",
       "13      zipcode_group_2   0.727729\n",
       "10     lifestyle_cozily   0.686865\n",
       "8        sports_unknown   0.524875\n",
       "19      zipcode_group_8   0.497133\n",
       "3   expensive car owner   0.000000\n",
       "2               married   0.000000"
>>>>>>> 66a1a7108782f3b28e9a91e897772df6a6a42d54
      ]
     },
     "execution_count": 91,
     "metadata": {},
     "output_type": "execute_result"
    }
   ],
   "source": [
    "# feature importance scores\n",
    "list_pc_importance = (rf1.feature_importances_)*100\n",
    "feat = X.columns.tolist()\n",
    "df_features = pd.DataFrame({'Feature':feat, '% weight': list_pc_importance}).sort_values(by=['% weight'], ascending = False )\n",
    "\n",
    "#print(xgb2.feature_importances_)\n",
    "df_features"
   ]
  },
  {
   "cell_type": "code",
   "execution_count": 92,
   "metadata": {},
   "outputs": [
    {
     "data": {
<<<<<<< HEAD
      "image/png": "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\n",
=======
      "image/png": "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\n",
>>>>>>> 66a1a7108782f3b28e9a91e897772df6a6a42d54
      "text/plain": [
       "<Figure size 432x432 with 1 Axes>"
      ]
     },
     "metadata": {
      "needs_background": "light"
     },
     "output_type": "display_data"
    }
   ],
   "source": [
    "#plot graph of feature importances for better visualization\n",
    "plt.figure(figsize= (6,6))\n",
    "plt.title(\"Feature importances for mailings response\")\n",
    "\n",
    "plt.bar(df_features[\"Feature\"][:5], df_features[\"% weight\"][:5], label = 'importance (%)')\n",
    "\n",
    "plt.legend()\n",
    "plt.ylabel('% weight',fontsize = 16)\n",
    "plt.xlabel('Responder feature',fontsize = 16)\n",
    "plt.xticks(rotation=90)\n",
    "plt.show()"
   ]
  },
  {
   "cell_type": "markdown",
   "metadata": {},
   "source": [
    "**Are categorical features correlated or anticorrelated?**"
   ]
  },
  {
   "cell_type": "code",
   "execution_count": 93,
   "metadata": {},
   "outputs": [],
   "source": [
    "df_binary = df_encoded[['zipcode_group_1','lifestyle_healthy','urban citizen','response' ]] #select features"
   ]
  },
  {
   "cell_type": "code",
   "execution_count": 94,
   "metadata": {},
   "outputs": [
    {
     "data": {
      "text/plain": [
       "zipcode_group_1      0.182073\n",
       "lifestyle_healthy    0.005076\n",
       "urban citizen       -0.002543\n",
       "response             1.000000\n",
       "Name: response, dtype: float64"
      ]
     },
     "execution_count": 94,
     "metadata": {},
     "output_type": "execute_result"
    }
   ],
   "source": [
    "## find correlation to response\n",
    "df_binary[df_binary.columns[0:]].corr()['response'][:]"
   ]
  },
  {
   "cell_type": "markdown",
   "metadata": {},
   "source": [
    "<a id='Conclusion'></a>\n",
    "# 5. Conclusions"
   ]
  },
  {
   "cell_type": "markdown",
   "metadata": {},
   "source": [
    "With my final investigation I wanted to see if I could predict how likely someone is going to respond to mailings based on personal informations.\n",
    "\n",
<<<<<<< HEAD
    "**The prediction model that performed the best, was the \"Random Forest\" algorithm. I could predict response with a 89% accuracy on test data, and most important with 85% recall. This means I can have only very few false negatives and target the most likely responders.**\n",
=======
<<<<<<< HEAD
    "I found that the prediction model that performed the best, was the \"Xtreme Gradient Boost\" algorithm. I could predict response with a 90% accuracy on test data, and most important with 87% recall. This means I can have only very few false negatives and target the most likely responders.\n",
=======
    "**The prediction model that performed the best, was the \"Xtreme Gradient Boost\" algorithm. I could predict response with a 89% accuracy on test data, and most important with 85% recall. This means I can have only very few false negatives and target the most likely responders.**\n",
>>>>>>> ec4bf30521e3152f3aefef48363d699ce5206779
    "\n",
>>>>>>> 66a1a7108782f3b28e9a91e897772df6a6a42d54
    "\n",
    "**When I investigated the features of the results, I found that the conclusions are very similar to those from simple EDA:**\n",
    "-  Main predictors are age, income and whether the target lives or not in the group 1 of zip codes (10000-19999) corresponding to NY state in US.\n",
    "\n",
    "-  Based on the model it is more likely to obtain response from people living in rural area and with a healthy lifestyle. These are minor predictors though (around 1% importance)."
   ]
  },
  {
   "cell_type": "code",
   "execution_count": null,
   "metadata": {},
   "outputs": [],
   "source": []
  }
 ],
 "metadata": {
  "kernelspec": {
   "display_name": "Python 3",
   "language": "python",
   "name": "python3"
  },
  "language_info": {
   "codemirror_mode": {
    "name": "ipython",
    "version": 3
   },
   "file_extension": ".py",
   "mimetype": "text/x-python",
   "name": "python",
   "nbconvert_exporter": "python",
   "pygments_lexer": "ipython3",
   "version": "3.8.3"
  }
 },
 "nbformat": 4,
 "nbformat_minor": 4
}
