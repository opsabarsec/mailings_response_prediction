{
 "cells": [
  {
   "cell_type": "markdown",
   "metadata": {},
   "source": [
    "# **Response to mailings - Part 1 notebook**\n",
    "In this notebook we carry out data cleaning and exploratory analysis\n",
    "\n",
    "## Table of contents "
   ]
  },
  {
   "cell_type": "markdown",
   "metadata": {},
   "source": [
    "1. [Business Understanding](#Business_Understanding)\n",
    "2. [Prepare Data](#Prepare_Data)\n",
    "3. [Data Understanding](#Data_Understanding)\n",
    "4. [Business Questions](#Business_Questions)\n",
    "5. [Conclusions - part1](#Conclusions) \n",
    "\n"
   ]
  },
  {
   "cell_type": "markdown",
   "metadata": {},
   "source": [
    "## 1. Business Understanding"
   ]
  },
  {
   "cell_type": "markdown",
   "metadata": {},
   "source": [
    "The data represents the reaction taken by population in a large residential area when they receive direct mailing data advertisements, whether they respond to the sent advertisement or not. Their responses are recorded in the target feature column.\n",
    "\n",
    "In this notebook I am using visualisation tools to assist me for an exploration of the dataset answering the following questions:\n",
    "\n",
    "* What is the data size?\n",
    "* What is the important information that can be extracted from this data?\n",
    "* Can we identify the best variables to link to the target feature?\n",
    "\n",
    "Some business questions can be addressed by exploring the data, prior to modelling\n",
    "\n",
    "[Link to business questions](#Business_Questions)\n"
   ]
  },
  {
   "cell_type": "markdown",
   "metadata": {},
   "source": [
    "<a id='Prepare_Data'></a>\n",
    "## 2. Prepare Data"
   ]
  },
  {
   "cell_type": "markdown",
   "metadata": {},
   "source": [
    "### Importing Libraries"
   ]
  },
  {
   "cell_type": "code",
   "execution_count": 1,
   "metadata": {},
   "outputs": [],
   "source": [
    "import os\n",
    "import sys\n",
    "import time\n",
    "import numpy as np\n",
    "import pandas as pd\n",
    "import matplotlib.pyplot as plt\n",
    "from PIL import Image\n",
    "import folium\n",
    "import seaborn as sns\n",
    "from uszipcode import SearchEngine\n",
    "\n",
    "%matplotlib inline\n",
    "import plotly.offline as pyo\n",
    "import plotly.graph_objs as go # interactive plotting library\n",
    "import pickle\n",
    "import json\n",
    "import io"
   ]
  },
  {
   "cell_type": "markdown",
   "metadata": {},
   "source": [
    "### Loading Data"
   ]
  },
  {
   "cell_type": "code",
   "execution_count": 2,
   "metadata": {},
   "outputs": [],
   "source": [
    "# Loading csv file into dataframe\n",
    "df_population_raw = pd.read_csv('data/Recruiting_Task_InputData.csv', low_memory=False)"
   ]
  },
  {
   "cell_type": "markdown",
   "metadata": {},
   "source": [
    "### 2.1. What are our variables? "
   ]
  },
  {
   "cell_type": "code",
   "execution_count": 3,
   "metadata": {},
   "outputs": [
    {
     "name": "stdout",
     "output_type": "stream",
     "text": [
      "(10000, 10)\n"
     ]
    },
    {
     "data": {
      "text/html": [
       "<div>\n",
       "<style scoped>\n",
       "    .dataframe tbody tr th:only-of-type {\n",
       "        vertical-align: middle;\n",
       "    }\n",
       "\n",
       "    .dataframe tbody tr th {\n",
       "        vertical-align: top;\n",
       "    }\n",
       "\n",
       "    .dataframe thead th {\n",
       "        text-align: right;\n",
       "    }\n",
       "</style>\n",
       "<table border=\"1\" class=\"dataframe\">\n",
       "  <thead>\n",
       "    <tr style=\"text-align: right;\">\n",
       "      <th></th>\n",
       "      <th>name</th>\n",
       "      <th>age</th>\n",
       "      <th>lifestyle</th>\n",
       "      <th>zip code</th>\n",
       "      <th>family status</th>\n",
       "      <th>car</th>\n",
       "      <th>sports</th>\n",
       "      <th>earnings</th>\n",
       "      <th>living area</th>\n",
       "      <th>label</th>\n",
       "    </tr>\n",
       "  </thead>\n",
       "  <tbody>\n",
       "    <tr>\n",
       "      <th>0</th>\n",
       "      <td>VnSEFOuL</td>\n",
       "      <td>62.0</td>\n",
       "      <td>cozily</td>\n",
       "      <td>50168.0</td>\n",
       "      <td>married</td>\n",
       "      <td>practical</td>\n",
       "      <td>athletics</td>\n",
       "      <td>102526.0</td>\n",
       "      <td>urban</td>\n",
       "      <td>no response</td>\n",
       "    </tr>\n",
       "    <tr>\n",
       "      <th>1</th>\n",
       "      <td>8Tv0hcce</td>\n",
       "      <td>34.0</td>\n",
       "      <td>active</td>\n",
       "      <td>66479.0</td>\n",
       "      <td>married</td>\n",
       "      <td>expensive</td>\n",
       "      <td>soccer</td>\n",
       "      <td>33006.0</td>\n",
       "      <td>urban</td>\n",
       "      <td>no response</td>\n",
       "    </tr>\n",
       "    <tr>\n",
       "      <th>2</th>\n",
       "      <td>Zny9ysbk</td>\n",
       "      <td>69.0</td>\n",
       "      <td>healthy</td>\n",
       "      <td>16592.0</td>\n",
       "      <td>single</td>\n",
       "      <td>expensive</td>\n",
       "      <td>badminton</td>\n",
       "      <td>118760.0</td>\n",
       "      <td>urban</td>\n",
       "      <td>response</td>\n",
       "    </tr>\n",
       "  </tbody>\n",
       "</table>\n",
       "</div>"
      ],
      "text/plain": [
       "       name   age lifestyle  zip code family status        car     sports  \\\n",
       "0  VnSEFOuL  62.0    cozily   50168.0       married  practical  athletics   \n",
       "1  8Tv0hcce  34.0    active   66479.0       married  expensive     soccer   \n",
       "2  Zny9ysbk  69.0   healthy   16592.0        single  expensive  badminton   \n",
       "\n",
       "   earnings living area        label  \n",
       "0  102526.0       urban  no response  \n",
       "1   33006.0       urban  no response  \n",
       "2  118760.0       urban     response  "
      ]
     },
     "execution_count": 3,
     "metadata": {},
     "output_type": "execute_result"
    }
   ],
   "source": [
    "# Number of rows and columns in the dataframe\n",
    "print(df_population_raw.shape)\n",
    "df_population_raw.head(3) #visualize dataframe"
   ]
  },
  {
   "cell_type": "code",
   "execution_count": 4,
   "metadata": {},
   "outputs": [],
   "source": [
    "df_population_raw[['zip code', 'age', 'earnings']] = df_population_raw[['zip code', 'age', 'earnings']].astype(int)"
   ]
  },
  {
   "cell_type": "code",
   "execution_count": 5,
   "metadata": {},
   "outputs": [
    {
     "data": {
      "text/html": [
       "<div>\n",
       "<style scoped>\n",
       "    .dataframe tbody tr th:only-of-type {\n",
       "        vertical-align: middle;\n",
       "    }\n",
       "\n",
       "    .dataframe tbody tr th {\n",
       "        vertical-align: top;\n",
       "    }\n",
       "\n",
       "    .dataframe thead th {\n",
       "        text-align: right;\n",
       "    }\n",
       "</style>\n",
       "<table border=\"1\" class=\"dataframe\">\n",
       "  <thead>\n",
       "    <tr style=\"text-align: right;\">\n",
       "      <th></th>\n",
       "      <th>age</th>\n",
       "      <th>zip code</th>\n",
       "      <th>earnings</th>\n",
       "    </tr>\n",
       "  </thead>\n",
       "  <tbody>\n",
       "    <tr>\n",
       "      <th>count</th>\n",
       "      <td>10000.000000</td>\n",
       "      <td>10000.000000</td>\n",
       "      <td>10000.000000</td>\n",
       "    </tr>\n",
       "    <tr>\n",
       "      <th>mean</th>\n",
       "      <td>42.090700</td>\n",
       "      <td>55227.270600</td>\n",
       "      <td>85337.799600</td>\n",
       "    </tr>\n",
       "    <tr>\n",
       "      <th>std</th>\n",
       "      <td>15.874416</td>\n",
       "      <td>26139.756227</td>\n",
       "      <td>37554.523323</td>\n",
       "    </tr>\n",
       "    <tr>\n",
       "      <th>min</th>\n",
       "      <td>15.000000</td>\n",
       "      <td>10003.000000</td>\n",
       "      <td>20006.000000</td>\n",
       "    </tr>\n",
       "    <tr>\n",
       "      <th>25%</th>\n",
       "      <td>28.000000</td>\n",
       "      <td>32708.250000</td>\n",
       "      <td>53237.250000</td>\n",
       "    </tr>\n",
       "    <tr>\n",
       "      <th>50%</th>\n",
       "      <td>42.000000</td>\n",
       "      <td>55290.000000</td>\n",
       "      <td>85617.500000</td>\n",
       "    </tr>\n",
       "    <tr>\n",
       "      <th>75%</th>\n",
       "      <td>56.000000</td>\n",
       "      <td>77967.750000</td>\n",
       "      <td>118111.000000</td>\n",
       "    </tr>\n",
       "    <tr>\n",
       "      <th>max</th>\n",
       "      <td>69.000000</td>\n",
       "      <td>99982.000000</td>\n",
       "      <td>149975.000000</td>\n",
       "    </tr>\n",
       "  </tbody>\n",
       "</table>\n",
       "</div>"
      ],
      "text/plain": [
       "                age      zip code       earnings\n",
       "count  10000.000000  10000.000000   10000.000000\n",
       "mean      42.090700  55227.270600   85337.799600\n",
       "std       15.874416  26139.756227   37554.523323\n",
       "min       15.000000  10003.000000   20006.000000\n",
       "25%       28.000000  32708.250000   53237.250000\n",
       "50%       42.000000  55290.000000   85617.500000\n",
       "75%       56.000000  77967.750000  118111.000000\n",
       "max       69.000000  99982.000000  149975.000000"
      ]
     },
     "execution_count": 5,
     "metadata": {},
     "output_type": "execute_result"
    }
   ],
   "source": [
    "# General statistics of the data\n",
    "df_population_raw.describe()"
   ]
  },
  {
   "cell_type": "code",
   "execution_count": 6,
   "metadata": {},
   "outputs": [
    {
     "name": "stdout",
     "output_type": "stream",
     "text": [
      "<class 'pandas.core.frame.DataFrame'>\n",
      "RangeIndex: 10000 entries, 0 to 9999\n",
      "Data columns (total 10 columns):\n",
      " #   Column         Non-Null Count  Dtype \n",
      "---  ------         --------------  ----- \n",
      " 0   name           10000 non-null  object\n",
      " 1   age            10000 non-null  int64 \n",
      " 2   lifestyle      10000 non-null  object\n",
      " 3   zip code       10000 non-null  int64 \n",
      " 4   family status  10000 non-null  object\n",
      " 5   car            10000 non-null  object\n",
      " 6   sports         8500 non-null   object\n",
      " 7   earnings       10000 non-null  int64 \n",
      " 8   living area    10000 non-null  object\n",
      " 9   label          10000 non-null  object\n",
      "dtypes: int64(3), object(7)\n",
      "memory usage: 781.4+ KB\n"
     ]
    }
   ],
   "source": [
    "# Dataframe columns information: type and missing values\n",
    "df_population_raw.info()\n"
   ]
  },
  {
   "cell_type": "markdown",
   "metadata": {},
   "source": [
    "### 2.2. Data cleaning\n",
    "#### - missing values imputation"
   ]
  },
  {
   "cell_type": "code",
   "execution_count": 7,
   "metadata": {},
   "outputs": [
    {
     "name": "stdout",
     "output_type": "stream",
     "text": [
      "False    8500\n",
      "True     1500\n",
      "Name: sports, dtype: int64\n"
     ]
    }
   ],
   "source": [
    "print(df_population_raw['sports'].isna().value_counts())"
   ]
  },
  {
   "cell_type": "code",
   "execution_count": 8,
   "metadata": {},
   "outputs": [],
   "source": [
    "# there are 1500 cells in the sport column with no value. We replace them with \"Unknown\"\n",
    "df_population_raw['sports'] = df_population_raw['sports'].fillna('unknown')"
   ]
  },
  {
   "cell_type": "markdown",
   "metadata": {},
   "source": [
    "#### - deduplication"
   ]
  },
  {
   "cell_type": "code",
   "execution_count": 9,
   "metadata": {},
   "outputs": [
    {
     "name": "stdout",
     "output_type": "stream",
     "text": [
      "we have 0 duplicate name values\n"
     ]
    }
   ],
   "source": [
    "duplicateID = df_population_raw[df_population_raw.duplicated(['name'])]\n",
    "print(\"we have\", len(duplicateID.index), \"duplicate name values\")"
   ]
  },
  {
   "cell_type": "markdown",
   "metadata": {},
   "source": [
    "<a id='Data_Understanding'></a>\n",
    "## 3. Data Understanding - Exploratory Data Analysis (EDA)"
   ]
  },
  {
   "cell_type": "markdown",
   "metadata": {},
   "source": [
    "### 3.1 Data Exploration basics: is our dataset balanced? And what is the total % of response?"
   ]
  },
  {
   "cell_type": "code",
   "execution_count": 10,
   "metadata": {},
   "outputs": [],
   "source": [
    "categorical_variables = ['lifestyle', 'family status', 'car', 'sports', 'living area']\n",
    "df_categorical = df_population_raw[categorical_variables]"
   ]
  },
  {
   "cell_type": "code",
   "execution_count": 11,
   "metadata": {},
   "outputs": [
    {
     "data": {
      "text/plain": [
       "Text(0, 0.5, '%')"
      ]
     },
     "execution_count": 11,
     "metadata": {},
     "output_type": "execute_result"
    },
    {
     "data": {
      "image/png": "[encoded data removed]",
      "text/plain": [
       "<Figure size 432x288 with 1 Axes>"
      ]
     },
     "metadata": {
      "needs_background": "light"
     },
     "output_type": "display_data"
    }
   ],
   "source": [
    "total_population = len(df_population_raw.index)\n",
    "(df_categorical.apply(pd.value_counts).T.stack()/(total_population/100)).plot(kind='bar',  legend=False) #plot % for each categorical feature\n",
    "plt.ylabel('%')"
   ]
  },
  {
   "cell_type": "markdown",
   "metadata": {},
   "source": [
    "**% response = 33.6**"
   ]
  },
  {
   "cell_type": "code",
   "execution_count": 12,
   "metadata": {},
   "outputs": [
    {
     "name": "stdout",
     "output_type": "stream",
     "text": [
      "response percentage (%)\n",
      "no response    66.4\n",
      "response       33.6\n",
      "Name: label, dtype: float64\n"
     ]
    }
   ],
   "source": [
    "print('response percentage (%)')\n",
    "print(df_population_raw['label'].value_counts()*100/total_population)"
   ]
  },
  {
   "cell_type": "markdown",
   "metadata": {},
   "source": [
    "### 3.2 Data Exploration basics: age and earning outliers? "
   ]
  },
  {
   "cell_type": "code",
   "execution_count": 13,
   "metadata": {},
   "outputs": [
    {
     "name": "stderr",
     "output_type": "stream",
     "text": [
      "/home/marco/anaconda3/lib/python3.8/site-packages/seaborn/distributions.py:2557: FutureWarning:\n",
      "\n",
      "`distplot` is a deprecated function and will be removed in a future version. Please adapt your code to use either `displot` (a figure-level function with similar flexibility) or `histplot` (an axes-level function for histograms).\n",
      "\n"
     ]
    },
    {
     "data": {
      "image/png": "[encoded data removed]",
      "text/plain": [
       "<Figure size 432x288 with 1 Axes>"
      ]
     },
     "metadata": {},
     "output_type": "display_data"
    }
   ],
   "source": [
    "sns.set(style=\"whitegrid\")\n",
    "\n",
    "ax = sns.distplot(df_population_raw['age'])"
   ]
  },
  {
   "cell_type": "code",
   "execution_count": 14,
   "metadata": {},
   "outputs": [
    {
     "name": "stderr",
     "output_type": "stream",
     "text": [
      "/home/marco/anaconda3/lib/python3.8/site-packages/seaborn/distributions.py:2557: FutureWarning:\n",
      "\n",
      "`distplot` is a deprecated function and will be removed in a future version. Please adapt your code to use either `displot` (a figure-level function with similar flexibility) or `histplot` (an axes-level function for histograms).\n",
      "\n"
     ]
    },
    {
     "data": {
      "image/png": "[encoded data removed]",
      "text/plain": [
       "<Figure size 432x288 with 1 Axes>"
      ]
     },
     "metadata": {},
     "output_type": "display_data"
    }
   ],
   "source": [
    "sns.set(style=\"whitegrid\")\n",
    "\n",
    "ax = sns.distplot(df_population_raw['earnings'], color = 'r')"
   ]
  },
  {
   "cell_type": "code",
   "execution_count": 15,
   "metadata": {},
   "outputs": [],
   "source": [
    "df_population = df_population_raw\n",
    "\n",
    "# Creating different datasets for response and non-response\n",
    "df_responded = df_population[df_population['label'] == 'no response']\n",
    "df_nonresponded = df_population[df_population['label'] == 'response']"
   ]
  },
  {
   "cell_type": "markdown",
   "metadata": {},
   "source": [
    "<a id='Business_Questions'></a>\n",
    "## 4. Business Questions "
   ]
  },
  {
   "cell_type": "markdown",
   "metadata": {},
   "source": [
    " ### 4.1 How do age an income correlate to response?  "
   ]
  },
  {
   "cell_type": "markdown",
   "metadata": {},
   "source": [
    "Age distribution of responses"
   ]
  },
  {
   "cell_type": "code",
   "execution_count": 16,
   "metadata": {},
   "outputs": [
    {
     "data": {
      "image/png": "[encoded data removed]",
      "text/plain": [
       "<PIL.PngImagePlugin.PngImageFile image mode=RGBA size=700x500 at 0x7F88325DDF70>"
      ]
     },
     "execution_count": 16,
     "metadata": {},
     "output_type": "execute_result"
    }
   ],
   "source": [
    "# Filling in the data inside the Violin Objects\n",
    "\n",
    "violin_responders_age = go.Violin(\n",
    "    y=df_responded['age'],\n",
    "    x=df_responded['label'],\n",
    "    name='Responders',\n",
    "    marker_color='forestgreen',\n",
    "    box_visible=True)\n",
    "\n",
    "violin_nonresponders_age = go.Violin(\n",
    "    y=df_nonresponded['age'],\n",
    "    x=df_nonresponded['label'],\n",
    "    name='Non-Responders',\n",
    "    marker_color='darkred',\n",
    "    box_visible=True)\n",
    "\n",
    "data_age = [violin_responders_age, violin_nonresponders_age]\n",
    "\n",
    "\n",
    "# Plot's Layout (background color, title, etc.)\n",
    "layout = go.Layout(\n",
    "    paper_bgcolor='rgba(0,0,0,0)',\n",
    "    plot_bgcolor='rgba(0,0,0,0)',\n",
    "    title='Ages of responders vs Ages of non-responders',\n",
    "  xaxis=dict(\n",
    "        title='Responded or not'\n",
    "    ),\n",
    "    yaxis=dict(\n",
    "        title='Age'\n",
    "    )\n",
    ")\n",
    "\n",
    "fig1 = go.Figure(data=data_age, layout=layout)\n",
    "\n",
    "# save and display the image\n",
    "if not os.path.exists(\"images\"):\n",
    "    os.mkdir(\"images\")\n",
    "fig1.write_image(\"images/fig1.png\")\n",
    "\n",
    "\n",
    "image1 = Image.open(\"images/fig1.png\")\n",
    "image1"
   ]
  },
  {
   "cell_type": "markdown",
   "metadata": {},
   "source": [
    "Income distribution of responses"
   ]
  },
  {
   "cell_type": "code",
   "execution_count": 17,
   "metadata": {},
   "outputs": [
    {
     "data": {
      "image/png": "[encoded data removed]",
      "text/plain": [
       "<PIL.PngImagePlugin.PngImageFile image mode=RGBA size=700x500 at 0x7F8832609760>"
      ]
     },
     "execution_count": 17,
     "metadata": {},
     "output_type": "execute_result"
    }
   ],
   "source": [
    "# Filling in the data inside the Violin Objects\n",
    "\n",
    "violin_responders_income = go.Violin(\n",
    "    y=df_responded['earnings'],\n",
    "    x=df_responded['label'],\n",
    "    name='Responders',\n",
    "    marker_color='forestgreen',\n",
    "    box_visible=True)\n",
    "\n",
    "violin_nonresponders_income = go.Violin(\n",
    "    y=df_nonresponded['earnings'],\n",
    "    x=df_nonresponded['label'],\n",
    "    name='Non-Responders',\n",
    "    marker_color='darkred',\n",
    "    box_visible=True)\n",
    "\n",
    "income_data = [violin_responders_income, violin_nonresponders_income]\n",
    "\n",
    "# plot data\n",
    "# Plot's Layout (background color, title, etc.)\n",
    "layout = go.Layout(\n",
    "    paper_bgcolor='rgba(0,0,0,0)',\n",
    "    plot_bgcolor='rgba(0,0,0,0)',\n",
    "    title='Income of responders vs that of non-responders',\n",
    "  xaxis=dict(\n",
    "        title='Responded or not'\n",
    "    ),\n",
    "    yaxis=dict(\n",
    "        title='Income'\n",
    "    )\n",
    ")\n",
    "fig2 = go.Figure(data= income_data, layout=layout)\n",
    "\n",
    "fig2.write_image(\"images/fig2.png\")\n",
    "\n",
    "\n",
    "image2 = Image.open(\"images/fig2.png\")\n",
    "image2"
   ]
  },
  {
   "cell_type": "code",
   "execution_count": 22,
   "metadata": {},
   "outputs": [
    {
     "name": "stdout",
     "output_type": "stream",
     "text": [
      "no correlation between age and income\n"
     ]
    },
    {
     "data": {
      "image/png": "[encoded data removed]",
      "text/plain": [
       "<Figure size 432x288 with 1 Axes>"
      ]
     },
     "metadata": {},
     "output_type": "display_data"
    }
   ],
   "source": [
    "\n",
    "sns.regplot(x=\"age\", y=\"earnings\", data=df_population, marker=\"+\")\n",
    "print('no correlation between age and income')"
   ]
  },
  {
   "cell_type": "code",
   "execution_count": null,
   "metadata": {},
   "outputs": [],
   "source": [
    "plt.savefig(\"data/1_seaborn_pair_plot.png\")"
   ]
  },
  {
   "cell_type": "markdown",
   "metadata": {},
   "source": [
    " ### 4.2 Which is the geographical distribution of responses?\n",
    " We don't have coordinates but we can extract geodata from ZIP codes"
   ]
  },
  {
   "cell_type": "code",
   "execution_count": null,
   "metadata": {},
   "outputs": [],
   "source": [
    "# convert responses into binary (no = 0, yes = 1)\n",
    "df_population['response'] = df_population['label']\n",
    "df_population  = df_population.replace({'response': {'no response': 0, 'response': 1}})\n",
    "\n",
    "df_geo = df_population[['zip code','response']] # select relevant features\n",
    "\n",
    "# amount of responses for each zipcode\n",
    "#df_geo = df_geo.groupby(['zip code']).sum().reset_index()"
   ]
  },
  {
   "cell_type": "code",
   "execution_count": null,
   "metadata": {},
   "outputs": [],
   "source": [
    "print(df_geo.shape)"
   ]
  },
  {
   "cell_type": "code",
   "execution_count": null,
   "metadata": {},
   "outputs": [],
   "source": [
    "geo_zip_search = SearchEngine()  # search geographical infos from the zip code \n",
    "df_geo['state'] = df_geo['zip code'].apply(lambda x: geo_zip_search.by_zipcode(x).state) # apply search to each row in the zip code column and return the corresponding state"
   ]
  },
  {
   "cell_type": "code",
   "execution_count": null,
   "metadata": {},
   "outputs": [],
   "source": [
    "# amount of responses by state\n",
    "df_state = df_geo[['state', 'response']]\n",
    "df_state['responsecount'] = df_state['response'] \n",
    "df_state = df_state.groupby(['state']).agg({'response':'sum','responsecount':'count'}).reset_index()\n",
    "df_state['percentage_response'] = round((df_state['response']/df_state['responsecount'])*100, 1)\n"
   ]
  },
  {
   "cell_type": "code",
   "execution_count": null,
   "metadata": {},
   "outputs": [],
   "source": [
    "df_pop = pd.read_csv('data/population_bystate.csv')\n",
    "df_state = df_state.merge(df_pop[['State', 'Code']], how = 'inner', left_on = 'state', right_on = 'Code')"
   ]
  },
  {
   "cell_type": "code",
   "execution_count": null,
   "metadata": {},
   "outputs": [],
   "source": [
    "df_state = df_state.drop(['state'], axis=1)"
   ]
  },
  {
   "cell_type": "code",
   "execution_count": null,
   "metadata": {},
   "outputs": [],
   "source": [
    "df_state = df_state.sort_values(by=['percentage_response'],ascending=False)"
   ]
  },
  {
   "cell_type": "code",
   "execution_count": null,
   "metadata": {},
   "outputs": [],
   "source": [
    "plt.figure(figsize= (12,6))\n",
    "plt.suptitle('Response by state', fontsize=18, color = 'b')\n",
    "#plt.bar(df_state[\"State\"], df_state[\"percentage_response\"], color = \"g\")\n",
    "ax = sns.barplot(x='State', y=\"percentage_response\", data=df_state,palette=\"viridis\")\n",
    "plt.xticks(rotation=90)\n",
    "\n",
    "plt.ylabel('% responses', fontsize = 16)\n",
    "plt.xlabel('State',fontsize = 16)\n"
   ]
  },
  {
   "cell_type": "markdown",
   "metadata": {},
   "source": [
    "Visualization on US map"
   ]
  },
  {
   "cell_type": "code",
   "execution_count": null,
   "metadata": {},
   "outputs": [],
   "source": [
    "# initialize the map and store it in a m object\n",
    "m = folium.Map(location=[40, -95], zoom_start=4)\n",
    "\n",
    "\n",
    "url = 'https://raw.githubusercontent.com/python-visualization/folium/master/examples/data'\n",
    "state_geo = f'{url}/us-states.json'"
   ]
  },
  {
   "cell_type": "code",
   "execution_count": null,
   "metadata": {},
   "outputs": [],
   "source": [
    "tests_proportion = df_state[['Code','percentage_response']]\n",
    "\n",
    "folium.Choropleth(\n",
    "geo_data=state_geo,\n",
    "name='choropleth',\n",
    "data = tests_proportion,\n",
    "columns = ['Code','percentage_response'],\n",
    "key_on='feature.id',\n",
    "fill_color='YlGn',\n",
    "fill_opacity=0.6,\n",
    "line_opacity=0.2,\n",
    "legend_name='Response (%)'\n",
    ").add_to(m)"
   ]
  },
  {
   "cell_type": "code",
   "execution_count": null,
   "metadata": {},
   "outputs": [],
   "source": [
    "map_data = m._to_png(5)\n",
    "mappa = Image.open(io.BytesIO(map_data))\n",
    "\n",
    "\n",
    "mappa.save('images/cloropleth.png')\n",
    "image3 = Image.open(\"images/cloropleth.png\")\n",
    "image3"
   ]
  },
  {
   "cell_type": "markdown",
   "metadata": {},
   "source": [
    "How well is each state represented?"
   ]
  },
  {
   "cell_type": "code",
   "execution_count": null,
   "metadata": {},
   "outputs": [],
   "source": [
    "plt.figure(figsize= (12,6))\n",
    "plt.suptitle('Mailings by state', fontsize=18, color = 'b')\n",
    "# I plot counts of sent mailings rather than response rate\n",
    "ax = sns.barplot(x='State', y=\"responsecount\", data=df_state,palette=\"viridis\") \n",
    "plt.xticks(rotation=90)\n",
    "\n",
    "plt.ylabel('count', fontsize = 16)\n",
    "plt.xlabel('State',fontsize = 16)"
   ]
  },
  {
   "cell_type": "markdown",
   "metadata": {},
   "source": [
    "Mailings are not evenly distributed among states. However a sample of nearly 250 mailings for New York (NY) indicates the high response rate for this state is significative.\n",
    "Based on these observation a geographical feature \"newyorker\" can be made to distinguish those living in NY"
   ]
  },
  {
   "cell_type": "code",
   "execution_count": null,
   "metadata": {},
   "outputs": [],
   "source": [
    "# let's identify the relevant postcodes for NY area\n",
    "df_ny = df_geo[df_geo['state'] == 'NY']\n",
    "NY_zipcodes = df_ny['zip code'].tolist()\n",
    "print(\"there are\", len(NY_zipcodes), \"zipcodes targeted in the state of New York\")\n",
    "print('this is the highest response area')"
   ]
  },
  {
   "cell_type": "code",
   "execution_count": null,
   "metadata": {},
   "outputs": [],
   "source": [
    "# save it to file for further feature engineering\n",
    "ny_file = open(\"data/ny_addresses.pickle\", \"wb\")\n",
    "pickle.dump(NY_zipcodes, ny_file)\n",
    "ny_file.close()"
   ]
  },
  {
   "cell_type": "code",
   "execution_count": null,
   "metadata": {},
   "outputs": [],
   "source": [
    "# saving the dataframe \n",
    "df_population.to_csv('data/population.csv') "
   ]
  },
  {
   "cell_type": "markdown",
   "metadata": {},
   "source": [
    "<a id='Conclusions'></a>\n",
    "## 5.0 Conclusions - part one"
   ]
  },
  {
   "cell_type": "markdown",
   "metadata": {},
   "source": [
    "### **What % response did we get from all mailings?**\n",
    "33.6% of the population that received mailings responded\n"
   ]
  },
  {
   "cell_type": "markdown",
   "metadata": {},
   "source": [
    "### **Are categorical features balanced?**\n",
    "Yes. Some more data from urban (60%) than from rural area (40%), otherwise the other categorcal variables present a fairly even distribution. Even distribution can be observed also for the numerical variables (age, income). \n"
   ]
  },
  {
   "cell_type": "markdown",
   "metadata": {},
   "source": [
    "### **Is there a correlation between numerical variables such as age and income to the response rate?**\n",
    "Yes. Higher response rate comes from older population (60-70 years old) with a higher income (150k/year)."
   ]
  },
  {
   "cell_type": "markdown",
   "metadata": {},
   "source": [
    "### **What is the geographical distribution of our response rate in US?**\n",
    "Theresponse rate in New York area (85%) is much higher than for the rest of the country where is in 20-40% range. "
   ]
  },
  {
   "cell_type": "markdown",
   "metadata": {},
   "source": [
    "### 5.1 Next Steps"
   ]
  },
  {
   "cell_type": "markdown",
   "metadata": {},
   "source": [
    "In my next notebook, I will be engineer features to create a dataframe to be modelled, then I will be conducting a model evaluation to try to find the best algorithm that predicts the response rate based on population features."
   ]
  }
 ],
 "metadata": {
  "kernelspec": {
   "display_name": "Python 3",
   "language": "python",
   "name": "python3"
  },
  "language_info": {
   "codemirror_mode": {
    "name": "ipython",
    "version": 3
   },
   "file_extension": ".py",
   "mimetype": "text/x-python",
   "name": "python",
   "nbconvert_exporter": "python",
   "pygments_lexer": "ipython3",
   "version": "3.8.3"
  }
 },
 "nbformat": 4,
 "nbformat_minor": 4
}
